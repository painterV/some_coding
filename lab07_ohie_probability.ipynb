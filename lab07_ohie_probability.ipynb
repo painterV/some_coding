{
  "cells": [
    {
      "cell_type": "markdown",
      "metadata": {
        "id": "view-in-github",
        "colab_type": "text"
      },
      "source": [
        "<a href=\"https://colab.research.google.com/github/painterV/some_coding/blob/main/lab07_ohie_probability.ipynb\" target=\"_parent\"><img src=\"https://colab.research.google.com/assets/colab-badge.svg\" alt=\"Open In Colab\"/></a>"
      ]
    },
    {
      "cell_type": "markdown",
      "metadata": {
        "id": "F63j5oZOoPj5"
      },
      "source": [
        "# OHIE"
      ]
    },
    {
      "cell_type": "markdown",
      "metadata": {
        "id": "P_yiqZSLoPj8"
      },
      "source": [
        "The Oregon Health Insurance Experiment (OHIE) was a program run in\n",
        "Oregon, USA in 2008 in which certain residents of that state were\n",
        "offered the opportunity to enroll in a subsidized health insurance\n",
        "program.  To allocate this opportunity fairly, interested people\n",
        "were invited to participate in a lottery.  The people who won the\n",
        "lottery (\"treated\") were then given the opportunity to apply to the insurance\n",
        "program.  A subset of these people actually applied to the program,\n",
        "and finally a subset of these applicants who were confirmed to be\n",
        "eligible were granted insurance."
      ]
    },
    {
      "cell_type": "markdown",
      "metadata": {
        "id": "ZiY-gntxoPj9"
      },
      "source": [
        "Since the opportunity to apply for insurance was allocated randomly with all households having equal probability of being selected,\n",
        "this program is essentially a randomized experiment (although the\n",
        "randomization was employed for fairness, not to facilitate\n",
        "research).  In particular, there was great interest in the outcomes\n",
        "over the subsequent several years of the people who were awarded\n",
        "insurance, compared to those who participated in the lottery but\n",
        "were not selected.  Since this selection was random, in principal\n",
        "both the treatment measurment should not be associated with any other measurement. For example, treated households should be similar in age or income to the non-treated households."
      ]
    },
    {
      "cell_type": "markdown",
      "metadata": {
        "id": "BJX-uOJMoPj-"
      },
      "source": [
        "In this notebook, we only consider the \"baseline\" information,\n",
        "namely, characteristics of the individuals who applied to the\n",
        "lottery.  We also know who \"won\" the lottery, who among those given\n",
        "the opportunity to apply for insurance actually did so, and who\n",
        "among those who applied for insurance were deemed to be eligible and\n",
        "granted insurance."
      ]
    },
    {
      "cell_type": "markdown",
      "metadata": {
        "id": "a6Pp_UYyoPj-"
      },
      "source": [
        "A primary focus of this notebook is to use the OHIE data to\n",
        "illustrate concepts from probability, including conditional\n",
        "probabilities and conditional independence."
      ]
    },
    {
      "cell_type": "code",
      "execution_count": null,
      "metadata": {
        "id": "W8NmXuFloPj_"
      },
      "outputs": [],
      "source": [
        "import os\n",
        "import pandas as pd\n",
        "import numpy as np"
      ]
    },
    {
      "cell_type": "markdown",
      "metadata": {
        "id": "wdffpoeRoPkA"
      },
      "source": [
        "Load the OHIE data from a file:"
      ]
    },
    {
      "cell_type": "code",
      "execution_count": null,
      "metadata": {
        "id": "lQKf0YOuoPkC"
      },
      "outputs": [],
      "source": [
        "section = \"100\"\n",
        "base = \"/scratch/stats206s%sf22_class_root/stats206s%sf22_class/materials/data\" % (section, section)\n",
        "df = pd.read_csv(os.path.join(base, \"oregonhie.csv.gz\"))\n",
        "df.columns"
      ]
    },
    {
      "cell_type": "markdown",
      "metadata": {
        "id": "B9KaPzatoPkC"
      },
      "source": [
        "## Proportions"
      ]
    },
    {
      "cell_type": "markdown",
      "metadata": {
        "id": "PreVbeoEoPkD"
      },
      "source": [
        "Before beginning, subsequent computations are little easier if we translate the way the data were originally coded into True/False values instead of the two level categories they are stored as originally."
      ]
    },
    {
      "cell_type": "code",
      "execution_count": null,
      "metadata": {
        "id": "FxSL6N9joPkD"
      },
      "outputs": [],
      "source": [
        "df[\"female_list\"].value_counts(dropna = False)"
      ]
    },
    {
      "cell_type": "code",
      "execution_count": null,
      "metadata": {
        "id": "c5CguUdwoPkD"
      },
      "outputs": [],
      "source": [
        "df[\"female\"] = df[\"female_list\"] == \"1: Female\"\n",
        "\n",
        "df[\"have_phone_list\"].value_counts(dropna = False)"
      ]
    },
    {
      "cell_type": "code",
      "execution_count": null,
      "metadata": {
        "id": "7OCOkLiuoPkE"
      },
      "outputs": [],
      "source": [
        "df[\"has_phone\"] = df[\"have_phone_list\"] == \"Gave Phone Number\"\n",
        "\n",
        "df[\"treatment\"].value_counts(dropna = False)"
      ]
    },
    {
      "cell_type": "code",
      "execution_count": null,
      "metadata": {
        "id": "VG2Cvax0oPkE"
      },
      "outputs": [],
      "source": [
        "df[\"treatment\"] = df[\"treatment\"] == \"Selected\"\n",
        "\n",
        "df[\"applied_app\"].value_counts(dropna = False)"
      ]
    },
    {
      "cell_type": "code",
      "execution_count": null,
      "metadata": {
        "id": "weWIoyk2oPkE"
      },
      "outputs": [],
      "source": [
        "df[\"applied_app\"] = df[\"applied_app\"] == \"Submitted an Application to OHP\"\n",
        "\n",
        "df[\"approved_app\"].value_counts(dropna = False)"
      ]
    },
    {
      "cell_type": "code",
      "execution_count": null,
      "metadata": {
        "id": "rRkdQebnoPkE"
      },
      "outputs": [],
      "source": [
        "df[\"approved_app\"] = df[\"approved_app\"] == \"Yes\"\n",
        "\n",
        "df[\"zip_msa_list\"].value_counts(dropna = False)"
      ]
    },
    {
      "cell_type": "code",
      "execution_count": null,
      "metadata": {
        "id": "0gHixyctoPkF"
      },
      "outputs": [],
      "source": [
        "df[\"zip_msa\"] = df[\"zip_msa_list\"] == \"Zip code of residence in a MSA\""
      ]
    },
    {
      "cell_type": "markdown",
      "metadata": {
        "id": "CoQYG7xroPkF"
      },
      "source": [
        "Why did we transform these labels to True/False values? To remind yourself, compute the proportion of people in the table that are female. What proportion are both female and were selected for treatment?"
      ]
    },
    {
      "cell_type": "code",
      "execution_count": null,
      "metadata": {
        "id": "LwN9rxb7oPkG"
      },
      "outputs": [],
      "source": []
    },
    {
      "cell_type": "markdown",
      "metadata": {
        "id": "H1lcPFM8oPkG"
      },
      "source": [
        "<details>\n",
        "    \n",
        "```    \n",
        "(df[\"female\"].mean(), (df[\"female\"] & df[\"treatment\"]).mean())\n",
        "```\n",
        "    \n",
        "</details>"
      ]
    },
    {
      "cell_type": "markdown",
      "metadata": {
        "id": "0jQRYF1woPkG"
      },
      "source": [
        "Suppose we selected a random person from this table. What is the probability that we would select a female? What is the probability we would select someone who is both female and treated?\n",
        "\n",
        "Recall the definition of probability of an event:\n",
        "\n",
        "$$P(\\text{event}) = \\frac{\\text{all outcomes where event occurs}}{\\text{all possible outcomes}}$$\n",
        "\n",
        "For the event \"is female\", what are the numerator and denominator in this equation?"
      ]
    },
    {
      "cell_type": "code",
      "execution_count": null,
      "metadata": {
        "id": "0-rA3kJ-oPkH"
      },
      "outputs": [],
      "source": []
    },
    {
      "cell_type": "markdown",
      "metadata": {
        "id": "bZ-na28SoPkH"
      },
      "source": [
        "<details>\n",
        "```\n",
        "[df[\"female\"].sum(), # over\n",
        " df.shape[0]]\n",
        "```\n",
        "</details>"
      ]
    },
    {
      "cell_type": "markdown",
      "metadata": {
        "id": "7Ml6Z18koPkH"
      },
      "source": [
        "Let's verify the idea of proportions as **empirical probabilities** (probability of event in occuring in data set). Use the [sample method](https://pandas.pydata.org/docs/reference/api/pandas.DataFrame.sample.html) to randomly select 1 person 1000000 times using `n = 1000000` and `replace = True`. What proportion of these people were female? Female and treated? (The numbers won't be exactly the same, but they should be very close.)"
      ]
    },
    {
      "cell_type": "code",
      "execution_count": null,
      "metadata": {
        "id": "nq1IfskCoPkH"
      },
      "outputs": [],
      "source": []
    },
    {
      "cell_type": "markdown",
      "metadata": {
        "id": "yTylHVspoPkH"
      },
      "source": [
        "<details>\n",
        "```\n",
        "sampled_people = df.sample(n = 1000000, replace = True)\n",
        "[sampled_people[\"female\"].mean(),\n",
        "    (sampled_people[\"female\"] & sampled_people[\"treatment\"]).mean()]\n",
        "```\n",
        "</details>"
      ]
    },
    {
      "cell_type": "markdown",
      "metadata": {
        "id": "5sURkGFpoPkH"
      },
      "source": [
        "## Households"
      ]
    },
    {
      "cell_type": "markdown",
      "metadata": {
        "id": "DGA6oI4ZoPkH"
      },
      "source": [
        "One particular feature of this lottery in Oregon is that treatment was allocated by household, not by individuals. Some of the probabilities we will want to calculate must be done so at the household level."
      ]
    },
    {
      "cell_type": "markdown",
      "metadata": {
        "id": "saYWZ92voPkJ"
      },
      "source": [
        "To confirm that treatment was selected at the household level, group by `\"household_id\"` and run the `.nunique()` method on the `\"treatment\"` column. Are any of the values greater than 1 (indicating the members of the same household receieved different treatment outcomes)?"
      ]
    },
    {
      "cell_type": "code",
      "execution_count": null,
      "metadata": {
        "id": "c7kWAvWjoPkJ"
      },
      "outputs": [],
      "source": []
    },
    {
      "cell_type": "markdown",
      "metadata": {
        "id": "1WGWqdeWoPkJ"
      },
      "source": [
        "<details>\n",
        "    \n",
        "```\n",
        "(df.groupby(\"household_id\")[\"treatment\"].nunique() > 1).any()\n",
        "```\n",
        "    \n",
        "</details>\n"
      ]
    },
    {
      "cell_type": "markdown",
      "metadata": {
        "id": "OBh174pdoPkJ"
      },
      "source": [
        "Create a table `hh` that aggregates to the household level and uses the `first` method to for the 'treatment' and 'zip_msa' columns. For 'applied_app' and 'approved_app' use `max` (which will get the value `True` if anyone in the household applied or was approved). For the columns \"birthyear_list\" use `median`, and for 'female' and 'has_phone' use `mean`."
      ]
    },
    {
      "cell_type": "code",
      "execution_count": null,
      "metadata": {
        "id": "cUMlICYBoPkJ"
      },
      "outputs": [],
      "source": []
    },
    {
      "cell_type": "markdown",
      "metadata": {
        "id": "W6g6LRqBoPkJ"
      },
      "source": [
        "<details>\n",
        "\n",
        "```\n",
        "hh = df.groupby('household_id').agg({'treatment': 'first',\n",
        "                                     'applied_app': 'max',\n",
        "                                     'approved_app': 'max',\n",
        "                                     'zip_msa': 'first',\n",
        "                                     'birthyear_list': 'median',\n",
        "                                     'female': 'mean',\n",
        "                                     'has_phone': 'mean'\n",
        "                                    })\n",
        "hh\n",
        "```\n",
        "\n",
        "</details>\n"
      ]
    },
    {
      "cell_type": "markdown",
      "metadata": {
        "id": "kffbaBlVoPkJ"
      },
      "source": [
        "Let's begin by looking at how many households fall into each category of\n",
        "program participation. Group the `hh` table by \"treatment\", \"applied_app\", and \"approved_app\" and use the `size()` method to see how many people fall into each of the four status categories: not\n",
        "selected, selected but did not apply, applied but deemed ineligible,\n",
        "applied and deemed eligible."
      ]
    },
    {
      "cell_type": "code",
      "execution_count": null,
      "metadata": {
        "id": "gCzJdcFSoPkK"
      },
      "outputs": [],
      "source": []
    },
    {
      "cell_type": "markdown",
      "metadata": {
        "id": "rVPlEKIEoPkK"
      },
      "source": [
        "<details>\n",
        "\n",
        "```\n",
        "status = hh.groupby([\"treatment\", \"applied_app\", \"approved_app\"]).size()\n",
        "status\n",
        "```\n",
        "\n",
        "</details>\n",
        "\n"
      ]
    },
    {
      "cell_type": "markdown",
      "metadata": {
        "id": "OoLE8zRqoPkK"
      },
      "source": [
        "It is desirable to see these counts presented as proportions.  Convert your counts to proportion by dividing by the total."
      ]
    },
    {
      "cell_type": "code",
      "execution_count": null,
      "metadata": {
        "id": "bBemJjiooPkK"
      },
      "outputs": [],
      "source": []
    },
    {
      "cell_type": "markdown",
      "metadata": {
        "id": "lu_3YdZloPkK"
      },
      "source": [
        "<details>\n",
        "\n",
        "```\n",
        "status_prop = status / status.sum()\n",
        "status_prop\n",
        "```\n",
        "\n",
        "</details>\n",
        "\n"
      ]
    },
    {
      "cell_type": "markdown",
      "metadata": {
        "id": "gsgkpOUToPkK"
      },
      "source": [
        "Verify that all these proportions sum to 1, as they must do by the fact that the probability that some event happens must be one (the law of total probablity)"
      ]
    },
    {
      "cell_type": "code",
      "execution_count": null,
      "metadata": {
        "id": "SDQWCgaPoPkK"
      },
      "outputs": [],
      "source": []
    },
    {
      "cell_type": "markdown",
      "metadata": {
        "id": "EfoiRhejoPkK"
      },
      "source": [
        "<details>\n",
        "\n",
        "```\n",
        "status_prop.sum()\n",
        "```\n",
        "\n",
        "</details>\n"
      ]
    },
    {
      "cell_type": "markdown",
      "metadata": {
        "id": "Dx5SVem-oPkK"
      },
      "source": [
        "## Probabilities of events and complements"
      ]
    },
    {
      "cell_type": "markdown",
      "metadata": {
        "id": "1Za6ka3uoPkL"
      },
      "source": [
        "Tables of proportions can be useful for determining probabilities of many combinations of outcomes. What is the probability that a randomly selected household would win the lottery (treatment), but fail to apply for coverage?"
      ]
    },
    {
      "cell_type": "code",
      "execution_count": null,
      "metadata": {
        "id": "DjKsnyvvoPkL"
      },
      "outputs": [],
      "source": []
    },
    {
      "cell_type": "markdown",
      "metadata": {
        "id": "UkkNGcFsoPkL"
      },
      "source": [
        "<details>\n",
        "\n",
        "```\n",
        "status_prop[True, False, False] # or status_prop[True, False,\n",
        "```\n",
        "\n",
        "</details>\n"
      ]
    },
    {
      "cell_type": "markdown",
      "metadata": {
        "id": "-iMYcdmJoPkM"
      },
      "source": [
        "Another way to think about probability for events that includes multiple outcomes is that it is the sum of probabilities of all individual outcomes where the event occurs. What is the probability that a household applies for treatment and also has a successful application? Verify this use the previous results and using the `hh` table. (Due to how missing values are handled, there may be very small discrepancies in these numbers.)"
      ]
    },
    {
      "cell_type": "code",
      "execution_count": null,
      "metadata": {
        "id": "tqImCDagoPkM"
      },
      "outputs": [],
      "source": []
    },
    {
      "cell_type": "markdown",
      "metadata": {
        "id": "qZVFyko_oPkM"
      },
      "source": [
        "<details>\n",
        "\n",
        "```\n",
        "status_prop[True, True].sum()\n",
        "```\n",
        "\n",
        "</details>\n"
      ]
    },
    {
      "cell_type": "markdown",
      "metadata": {
        "id": "vorPjLc9oPkM"
      },
      "source": [
        "<details>\n",
        "\n",
        "```\n",
        "(hh[\"treatment\"] & hh[\"applied_app\"]).mean()\n",
        "```\n",
        "\n",
        "</details>\n"
      ]
    },
    {
      "cell_type": "markdown",
      "metadata": {
        "id": "o1mZCpAQoPkN"
      },
      "source": [
        "Using either the proportions table we have been working on or the `hh` table, what is the probability of a household being selected for treatment? We call this a **marginal probability** (marginal here means \"all by itself\" as compared to a \"joint probability\" involving two or more outcomes)."
      ]
    },
    {
      "cell_type": "code",
      "execution_count": null,
      "metadata": {
        "id": "ToywLmo8oPkN"
      },
      "outputs": [],
      "source": []
    },
    {
      "cell_type": "markdown",
      "metadata": {
        "id": "XF0v-gewoPkN"
      },
      "source": [
        "<details>\n",
        "\n",
        "```\n",
        "status_prop[True].sum()\n",
        "```\n",
        "\n",
        "</details>\n"
      ]
    },
    {
      "cell_type": "markdown",
      "metadata": {
        "id": "vzUWsRP_oPkN"
      },
      "source": [
        "<details>\n",
        "\n",
        "```\n",
        "hh[\"treatment\"].mean()\n",
        "\n",
        "```\n",
        "\n",
        "</details>"
      ]
    },
    {
      "cell_type": "markdown",
      "metadata": {
        "id": "PMqHJ42noPkN"
      },
      "source": [
        "The 'complementary event' to being selected is to not be selected.\n",
        "That is, everyone involved is either selected or not selected, and\n",
        "nobody can be both.  Therefore, another way to calculate the\n",
        "probability of being selected is to take 1 minus the probability of\n",
        "not being selected. Use the complement with the proportions table of not being selected to get the probability of being selected."
      ]
    },
    {
      "cell_type": "code",
      "execution_count": null,
      "metadata": {
        "id": "COpGpMp8oPkN"
      },
      "outputs": [],
      "source": []
    },
    {
      "cell_type": "markdown",
      "metadata": {
        "id": "Sxg9P4uhoPkN"
      },
      "source": [
        "<details>\n",
        "\n",
        "```\n",
        "1 - status_prop[False]\n",
        "\n",
        "```\n",
        "\n",
        "</details>"
      ]
    },
    {
      "cell_type": "markdown",
      "metadata": {
        "id": "nj377QoboPkN"
      },
      "source": [
        "The state of Oregon had a fixed budget for this program, and could\n",
        "not know in advance how many of the people who were selected in the\n",
        "lottery would be deemed eligible for insurance.  Therefore, the\n",
        "probability of being selected in the lottery was presumably set to a\n",
        "conservative level."
      ]
    },
    {
      "cell_type": "markdown",
      "metadata": {
        "id": "4yuZGquroPkO"
      },
      "source": [
        "# Joint probabilities"
      ]
    },
    {
      "cell_type": "markdown",
      "metadata": {
        "id": "DQ4BG3FmoPkO"
      },
      "source": [
        "Events (including several we have seen already) can involve more than one outcome. For example, we have already computed the probability that a household won the lottery but failed to receive apply to the program.\n",
        "\n",
        "Let's now turn to some joint probabilities of the available demographic information along with treatment status for the household."
      ]
    },
    {
      "cell_type": "markdown",
      "metadata": {
        "id": "U_JXD-lMoPkO"
      },
      "source": [
        "We will start using an age group variable that we construct below.\n",
        "First we obtain the age of each subject in the first year of the\n",
        "program, then ask Pandas to group the subjects into three groups of\n",
        "equal size based on age."
      ]
    },
    {
      "cell_type": "code",
      "execution_count": null,
      "metadata": {
        "id": "8RKh9HlJoPkO"
      },
      "outputs": [],
      "source": [
        "hh = df.groupby('household_id').agg({'treatment': 'first',\n",
        "                                     'applied_app': 'max',\n",
        "                                     'approved_app': 'max',\n",
        "                                     'zip_msa': 'first',\n",
        "                                     'birthyear_list': 'median',\n",
        "                                     'female': 'mean',\n",
        "                                     'has_phone': 'mean'\n",
        "                                    })\n",
        "hh[\"age\"] = 2008 - hh[\"birthyear_list\"]\n",
        "hh[\"agegrp\"] = pd.qcut(hh[\"age\"], 3)"
      ]
    },
    {
      "cell_type": "markdown",
      "metadata": {
        "id": "W-QHyUfUoPkO"
      },
      "source": [
        "Construct a 'contingency table' or 'crosstab' showing how many people have\n",
        "each combination of the age group and treatment variables. (Hint: use `groupby`, `size`, and `unstack`)"
      ]
    },
    {
      "cell_type": "code",
      "execution_count": null,
      "metadata": {
        "id": "gAQj0gvNoPkO"
      },
      "outputs": [],
      "source": []
    },
    {
      "cell_type": "markdown",
      "metadata": {
        "id": "G-dZNl5xoPkO"
      },
      "source": [
        "<details>\n",
        "\n",
        "```\n",
        "counts = hh.groupby([\"agegrp\", \"treatment\"]).size().unstack()\n",
        "counts\n",
        "```\n",
        "\n",
        "</details>\n"
      ]
    },
    {
      "cell_type": "markdown",
      "metadata": {
        "id": "TUOkYDyzoPkP"
      },
      "source": [
        "Convert the counts above to proportions. (Hint: you may have to use `sum` twice)"
      ]
    },
    {
      "cell_type": "code",
      "execution_count": null,
      "metadata": {
        "id": "-Xgn0ISqoPkP"
      },
      "outputs": [],
      "source": []
    },
    {
      "cell_type": "markdown",
      "metadata": {
        "id": "We-72FyxoPkP"
      },
      "source": [
        "<details>\n",
        "\n",
        "```\n",
        "probs = counts / counts.sum().sum()\n",
        "probs\n",
        "```\n",
        "\n",
        "</details>\n"
      ]
    },
    {
      "cell_type": "markdown",
      "metadata": {
        "id": "55_YydCHoPkP"
      },
      "source": [
        "The previous table contains sample proportions, which must sum to exactly 1. Show that the values sum to 1."
      ]
    },
    {
      "cell_type": "code",
      "execution_count": null,
      "metadata": {
        "id": "xm7lIh5voPkP"
      },
      "outputs": [],
      "source": []
    },
    {
      "cell_type": "markdown",
      "metadata": {
        "id": "KS1wLYavoPkP"
      },
      "source": [
        "<details>\n",
        "\n",
        "```\n",
        "probs.sum().sum()\n",
        "```\n",
        "\n",
        "</details>\n"
      ]
    },
    {
      "cell_type": "markdown",
      "metadata": {
        "id": "0LZrgXwPoPkP"
      },
      "source": [
        "Find the value of\n",
        "\n",
        "$$P(\\text{Won the lottery and in the old age category})$$\n",
        "\n",
        "(Hint: you may need to refer to your row using position rather than name)"
      ]
    },
    {
      "cell_type": "code",
      "execution_count": null,
      "metadata": {
        "id": "DdhCBGsloPkP"
      },
      "outputs": [],
      "source": []
    },
    {
      "cell_type": "markdown",
      "metadata": {
        "id": "WjupAviloPkQ"
      },
      "source": [
        "<details>\n",
        "\n",
        "```\n",
        "probs[True][2]\n",
        "```\n",
        "\n",
        "</details>\n"
      ]
    },
    {
      "cell_type": "code",
      "source": [],
      "metadata": {
        "id": "XUnD71F7o-Qi"
      },
      "execution_count": null,
      "outputs": []
    },
    {
      "cell_type": "markdown",
      "metadata": {
        "id": "VpxoDN9PoPkQ"
      },
      "source": [
        "Repeat these computations to find the joint probabilities for treatment and whether the household lives in a metropolitan area (`\"zip_msa\"`). What was the most common joint outcome. Describe this in words."
      ]
    },
    {
      "cell_type": "code",
      "execution_count": null,
      "metadata": {
        "id": "AyAUGD1_oPkQ"
      },
      "outputs": [],
      "source": []
    },
    {
      "cell_type": "markdown",
      "metadata": {
        "id": "tYYIW5pToPkQ"
      },
      "source": [
        "<details>\n",
        "\n",
        "```\n",
        "count_msa = hh.groupby([\"zip_msa\", \"treatment\"]).size().unstack()\n",
        "probs_msa = count_msa / count_msa.sum().sum()\n",
        "probs_msa\n",
        "```\n",
        "\n",
        "</details>\n",
        "We see that most common outcome was households in metropolitan areas not winning the lottery."
      ]
    },
    {
      "cell_type": "markdown",
      "metadata": {
        "id": "V9dheRSXoPkQ"
      },
      "source": []
    }
  ],
  "metadata": {
    "jupytext": {
      "cell_metadata_filter": "-all",
      "main_language": "python",
      "notebook_metadata_filter": "-all"
    },
    "kernelspec": {
      "display_name": "Python 3 (ipykernel)",
      "language": "python",
      "name": "python3"
    },
    "language_info": {
      "codemirror_mode": {
        "name": "ipython",
        "version": 3
      },
      "file_extension": ".py",
      "mimetype": "text/x-python",
      "name": "python",
      "nbconvert_exporter": "python",
      "pygments_lexer": "ipython3",
      "version": "3.9.7"
    },
    "colab": {
      "provenance": [],
      "include_colab_link": true
    }
  },
  "nbformat": 4,
  "nbformat_minor": 0
}