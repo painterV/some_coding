{
  "cells": [
    {
      "cell_type": "markdown",
      "metadata": {
        "id": "view-in-github",
        "colab_type": "text"
      },
      "source": [
        "<a href=\"https://colab.research.google.com/github/painterV/some_coding/blob/main/homework05.ipynb\" target=\"_parent\"><img src=\"https://colab.research.google.com/assets/colab-badge.svg\" alt=\"Open In Colab\"/></a>"
      ]
    },
    {
      "cell_type": "markdown",
      "id": "f774ced6",
      "metadata": {
        "id": "f774ced6"
      },
      "source": [
        "# Homework 5\n",
        "\n",
        "Due December 11, 2022 at 11:59pm.\n",
        "\n",
        "Select `File -> Download As -> Notebook (.ipynb)` and upload your submission to Gradescope.\n",
        "\n",
        "## Congressional Re-Tweeting\n",
        "\n",
        "The United States Congress, composed of the House of Representatives and the Senate, is seated on a two year basis (while Senators sit for 6 year terms, elections for the Senate are staggered such that composition still changes on a two year cycle). These two year periods are labeled in order, with the 115th Congress occuring in the years 2017-2018.\n",
        "\n",
        "[Researchers at UM's School of Information collected Twitter posts from sitting MoCs](https://www.openicpsr.org/openicpsr/project/108303/version/V2/view) (we'll abbreviate \"member of Congress\" as **MoC**) during this period and coded them as being original statements or rewteets of other users' submissions. We will focus on the retweet data. These published data include not only the text of the retweet but also information on the member of Congress and the account of the original tweet.\n",
        "\n",
        "In this assignment, we'll consider whether relationships exist between useage of retweeting and different parties, ages, house of Congress, and features of the original source account."
      ]
    },
    {
      "cell_type": "code",
      "execution_count": null,
      "id": "ae835217",
      "metadata": {
        "id": "ae835217"
      },
      "outputs": [],
      "source": [
        "import pandas as pd\n",
        "import numpy as np\n",
        "import matplotlib.pyplot as plt\n",
        "import seaborn as sb\n",
        "import statsmodels.api as sm\n",
        "import os"
      ]
    },
    {
      "cell_type": "code",
      "execution_count": null,
      "id": "e78b64fd",
      "metadata": {
        "id": "e78b64fd"
      },
      "outputs": [],
      "source": [
        "from pandas.plotting import register_matplotlib_converters\n",
        "register_matplotlib_converters()\n",
        "\n",
        "pd.options.mode.chained_assignment = None"
      ]
    },
    {
      "cell_type": "markdown",
      "id": "1b1dbc73",
      "metadata": {
        "id": "1b1dbc73"
      },
      "source": [
        "**Set your section number:**"
      ]
    },
    {
      "cell_type": "code",
      "execution_count": null,
      "id": "1e8c9f96",
      "metadata": {
        "id": "1e8c9f96"
      },
      "outputs": [],
      "source": [
        "section = \"100\""
      ]
    },
    {
      "cell_type": "markdown",
      "id": "c07a48ac",
      "metadata": {
        "id": "c07a48ac"
      },
      "source": [
        "In the following we will load the data, though for reasons of speed we will exclude the text of the tweets themselves."
      ]
    },
    {
      "cell_type": "code",
      "execution_count": null,
      "id": "4cfa8728",
      "metadata": {
        "id": "4cfa8728"
      },
      "outputs": [],
      "source": [
        "# base = \"/scratch/stats206s%sf22_class_root/stats206s%sf22_class/materials/data\" % (section, section)\n",
        "base = \"./\"\n",
        "tweets = pd.read_csv(os.path.join(base, \"retweets_congress_115th.csv.gz\"), \n",
        "                     usecols = lambda x: x != \"full_text\",\n",
        "                     dtype = {\"tweet_id_str\": \"str\"},\n",
        "                     index_col = \"tweet_id_str\")"
      ]
    },
    {
      "cell_type": "code",
      "execution_count": null,
      "id": "8e98a70e",
      "metadata": {
        "colab": {
          "base_uri": "https://localhost:8080/"
        },
        "id": "8e98a70e",
        "outputId": "380bdbf6-0c0a-4bb1-870a-feee15305ea2"
      },
      "outputs": [
        {
          "output_type": "execute_result",
          "data": {
            "text/plain": [
              "(209856, 21)"
            ]
          },
          "metadata": {},
          "execution_count": 17
        }
      ],
      "source": [
        "tweets.shape"
      ]
    },
    {
      "cell_type": "code",
      "execution_count": 90,
      "id": "12c0c480",
      "metadata": {
        "colab": {
          "base_uri": "https://localhost:8080/"
        },
        "id": "12c0c480",
        "outputId": "217e5827-d918-4149-f16b-f5a5f29da52c"
      },
      "outputs": [
        {
          "output_type": "execute_result",
          "data": {
            "text/plain": [
              "Index(['user_id_str', 'user_screen_name', 'user_followers_count', 'created_at',\n",
              "       'retweet_count', 'retweeted_status', 'year', 'bioguide', 'birthday',\n",
              "       'gender', 'name', 'state', 'chamber', 'party', 'region', 'rt_user_id',\n",
              "       'rt_screen_name', 'rt_followers_count', 'rt_bio', 'age', 'age_bucket',\n",
              "       'party_is_Democrat', 'is_congress_retweet'],\n",
              "      dtype='object')"
            ]
          },
          "metadata": {},
          "execution_count": 90
        }
      ],
      "source": [
        "tweets.columns"
      ]
    },
    {
      "cell_type": "markdown",
      "id": "fe436b96",
      "metadata": {
        "id": "fe436b96"
      },
      "source": [
        "## Question 1\n",
        "\n",
        "In the following section we are going to perform inference on this data set. To do so, we need to think about these data as a sample from a population. Before beginning our data analysis, we will define some important terms and describe a sampling process will think makes sense for this setting.\n",
        "\n",
        "### Part (a)\n",
        "\n",
        "In your own words, define a **population**. What are the common features of all populations? Does a population have to be a set of things we that physically exist in the world? \n"
      ]
    },
    {
      "cell_type": "markdown",
      "id": "4190ec78",
      "metadata": {
        "id": "4190ec78"
      },
      "source": [
        "**Answer:**\n",
        "\n",
        "In statistics, a population refers to any collection of specified group of human beings or of\n",
        "non-human entities such as objects, educational institutions, time units, geographical areas,\n",
        "prices of wheat or salaries drawn by individuals. Some statisticians call it universe.\n",
        "\n",
        "The common features of all populations are massive, homogeneity and variability.\n",
        "\n",
        "No exactly. A population can be a set of things without physical body."
      ]
    },
    {
      "cell_type": "markdown",
      "id": "2820151d",
      "metadata": {
        "id": "2820151d"
      },
      "source": [
        "### Part (b)\n",
        "\n",
        "In your own words, define a **sample**. Why do we have to analyze samples instead of populations? What is the connection between a population and a sample? "
      ]
    },
    {
      "cell_type": "markdown",
      "id": "2db9f878",
      "metadata": {
        "id": "2db9f878"
      },
      "source": [
        "**Answer:**\n",
        "\n",
        "A sample is a random selection of members of a population. \n",
        "\n",
        "In most cases, a population can be too large to collect accurate data – which is not practical. Samples offer a representation of the whole population if sampled accordingly. Samples allow researchers to collect data that can be analyzed to provide insights into the entire population.\n",
        "\n",
        "It is a smaller group drawn from the population that has the characteristics of the entire population. The observations and conclusions made against the sample data are attributed to the population as a whole."
      ]
    },
    {
      "cell_type": "markdown",
      "id": "be4cd2ac",
      "metadata": {
        "id": "be4cd2ac"
      },
      "source": [
        "### Part (c)\n",
        "\n",
        "What population would we like to study using the sample of retweets? In forming your answer, think about how time might play a role. Also consider whether you could describe a **data generating process** that creates retweets.\n",
        "\n",
        "There is no exact answer to these questions, but the important part is to make an effort that could convenince others."
      ]
    },
    {
      "cell_type": "markdown",
      "id": "c4e963e3",
      "metadata": {
        "id": "c4e963e3"
      },
      "source": [
        "**Answer:**\n",
        "\n",
        "The population that we would like to study is the set of all retweet behavior of all previous MoC in each session.\n",
        "\n",
        "Time just plays a sample dimension role."
      ]
    },
    {
      "cell_type": "markdown",
      "id": "e25d97bd",
      "metadata": {
        "id": "e25d97bd"
      },
      "source": [
        "## Question 2\n",
        "\n",
        "### Part (a)\n",
        "\n",
        "Congress is largely composed of two parties (Democrats and Republicans), with a few independents. Which party is responsible for most of the retweets?\n",
        "\n",
        "Compute the marginal probability of the party of the tweet and save the result to `party_marg`. Display this result."
      ]
    },
    {
      "cell_type": "code",
      "execution_count": 93,
      "id": "09170ba6",
      "metadata": {
        "colab": {
          "base_uri": "https://localhost:8080/"
        },
        "id": "09170ba6",
        "outputId": "0fef00c8-6ef5-4089-a16d-665215360149"
      },
      "outputs": [
        {
          "output_type": "stream",
          "name": "stdout",
          "text": [
            "Democrat       0.588176\n",
            "Republican     0.407493\n",
            "Independent    0.004330\n",
            "Name: party, dtype: float64\n",
            "Democrat  is responsible for most of the retweets\n"
          ]
        }
      ],
      "source": [
        "party_marg = tweets[\"party\"].value_counts(normalize=True)\n",
        "print(party_marg)\n",
        "\n",
        "max_responsible_part = party_marg.idxmax()\n",
        "print(max_responsible_part, \" is responsible for most of the retweets\")"
      ]
    },
    {
      "cell_type": "markdown",
      "source": [
        "**Answer:**\n",
        "\n",
        "Democrat  is responsible for most of the retweets."
      ],
      "metadata": {
        "id": "uq9OS2nXkGHI"
      },
      "id": "uq9OS2nXkGHI"
    },
    {
      "cell_type": "markdown",
      "id": "f491743d",
      "metadata": {
        "id": "f491743d"
      },
      "source": [
        "### Part (b)"
      ]
    },
    {
      "cell_type": "markdown",
      "id": "4d031626",
      "metadata": {
        "id": "4d031626"
      },
      "source": [
        "One question we might ask is, \"How often do Congress members retweet each other?\"\n",
        "\n",
        "Create a new column called `\"is_congress_retweet\"` that will indicate if the retweet is coming from a MoC. First get the set of unique `\"user_id_str\"` values using the `.unique()` method. Then using that set of ids, use the `.isin(values)` method on the `\"rt_user_id\"` column to create the new boolean column `\"is_congress_retweet\"`.\n",
        "\n",
        "Find the marginal probability of retweeting a MoC and save the result to `\"congress_retweet_marg\"`. Display these results. Is it more common to retweet a member of Congress or from outside of Congress?"
      ]
    },
    {
      "cell_type": "code",
      "execution_count": 94,
      "id": "9455df43",
      "metadata": {
        "colab": {
          "base_uri": "https://localhost:8080/"
        },
        "id": "9455df43",
        "outputId": "4a0e9788-1ad6-4b9f-ebf6-e9ad2c8842b2"
      },
      "outputs": [
        {
          "output_type": "stream",
          "name": "stdout",
          "text": [
            "0.19129784232997865\n",
            "it is more common to retweet from outside of Congress\n"
          ]
        }
      ],
      "source": [
        "tweets[\"is_congress_retweet\"] = tweets[\"rt_user_id\"].isin(tweets[\"user_id_str\"].unique())\n",
        "\n",
        "tweets[\"is_congress_retweet\"].value_counts(dropna = False)\n",
        "\n",
        "congress_retweet_marg = tweets[\"is_congress_retweet\"].mean()\n",
        "\n",
        "print(congress_retweet_marg)\n",
        "\n",
        "if congress_retweet_marg > 0.5:\n",
        "    print(\"it is more common to retweet a member of Congress\")\n",
        "elif congress_retweet_marg < 0.5:\n",
        "    print(\"it is more common to retweet from outside of Congress\")\n",
        "else:\n",
        "    print(\"same common\")\n",
        "# 0.19129784232997865\n",
        "# it is more common to retweet from outside of Congress"
      ]
    },
    {
      "cell_type": "markdown",
      "source": [
        "**Answer:**\n",
        "\n",
        "The probability of Congress members retweet each other is 0.19129784232997865.\n",
        "\n",
        "The probability indicates that it is more common to retweet from outside of Congress."
      ],
      "metadata": {
        "id": "3R0cvjc9jSJU"
      },
      "id": "3R0cvjc9jSJU"
    },
    {
      "cell_type": "markdown",
      "id": "5fc3cd19",
      "metadata": {
        "id": "5fc3cd19"
      },
      "source": [
        "### Part (c)\n",
        "\n",
        "Do the parties retweet each other at the same rates?\n",
        "\n",
        "* Calcuate the counts of retweets by each party (`\"party_cong_retweet_counts\"`).\n",
        "* Calculate and display the joint probability of party and whether the retweet comes from a MoC. Call this table \"`party_cong_retweet_joint`\".\n",
        "* Calculate the conditional probability of retweeting a MoC conditioning on the party. Feel free to use the marginal probabilities you already calculated in Part (a).\n",
        "\n",
        "Which party has the higher conditional probability of retweeting a MoC? Why did we need to calculate the conditional probability instead of just using the joint probabilities to answer the question \"Do the parties retweet each other at the same rates?\"\n"
      ]
    },
    {
      "cell_type": "code",
      "execution_count": null,
      "id": "ba19a619",
      "metadata": {
        "colab": {
          "base_uri": "https://localhost:8080/",
          "height": 143
        },
        "id": "ba19a619",
        "outputId": "4c41f77b-9820-4380-e126-630b6f8adfb9"
      },
      "outputs": [
        {
          "output_type": "execute_result",
          "data": {
            "text/plain": [
              "is_congress_retweet     False      True\n",
              "Democrat             0.771414  0.228586\n",
              "Independent          0.817778  0.182222\n",
              "Republican           0.859288  0.140712"
            ],
            "text/html": [
              "\n",
              "  <div id=\"df-b1fece90-f033-4270-ae43-d8065fbb0517\">\n",
              "    <div class=\"colab-df-container\">\n",
              "      <div>\n",
              "<style scoped>\n",
              "    .dataframe tbody tr th:only-of-type {\n",
              "        vertical-align: middle;\n",
              "    }\n",
              "\n",
              "    .dataframe tbody tr th {\n",
              "        vertical-align: top;\n",
              "    }\n",
              "\n",
              "    .dataframe thead th {\n",
              "        text-align: right;\n",
              "    }\n",
              "</style>\n",
              "<table border=\"1\" class=\"dataframe\">\n",
              "  <thead>\n",
              "    <tr style=\"text-align: right;\">\n",
              "      <th>is_congress_retweet</th>\n",
              "      <th>False</th>\n",
              "      <th>True</th>\n",
              "    </tr>\n",
              "  </thead>\n",
              "  <tbody>\n",
              "    <tr>\n",
              "      <th>Democrat</th>\n",
              "      <td>0.771414</td>\n",
              "      <td>0.228586</td>\n",
              "    </tr>\n",
              "    <tr>\n",
              "      <th>Independent</th>\n",
              "      <td>0.817778</td>\n",
              "      <td>0.182222</td>\n",
              "    </tr>\n",
              "    <tr>\n",
              "      <th>Republican</th>\n",
              "      <td>0.859288</td>\n",
              "      <td>0.140712</td>\n",
              "    </tr>\n",
              "  </tbody>\n",
              "</table>\n",
              "</div>\n",
              "      <button class=\"colab-df-convert\" onclick=\"convertToInteractive('df-b1fece90-f033-4270-ae43-d8065fbb0517')\"\n",
              "              title=\"Convert this dataframe to an interactive table.\"\n",
              "              style=\"display:none;\">\n",
              "        \n",
              "  <svg xmlns=\"http://www.w3.org/2000/svg\" height=\"24px\"viewBox=\"0 0 24 24\"\n",
              "       width=\"24px\">\n",
              "    <path d=\"M0 0h24v24H0V0z\" fill=\"none\"/>\n",
              "    <path d=\"M18.56 5.44l.94 2.06.94-2.06 2.06-.94-2.06-.94-.94-2.06-.94 2.06-2.06.94zm-11 1L8.5 8.5l.94-2.06 2.06-.94-2.06-.94L8.5 2.5l-.94 2.06-2.06.94zm10 10l.94 2.06.94-2.06 2.06-.94-2.06-.94-.94-2.06-.94 2.06-2.06.94z\"/><path d=\"M17.41 7.96l-1.37-1.37c-.4-.4-.92-.59-1.43-.59-.52 0-1.04.2-1.43.59L10.3 9.45l-7.72 7.72c-.78.78-.78 2.05 0 2.83L4 21.41c.39.39.9.59 1.41.59.51 0 1.02-.2 1.41-.59l7.78-7.78 2.81-2.81c.8-.78.8-2.07 0-2.86zM5.41 20L4 18.59l7.72-7.72 1.47 1.35L5.41 20z\"/>\n",
              "  </svg>\n",
              "      </button>\n",
              "      \n",
              "  <style>\n",
              "    .colab-df-container {\n",
              "      display:flex;\n",
              "      flex-wrap:wrap;\n",
              "      gap: 12px;\n",
              "    }\n",
              "\n",
              "    .colab-df-convert {\n",
              "      background-color: #E8F0FE;\n",
              "      border: none;\n",
              "      border-radius: 50%;\n",
              "      cursor: pointer;\n",
              "      display: none;\n",
              "      fill: #1967D2;\n",
              "      height: 32px;\n",
              "      padding: 0 0 0 0;\n",
              "      width: 32px;\n",
              "    }\n",
              "\n",
              "    .colab-df-convert:hover {\n",
              "      background-color: #E2EBFA;\n",
              "      box-shadow: 0px 1px 2px rgba(60, 64, 67, 0.3), 0px 1px 3px 1px rgba(60, 64, 67, 0.15);\n",
              "      fill: #174EA6;\n",
              "    }\n",
              "\n",
              "    [theme=dark] .colab-df-convert {\n",
              "      background-color: #3B4455;\n",
              "      fill: #D2E3FC;\n",
              "    }\n",
              "\n",
              "    [theme=dark] .colab-df-convert:hover {\n",
              "      background-color: #434B5C;\n",
              "      box-shadow: 0px 1px 3px 1px rgba(0, 0, 0, 0.15);\n",
              "      filter: drop-shadow(0px 1px 2px rgba(0, 0, 0, 0.3));\n",
              "      fill: #FFFFFF;\n",
              "    }\n",
              "  </style>\n",
              "\n",
              "      <script>\n",
              "        const buttonEl =\n",
              "          document.querySelector('#df-b1fece90-f033-4270-ae43-d8065fbb0517 button.colab-df-convert');\n",
              "        buttonEl.style.display =\n",
              "          google.colab.kernel.accessAllowed ? 'block' : 'none';\n",
              "\n",
              "        async function convertToInteractive(key) {\n",
              "          const element = document.querySelector('#df-b1fece90-f033-4270-ae43-d8065fbb0517');\n",
              "          const dataTable =\n",
              "            await google.colab.kernel.invokeFunction('convertToInteractive',\n",
              "                                                     [key], {});\n",
              "          if (!dataTable) return;\n",
              "\n",
              "          const docLinkHtml = 'Like what you see? Visit the ' +\n",
              "            '<a target=\"_blank\" href=https://colab.research.google.com/notebooks/data_table.ipynb>data table notebook</a>'\n",
              "            + ' to learn more about interactive tables.';\n",
              "          element.innerHTML = '';\n",
              "          dataTable['output_type'] = 'display_data';\n",
              "          await google.colab.output.renderOutput(dataTable, element);\n",
              "          const docLink = document.createElement('div');\n",
              "          docLink.innerHTML = docLinkHtml;\n",
              "          element.appendChild(docLink);\n",
              "        }\n",
              "      </script>\n",
              "    </div>\n",
              "  </div>\n",
              "  "
            ]
          },
          "metadata": {},
          "execution_count": 69
        }
      ],
      "source": [
        "party_cong_retweet_counts = tweets[\"party\"].value_counts(dropna = False)\n",
        "party_cong_retweet_counts\n",
        "\n",
        "party_cong_retweet_joint = tweets.groupby([\"party\", \"is_congress_retweet\"]).size().unstack()\n",
        "party_cong_retweet_joint\n",
        "\n",
        "probs = party_cong_retweet_joint / party_cong_retweet_joint.sum().sum()\n",
        "probs\n",
        "\n",
        "# party_marg_v2 = probs.sum(1)\n",
        "\n",
        "party_cond = probs.div(party_marg, axis = 0)\n",
        "party_cond"
      ]
    },
    {
      "cell_type": "markdown",
      "source": [
        "**Answer:**\n",
        "\n",
        "Democrat has the higher conditional probability of retweeting a MoC. \n",
        "\n",
        "Conditional probability is the probability of one event occurring in the presence of a second event. We use the conditional probability instead of just using the joint probabilities to determine whether retweet is more likely from a member of MoC when the party is already known."
      ],
      "metadata": {
        "id": "Oh4UKfxVNgO2"
      },
      "id": "Oh4UKfxVNgO2"
    },
    {
      "cell_type": "markdown",
      "id": "fece2fb7",
      "metadata": {
        "id": "fece2fb7"
      },
      "source": [
        "### Part (d)"
      ]
    },
    {
      "cell_type": "markdown",
      "id": "b36f6ace",
      "metadata": {
        "id": "b36f6ace"
      },
      "source": [
        "If party and rewteeting a MoC are independent in the population you described in 1(c), then the joint distribuiton of these measurements should be close to the product of the marginal probabilities. \n",
        "\n",
        "Create the probabilities we would expect to see if party and MoC retweeting were independent (call this table `\"party_cong_retweet_indep\"`). Recall the function `np.outer` is useful for this purpose.\n",
        "\n",
        "Display this table and comment if it looks like the table of joint probabilities from 1(c)."
      ]
    },
    {
      "cell_type": "code",
      "execution_count": null,
      "id": "19dc2aa0",
      "metadata": {
        "colab": {
          "base_uri": "https://localhost:8080/"
        },
        "id": "19dc2aa0",
        "outputId": "6f7523f3-abb4-4c4d-caa6-b1691b8baccd"
      },
      "outputs": [
        {
          "output_type": "stream",
          "name": "stdout",
          "text": [
            "joint_probs: \n",
            " is_congress_retweet     False      True\n",
            "party                                  \n",
            "Democrat             0.453727  0.134449\n",
            "Independent          0.003541  0.000789\n",
            "Republican           0.350154  0.057339\n",
            "party_cong_retweet_indep: \n",
            " [[0.47565931 0.11251683]\n",
            " [0.32954086 0.07795262]\n",
            " [0.00350199 0.00082839]]\n"
          ]
        }
      ],
      "source": [
        "# party_marg_v2 = probs.sum(1)\n",
        "\n",
        "reMoC_marg = tweets[\"is_congress_retweet\"].value_counts(normalize=True)\n",
        "\n",
        "# reMoC_cond = probs.div(reMoC_marg, axis = 1)\n",
        "# reMoC_cond\n",
        "print(\"joint_probs: \\n\", probs)\n",
        "party_cong_retweet_indep = np.outer(party_marg, reMoC_marg)\n",
        "print(\"party_cong_retweet_indep: \\n\", party_cong_retweet_indep)\n",
        "\n",
        "# party_cong_retweet_indep is obviously different from joint probabilities from 1(c)"
      ]
    },
    {
      "cell_type": "markdown",
      "source": [
        "**Answer:**\n",
        "\n",
        "```party_cong_retweet_indep``` is obviously different from joint probabilities from 1(c)"
      ],
      "metadata": {
        "id": "OFHOLGZpYUSU"
      },
      "id": "OFHOLGZpYUSU"
    },
    {
      "cell_type": "markdown",
      "id": "0220df68",
      "metadata": {
        "id": "0220df68"
      },
      "source": [
        "## Question 3\n",
        "\n",
        "In this question will we extend the results of question 2 to perform a formal hypothesis test that party and member retweeting are independent.\n",
        "\n",
        "### Part (a)\n",
        "\n",
        "In your own words, describe a hypothesis test. Make sure to define the null hypothesis, alternative hypothesis, and critical value. Under what circumstances to you reject a null hypothesis? Under what circumstances to you fail to reject the null hypothesis?"
      ]
    },
    {
      "cell_type": "markdown",
      "id": "8b35e36b",
      "metadata": {
        "id": "8b35e36b"
      },
      "source": [
        "**Answer:**\n",
        "\n",
        "A falsifiable hypothesis is a statement, or hypothesis, that can be contradicted with evidence. In empirical (data-driven) research, this evidence will always be obtained through the data. \n",
        "\n",
        "In statistical hypothesis testing, the hypothesis that we formally test is called the null hypothesis. \n",
        "\n",
        "The alternative hypothesis is a second hypothesis that is our proposed explanation for what happens if the null hypothesis is wrong.\n",
        "\n",
        "---------more \n"
      ]
    },
    {
      "cell_type": "markdown",
      "id": "63d79426",
      "metadata": {
        "id": "63d79426"
      },
      "source": [
        "### Part (b)"
      ]
    },
    {
      "cell_type": "markdown",
      "id": "e50e0497",
      "metadata": {
        "id": "e50e0497"
      },
      "source": [
        "Calculate the Pearson residuals from for party and MoC retweeting by calculating the expected counts of under independence, the difference from the observed counts, and then dividing by the square root of the expected counts. "
      ]
    },
    {
      "cell_type": "code",
      "execution_count": 103,
      "id": "a5853558",
      "metadata": {
        "colab": {
          "base_uri": "https://localhost:8080/",
          "height": 175
        },
        "id": "a5853558",
        "outputId": "555fa855-2e91-4157-c824-8ed83434465c"
      },
      "outputs": [
        {
          "output_type": "execute_result",
          "data": {
            "text/plain": [
              "is_congress_retweet        False        True\n",
              "party                                       \n",
              "Democrat              -14.497228   29.807409\n",
              "Independent          -258.893228 -125.995499\n",
              "Republican           2670.516903  895.097855"
            ],
            "text/html": [
              "\n",
              "  <div id=\"df-3f46533b-d907-45a4-aaad-8f04563a45a6\">\n",
              "    <div class=\"colab-df-container\">\n",
              "      <div>\n",
              "<style scoped>\n",
              "    .dataframe tbody tr th:only-of-type {\n",
              "        vertical-align: middle;\n",
              "    }\n",
              "\n",
              "    .dataframe tbody tr th {\n",
              "        vertical-align: top;\n",
              "    }\n",
              "\n",
              "    .dataframe thead th {\n",
              "        text-align: right;\n",
              "    }\n",
              "</style>\n",
              "<table border=\"1\" class=\"dataframe\">\n",
              "  <thead>\n",
              "    <tr style=\"text-align: right;\">\n",
              "      <th>is_congress_retweet</th>\n",
              "      <th>False</th>\n",
              "      <th>True</th>\n",
              "    </tr>\n",
              "    <tr>\n",
              "      <th>party</th>\n",
              "      <th></th>\n",
              "      <th></th>\n",
              "    </tr>\n",
              "  </thead>\n",
              "  <tbody>\n",
              "    <tr>\n",
              "      <th>Democrat</th>\n",
              "      <td>-14.497228</td>\n",
              "      <td>29.807409</td>\n",
              "    </tr>\n",
              "    <tr>\n",
              "      <th>Independent</th>\n",
              "      <td>-258.893228</td>\n",
              "      <td>-125.995499</td>\n",
              "    </tr>\n",
              "    <tr>\n",
              "      <th>Republican</th>\n",
              "      <td>2670.516903</td>\n",
              "      <td>895.097855</td>\n",
              "    </tr>\n",
              "  </tbody>\n",
              "</table>\n",
              "</div>\n",
              "      <button class=\"colab-df-convert\" onclick=\"convertToInteractive('df-3f46533b-d907-45a4-aaad-8f04563a45a6')\"\n",
              "              title=\"Convert this dataframe to an interactive table.\"\n",
              "              style=\"display:none;\">\n",
              "        \n",
              "  <svg xmlns=\"http://www.w3.org/2000/svg\" height=\"24px\"viewBox=\"0 0 24 24\"\n",
              "       width=\"24px\">\n",
              "    <path d=\"M0 0h24v24H0V0z\" fill=\"none\"/>\n",
              "    <path d=\"M18.56 5.44l.94 2.06.94-2.06 2.06-.94-2.06-.94-.94-2.06-.94 2.06-2.06.94zm-11 1L8.5 8.5l.94-2.06 2.06-.94-2.06-.94L8.5 2.5l-.94 2.06-2.06.94zm10 10l.94 2.06.94-2.06 2.06-.94-2.06-.94-.94-2.06-.94 2.06-2.06.94z\"/><path d=\"M17.41 7.96l-1.37-1.37c-.4-.4-.92-.59-1.43-.59-.52 0-1.04.2-1.43.59L10.3 9.45l-7.72 7.72c-.78.78-.78 2.05 0 2.83L4 21.41c.39.39.9.59 1.41.59.51 0 1.02-.2 1.41-.59l7.78-7.78 2.81-2.81c.8-.78.8-2.07 0-2.86zM5.41 20L4 18.59l7.72-7.72 1.47 1.35L5.41 20z\"/>\n",
              "  </svg>\n",
              "      </button>\n",
              "      \n",
              "  <style>\n",
              "    .colab-df-container {\n",
              "      display:flex;\n",
              "      flex-wrap:wrap;\n",
              "      gap: 12px;\n",
              "    }\n",
              "\n",
              "    .colab-df-convert {\n",
              "      background-color: #E8F0FE;\n",
              "      border: none;\n",
              "      border-radius: 50%;\n",
              "      cursor: pointer;\n",
              "      display: none;\n",
              "      fill: #1967D2;\n",
              "      height: 32px;\n",
              "      padding: 0 0 0 0;\n",
              "      width: 32px;\n",
              "    }\n",
              "\n",
              "    .colab-df-convert:hover {\n",
              "      background-color: #E2EBFA;\n",
              "      box-shadow: 0px 1px 2px rgba(60, 64, 67, 0.3), 0px 1px 3px 1px rgba(60, 64, 67, 0.15);\n",
              "      fill: #174EA6;\n",
              "    }\n",
              "\n",
              "    [theme=dark] .colab-df-convert {\n",
              "      background-color: #3B4455;\n",
              "      fill: #D2E3FC;\n",
              "    }\n",
              "\n",
              "    [theme=dark] .colab-df-convert:hover {\n",
              "      background-color: #434B5C;\n",
              "      box-shadow: 0px 1px 3px 1px rgba(0, 0, 0, 0.15);\n",
              "      filter: drop-shadow(0px 1px 2px rgba(0, 0, 0, 0.3));\n",
              "      fill: #FFFFFF;\n",
              "    }\n",
              "  </style>\n",
              "\n",
              "      <script>\n",
              "        const buttonEl =\n",
              "          document.querySelector('#df-3f46533b-d907-45a4-aaad-8f04563a45a6 button.colab-df-convert');\n",
              "        buttonEl.style.display =\n",
              "          google.colab.kernel.accessAllowed ? 'block' : 'none';\n",
              "\n",
              "        async function convertToInteractive(key) {\n",
              "          const element = document.querySelector('#df-3f46533b-d907-45a4-aaad-8f04563a45a6');\n",
              "          const dataTable =\n",
              "            await google.colab.kernel.invokeFunction('convertToInteractive',\n",
              "                                                     [key], {});\n",
              "          if (!dataTable) return;\n",
              "\n",
              "          const docLinkHtml = 'Like what you see? Visit the ' +\n",
              "            '<a target=\"_blank\" href=https://colab.research.google.com/notebooks/data_table.ipynb>data table notebook</a>'\n",
              "            + ' to learn more about interactive tables.';\n",
              "          element.innerHTML = '';\n",
              "          dataTable['output_type'] = 'display_data';\n",
              "          await google.colab.output.renderOutput(dataTable, element);\n",
              "          const docLink = document.createElement('div');\n",
              "          docLink.innerHTML = docLinkHtml;\n",
              "          element.appendChild(docLink);\n",
              "        }\n",
              "      </script>\n",
              "    </div>\n",
              "  </div>\n",
              "  "
            ]
          },
          "metadata": {},
          "execution_count": 103
        }
      ],
      "source": [
        "resid = probs - party_cong_retweet_indep\n",
        "resid\n",
        "n = party_cong_retweet_joint.sum().sum()\n",
        "diff_counts = resid * n\n",
        "expected_ind = n * party_cong_retweet_indep\n",
        "\n",
        "pr = (n * resid) / np.sqrt(n * party_cong_retweet_indep)\n",
        "pr"
      ]
    },
    {
      "cell_type": "markdown",
      "id": "4d99439c",
      "metadata": {
        "id": "4d99439c"
      },
      "source": [
        "### Part (c)\n",
        "\n",
        "Are any of the values outside of the range (-3,3)? What would you conclude about values outside of this range?"
      ]
    },
    {
      "cell_type": "markdown",
      "id": "2a4adc9a",
      "metadata": {
        "id": "2a4adc9a"
      },
      "source": [
        "**Answer:**\n",
        "\n",
        "All of the values are outside of the range (-3, 3). From values outside of this range, the expected counts do not appear to fit well for the observed counts.\n",
        "\n",
        "As a rule of thumb, Pearson residuals that are smaller than 2 in magnitude are completely compatible with X and Y being independent. Values between 2 are 3 are suggestive of non-independence, and values above 3 are strongly suggestive of non-independence."
      ]
    },
    {
      "cell_type": "markdown",
      "id": "c7567f4f",
      "metadata": {
        "id": "c7567f4f"
      },
      "source": [
        "### Part (d)\n",
        "\n",
        "We can combine all of these individual tests for each cell into a composite test by squaring and summing the values.\n",
        "\n",
        "At a 95% confidence level, we would reject the hypothesis that party and congressional retweeting are independent if the sum of squared deviations exceeds 5.99. (remember to use `.sum().sum()` to get the sum for the entire table)\n",
        "\n",
        "Do we reject the hypothesis of independence?"
      ]
    },
    {
      "cell_type": "code",
      "execution_count": 108,
      "id": "b9cf3a62",
      "metadata": {
        "id": "b9cf3a62",
        "colab": {
          "base_uri": "https://localhost:8080/"
        },
        "outputId": "901e8c6d-366c-4eab-c84c-319707e43bd8"
      },
      "outputs": [
        {
          "output_type": "execute_result",
          "data": {
            "text/plain": [
              "8016859.9191770535"
            ]
          },
          "metadata": {},
          "execution_count": 108
        }
      ],
      "source": [
        "pr.pow(2).sum().sum()"
      ]
    },
    {
      "cell_type": "markdown",
      "source": [
        "**Answer:**\n",
        "\n",
        "Yes. We reject the hypothesis of independence because the sum of squared deviations exceeds 5.99"
      ],
      "metadata": {
        "id": "1q6ex34Hx_Vt"
      },
      "id": "1q6ex34Hx_Vt"
    },
    {
      "cell_type": "markdown",
      "id": "8cedf269",
      "metadata": {
        "id": "8cedf269"
      },
      "source": [
        "## Question 4"
      ]
    },
    {
      "cell_type": "markdown",
      "id": "541d1bba",
      "metadata": {
        "id": "541d1bba"
      },
      "source": [
        "In this question we will aggregate up to the level of individual MoCs to investigate questions of how MoCs behave with respect to retweeting behavior."
      ]
    },
    {
      "cell_type": "markdown",
      "id": "0e9ddb80",
      "metadata": {
        "id": "0e9ddb80"
      },
      "source": [
        "### Part (a)\n",
        "\n",
        "Aggregate (`groupby` and `agg`) the retweeting data using the `user_id_str` column. Use the following functions for the respective columns:\n",
        "\n",
        "* `first`: `gender`, `chamber`, `party`, `region`, `age_bucket`, `age`\n",
        "* `max`: `user_followers_count`\n",
        "* `mean`: `rt_followers_count`\n",
        "\n",
        "Save these results as `moc_retweets`.\n",
        "\n",
        "Compute (and display) the conditional mean of `user_followers_count` given `age_bucket`. Which age group has the highest average number of followers?"
      ]
    },
    {
      "cell_type": "code",
      "execution_count": 116,
      "id": "932ecda6",
      "metadata": {
        "id": "932ecda6",
        "colab": {
          "base_uri": "https://localhost:8080/"
        },
        "outputId": "4553d971-6c77-4c65-b70a-1f05aabf6c2a"
      },
      "outputs": [
        {
          "output_type": "stream",
          "name": "stdout",
          "text": [
            "            user_followers_count\n",
            "age_bucket                      \n",
            "30                 125286.692308\n",
            "40                 109522.742857\n",
            "50                  92983.139706\n",
            "60                  71047.931034\n",
            "70                 223842.628866\n",
            "80                 260131.034483\n"
          ]
        }
      ],
      "source": [
        "moc_retweets = hh = tweets.groupby('user_id_str').agg({'gender': 'first',\n",
        "                                     'chamber': 'first',\n",
        "                                     'party': 'first',\n",
        "                                     'region': 'first',\n",
        "                                     'age_bucket': 'first',\n",
        "                                     'age': 'first',\n",
        "                                     'user_followers_count': 'max',\n",
        "                                     'rt_followers_count': 'mean'\n",
        "                                    })\n",
        "counts = hh.groupby([\"age_bucket\"]).agg({'user_followers_count': 'mean'})\n",
        "print(counts)"
      ]
    },
    {
      "cell_type": "markdown",
      "source": [
        "**Answer:**\n",
        "\n",
        "Group of 80 age_bucket has the highest average number of followers 260131."
      ],
      "metadata": {
        "id": "6z1_SCTq6iXu"
      },
      "id": "6z1_SCTq6iXu"
    },
    {
      "cell_type": "markdown",
      "id": "6a662111",
      "metadata": {
        "id": "6a662111"
      },
      "source": [
        "### Part (b)"
      ]
    },
    {
      "cell_type": "markdown",
      "id": "27c250aa",
      "metadata": {
        "id": "27c250aa"
      },
      "source": [
        "Now aggregate up the number of retweets per MoC from the `tweets` table using the `.size()` method after grouping by `user_id_str`. \n",
        "\n",
        "Add this information to the `moc_retweets` table as a new column `\"retweets\"`.\n",
        "\n",
        "Create a box plot of the number of retweets (y-axis) against the party of the MoC (x-axis) (use the `showfliers = False` option).\n",
        "\n",
        "<!-- Which party's member tend to have higher amount of retweeting activity -->"
      ]
    },
    {
      "cell_type": "code",
      "execution_count": 123,
      "id": "0e91eb65",
      "metadata": {
        "id": "0e91eb65",
        "colab": {
          "base_uri": "https://localhost:8080/",
          "height": 297
        },
        "outputId": "15ff4ece-6177-44f4-ab62-ef3534bdaaf2"
      },
      "outputs": [
        {
          "output_type": "execute_result",
          "data": {
            "text/plain": [
              "<matplotlib.axes._subplots.AxesSubplot at 0x7fc9b8466fa0>"
            ]
          },
          "metadata": {},
          "execution_count": 123
        },
        {
          "output_type": "display_data",
          "data": {
            "text/plain": [
              "<Figure size 432x288 with 1 Axes>"
            ],
            "image/png": "[encoded data removed]"
          },
          "metadata": {
            "needs_background": "light"
          }
        }
      ],
      "source": [
        "moc_retweets[\"retweets\"] = tweets.groupby('user_id_str').size()\n",
        "\n",
        "sb.boxplot(data = moc_retweets, x = \"party\", y = \"retweets\", showfliers = False)"
      ]
    },
    {
      "cell_type": "markdown",
      "id": "dcacbe3c",
      "metadata": {
        "id": "dcacbe3c"
      },
      "source": [
        "### Part (c)\n",
        "\n",
        "Perform a difference of means test of comparing the number of retweets by Republicans and Democrats (ignore independents). Would you reject the null hypothesis that these two groups have the same average number of retweets?"
      ]
    },
    {
      "cell_type": "code",
      "execution_count": null,
      "id": "70ae7520",
      "metadata": {
        "id": "70ae7520"
      },
      "outputs": [],
      "source": []
    },
    {
      "cell_type": "markdown",
      "id": "fc47dc9f",
      "metadata": {
        "id": "fc47dc9f"
      },
      "source": [
        "## Question 5\n",
        "\n",
        "In this section, we ask, \"Do popular MoCs (in the sense of having many followers) tend to retweet popular tweets or do they amplify unknown sources?\""
      ]
    },
    {
      "cell_type": "markdown",
      "id": "8bd590a2",
      "metadata": {
        "id": "8bd590a2"
      },
      "source": [
        "### Part (a)\n",
        "\n",
        "Using a KDE plot, plot the marginal distributions of the maximum number of followers a MoC had (`\"user_followers_counts\"`) and the average number of followers of the retweeted user (`\"rt_followers_count\"`) from the `moc_retweets` table.\n",
        "\n",
        "Comment on these distributions. Do you think that a transformation would be beneficial?"
      ]
    },
    {
      "cell_type": "code",
      "execution_count": 130,
      "id": "46a5ebf8",
      "metadata": {
        "id": "46a5ebf8",
        "colab": {
          "base_uri": "https://localhost:8080/",
          "height": 309
        },
        "outputId": "dab2c4c5-bd81-4458-98ab-f4a891a2f137"
      },
      "outputs": [
        {
          "output_type": "execute_result",
          "data": {
            "text/plain": [
              "<matplotlib.axes._subplots.AxesSubplot at 0x7fc9b619be80>"
            ]
          },
          "metadata": {},
          "execution_count": 130
        },
        {
          "output_type": "display_data",
          "data": {
            "text/plain": [
              "<Figure size 432x288 with 1 Axes>"
            ],
            "image/png": "[encoded data removed]"
          },
          "metadata": {
            "needs_background": "light"
          }
        }
      ],
      "source": [
        "sb.kdeplot(x = moc_retweets['user_followers_count'])\n",
        "sb.kdeplot(x = moc_retweets['rt_followers_count'])"
      ]
    },
    {
      "cell_type": "markdown",
      "source": [
        "**Answer:**\n",
        "\n",
        "From distributions we can see MoCs with lower followers retweet more. But "
      ],
      "metadata": {
        "id": "nvhRSZd3_iLX"
      },
      "id": "nvhRSZd3_iLX"
    },
    {
      "cell_type": "markdown",
      "id": "5cf303ab",
      "metadata": {
        "id": "5cf303ab"
      },
      "source": [
        "### Part (b)\n",
        "\n",
        "Plot a scatter plot of the transformation (if you selected one) of `user_followers_count` on the x-axis and  the transformation of `\"rt_followers_count\"` (if you selected one) on the y-axis from the `moc_retweets` table. What kind of trend do you observe?"
      ]
    },
    {
      "cell_type": "code",
      "execution_count": null,
      "id": "4ed51ed9",
      "metadata": {
        "id": "4ed51ed9"
      },
      "outputs": [],
      "source": [
        "sb.scatterplot(data = moc_retweets, x = \"user_followers_count\", y = \"rt_followers_count\")\n"
      ]
    },
    {
      "cell_type": "markdown",
      "id": "e9df1685",
      "metadata": {
        "id": "e9df1685"
      },
      "source": [
        "### Part (c)\n",
        "\n",
        "Compute the correlation between the variables plotted in the previous plot. Peform a hypothesis test of the this value for the hypothesis that the population correlation is zero at the significance level $\\alpha = 0.05$."
      ]
    },
    {
      "cell_type": "code",
      "execution_count": null,
      "id": "a8b2235f",
      "metadata": {
        "id": "a8b2235f"
      },
      "outputs": [],
      "source": []
    },
    {
      "cell_type": "markdown",
      "id": "8e6c4f84",
      "metadata": {
        "id": "8e6c4f84"
      },
      "source": [
        "### Part (d)\n",
        "\n",
        "We might be interested if accounting for age influences our understanding of the relationship of MoC followers and average retweet followers. \n",
        "\n",
        "Compute a linear regression of the (transformed) number of MoC followers with (transformed) RT followers and age. Perform a hypothesis test for the RT followers coefficient. Interpret this result and comment on what we can conclude from these results."
      ]
    },
    {
      "cell_type": "code",
      "execution_count": null,
      "id": "73c69713",
      "metadata": {
        "id": "73c69713"
      },
      "outputs": [],
      "source": []
    }
  ],
  "metadata": {
    "kernelspec": {
      "display_name": "base",
      "language": "python",
      "name": "python3"
    },
    "language_info": {
      "codemirror_mode": {
        "name": "ipython",
        "version": 3
      },
      "file_extension": ".py",
      "mimetype": "text/x-python",
      "name": "python",
      "nbconvert_exporter": "python",
      "pygments_lexer": "ipython3",
      "version": "3.7.4"
    },
    "vscode": {
      "interpreter": {
        "hash": "40b976311684e3bdf9a0aa73193e67f2c7e4549596fdee36e668d81b6a71c76a"
      }
    },
    "colab": {
      "provenance": [],
      "include_colab_link": true
    }
  },
  "nbformat": 4,
  "nbformat_minor": 5
}