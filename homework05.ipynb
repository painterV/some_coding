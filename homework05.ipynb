{
  "cells": [
    {
      "cell_type": "markdown",
      "metadata": {
        "id": "view-in-github",
        "colab_type": "text"
      },
      "source": [
        "<a href=\"https://colab.research.google.com/github/painterV/some_coding/blob/main/homework05.ipynb\" target=\"_parent\"><img src=\"https://colab.research.google.com/assets/colab-badge.svg\" alt=\"Open In Colab\"/></a>"
      ]
    },
    {
      "cell_type": "markdown",
      "id": "f774ced6",
      "metadata": {
        "id": "f774ced6"
      },
      "source": [
        "# Homework 5\n",
        "\n",
        "Due December 11, 2022 at 11:59pm.\n",
        "\n",
        "Select `File -> Download As -> Notebook (.ipynb)` and upload your submission to Gradescope.\n",
        "\n",
        "## Congressional Re-Tweeting\n",
        "\n",
        "The United States Congress, composed of the House of Representatives and the Senate, is seated on a two year basis (while Senators sit for 6 year terms, elections for the Senate are staggered such that composition still changes on a two year cycle). These two year periods are labeled in order, with the 115th Congress occuring in the years 2017-2018.\n",
        "\n",
        "[Researchers at UM's School of Information collected Twitter posts from sitting MoCs](https://www.openicpsr.org/openicpsr/project/108303/version/V2/view) (we'll abbreviate \"member of Congress\" as **MoC**) during this period and coded them as being original statements or rewteets of other users' submissions. We will focus on the retweet data. These published data include not only the text of the retweet but also information on the member of Congress and the account of the original tweet.\n",
        "\n",
        "In this assignment, we'll consider whether relationships exist between useage of retweeting and different parties, ages, house of Congress, and features of the original source account."
      ]
    },
    {
      "cell_type": "code",
      "execution_count": 1,
      "id": "ae835217",
      "metadata": {
        "id": "ae835217"
      },
      "outputs": [],
      "source": [
        "import pandas as pd\n",
        "import numpy as np\n",
        "import matplotlib.pyplot as plt\n",
        "import seaborn as sb\n",
        "import statsmodels.api as sm\n",
        "import os"
      ]
    },
    {
      "cell_type": "code",
      "execution_count": 2,
      "id": "e78b64fd",
      "metadata": {
        "id": "e78b64fd"
      },
      "outputs": [],
      "source": [
        "from pandas.plotting import register_matplotlib_converters\n",
        "register_matplotlib_converters()\n",
        "\n",
        "pd.options.mode.chained_assignment = None"
      ]
    },
    {
      "cell_type": "markdown",
      "id": "1b1dbc73",
      "metadata": {
        "id": "1b1dbc73"
      },
      "source": [
        "**Set your section number:**"
      ]
    },
    {
      "cell_type": "code",
      "execution_count": 3,
      "id": "1e8c9f96",
      "metadata": {
        "id": "1e8c9f96"
      },
      "outputs": [],
      "source": [
        "section = \"100\""
      ]
    },
    {
      "cell_type": "markdown",
      "id": "c07a48ac",
      "metadata": {
        "id": "c07a48ac"
      },
      "source": [
        "In the following we will load the data, though for reasons of speed we will exclude the text of the tweets themselves."
      ]
    },
    {
      "cell_type": "code",
      "execution_count": 16,
      "id": "4cfa8728",
      "metadata": {
        "id": "4cfa8728"
      },
      "outputs": [],
      "source": [
        "# base = \"/scratch/stats206s%sf22_class_root/stats206s%sf22_class/materials/data\" % (section, section)\n",
        "base = \"./\"\n",
        "tweets = pd.read_csv(os.path.join(base, \"retweets_congress_115th.csv.gz\"), \n",
        "                     usecols = lambda x: x != \"full_text\",\n",
        "                     dtype = {\"tweet_id_str\": \"str\"},\n",
        "                     index_col = \"tweet_id_str\")"
      ]
    },
    {
      "cell_type": "code",
      "execution_count": 17,
      "id": "8e98a70e",
      "metadata": {
        "colab": {
          "base_uri": "https://localhost:8080/"
        },
        "id": "8e98a70e",
        "outputId": "380bdbf6-0c0a-4bb1-870a-feee15305ea2"
      },
      "outputs": [
        {
          "output_type": "execute_result",
          "data": {
            "text/plain": [
              "(209856, 21)"
            ]
          },
          "metadata": {},
          "execution_count": 17
        }
      ],
      "source": [
        "tweets.shape"
      ]
    },
    {
      "cell_type": "code",
      "execution_count": 37,
      "id": "12c0c480",
      "metadata": {
        "colab": {
          "base_uri": "https://localhost:8080/",
          "height": 1000
        },
        "id": "12c0c480",
        "outputId": "06915257-5dd9-46c3-9c70-187ba0ef9962"
      },
      "outputs": [
        {
          "output_type": "execute_result",
          "data": {
            "text/plain": [
              "                     user_id_str user_screen_name  user_followers_count  \\\n",
              "tweet_id_str                                                              \n",
              "903425145301282816  8.170763e+17     repespaillat               10880.0   \n",
              "903425406774202368  8.170763e+17     repespaillat               10880.0   \n",
              "903657642513637376  8.170763e+17     repespaillat               10880.0   \n",
              "903368643463045120  8.185541e+17    repjackyrosen                8154.0   \n",
              "902260688420253696  8.170763e+17     repespaillat               10880.0   \n",
              "903699825304231940  8.170763e+17     repespaillat               10880.0   \n",
              "903364834418466816  8.170763e+17     repespaillat               10880.0   \n",
              "904106669310955520  8.170763e+17     repespaillat               10880.0   \n",
              "903011462230269956  8.170763e+17     repespaillat               10880.0   \n",
              "902262854245634048  8.170763e+17     repespaillat               10880.0   \n",
              "\n",
              "                                        created_at  retweet_count  \\\n",
              "tweet_id_str                                                        \n",
              "903425145301282816  Fri Sep 01 01:11:54 +0000 2017           34.0   \n",
              "903425406774202368  Fri Sep 01 01:12:56 +0000 2017           78.0   \n",
              "903657642513637376  Fri Sep 01 16:35:45 +0000 2017           66.0   \n",
              "903368643463045120  Thu Aug 31 21:27:23 +0000 2017           11.0   \n",
              "902260688420253696  Mon Aug 28 20:04:45 +0000 2017         1430.0   \n",
              "903699825304231940  Fri Sep 01 19:23:22 +0000 2017           14.0   \n",
              "903364834418466816  Thu Aug 31 21:12:14 +0000 2017            3.0   \n",
              "904106669310955520  Sat Sep 02 22:20:02 +0000 2017            4.0   \n",
              "903011462230269956  Wed Aug 30 21:48:04 +0000 2017           36.0   \n",
              "902262854245634048  Mon Aug 28 20:13:22 +0000 2017           38.0   \n",
              "\n",
              "                                                     retweeted_status    year  \\\n",
              "tweet_id_str                                                                    \n",
              "903425145301282816  {\"contributors\":null,\"coordinates\":null,\"creat...  2017.0   \n",
              "903425406774202368  {\"contributors\":null,\"coordinates\":null,\"creat...  2017.0   \n",
              "903657642513637376  {\"contributors\":null,\"coordinates\":null,\"creat...  2017.0   \n",
              "903368643463045120  {\"contributors\":null,\"coordinates\":null,\"creat...  2017.0   \n",
              "902260688420253696  {\"contributors\":null,\"coordinates\":null,\"creat...  2017.0   \n",
              "903699825304231940  {\"contributors\":null,\"coordinates\":null,\"creat...  2017.0   \n",
              "903364834418466816  {\"contributors\":null,\"coordinates\":null,\"creat...  2017.0   \n",
              "904106669310955520  {\"contributors\":null,\"coordinates\":null,\"creat...  2017.0   \n",
              "903011462230269956  {\"contributors\":null,\"coordinates\":null,\"creat...  2017.0   \n",
              "902262854245634048  {\"contributors\":null,\"coordinates\":null,\"creat...  2017.0   \n",
              "\n",
              "                   bioguide birthday gender  ...     party     region  \\\n",
              "tweet_id_str                                 ...                        \n",
              "903425145301282816  E000297  9/27/54      M  ...  Democrat  Northeast   \n",
              "903425406774202368  E000297  9/27/54      M  ...  Democrat  Northeast   \n",
              "903657642513637376  E000297  9/27/54      M  ...  Democrat  Northeast   \n",
              "903368643463045120  R000608   8/2/57      F  ...  Democrat       West   \n",
              "902260688420253696  E000297  9/27/54      M  ...  Democrat  Northeast   \n",
              "903699825304231940  E000297  9/27/54      M  ...  Democrat  Northeast   \n",
              "903364834418466816  E000297  9/27/54      M  ...  Democrat  Northeast   \n",
              "904106669310955520  E000297  9/27/54      M  ...  Democrat  Northeast   \n",
              "903011462230269956  E000297  9/27/54      M  ...  Democrat  Northeast   \n",
              "902262854245634048  E000297  9/27/54      M  ...  Democrat  Northeast   \n",
              "\n",
              "                      rt_user_id   rt_screen_name rt_followers_count  \\\n",
              "tweet_id_str                                                           \n",
              "903425145301282816  3.353001e+07   HispanicCaucus            50354.0   \n",
              "903425406774202368  1.466394e+09        LuzGrayNV             1343.0   \n",
              "903657642513637376  8.105906e+17  IndivisibleTeam           244211.0   \n",
              "903368643463045120  2.248187e+08  ThonyAvellaneda             6825.0   \n",
              "902260688420253696  4.498818e+07            NAACP           356358.0   \n",
              "903699825304231940  8.170891e+17   ny_indivisible             4232.0   \n",
              "903364834418466816  6.072707e+08   TheAmaraReport             1263.0   \n",
              "904106669310955520  8.859187e+17    DianaAyalaNYC             1646.0   \n",
              "903011462230269956  1.412860e+08    MaketheRoadNY            27841.0   \n",
              "902262854245634048  7.989730e+17    RepValDemings             9246.0   \n",
              "\n",
              "                                                               rt_bio   age  \\\n",
              "tweet_id_str                                                                  \n",
              "903425145301282816  The 31-Member Congressional Hispanic Caucus ad...  65.0   \n",
              "903425406774202368  Periodista |Associate Editor @NVindyespanol | ...  65.0   \n",
              "903657642513637376  Former congressional staffers reveal best prac...  65.0   \n",
              "903368643463045120  Journalist: El Tiempo - Spanish Language Publi...  62.0   \n",
              "902260688420253696  Founded 1909, the NAACP is the nation's first ...  65.0   \n",
              "903699825304231940  New Yorkers resisting, guided by @IndivisibleT...  65.0   \n",
              "903364834418466816  Journalist • Doing the news @NPR & @MorningEdi...  65.0   \n",
              "904106669310955520  New York City Council Member for District 8, p...  65.0   \n",
              "903011462230269956  Building power of Latinx & working class commu...  65.0   \n",
              "902262854245634048  U.S. Representative Florida's 10th Congression...  65.0   \n",
              "\n",
              "                    age_bucket party_is_Democrat  is_congress_retweet  \n",
              "tweet_id_str                                                           \n",
              "903425145301282816          60              True                False  \n",
              "903425406774202368          60              True                False  \n",
              "903657642513637376          60              True                False  \n",
              "903368643463045120          60              True                False  \n",
              "902260688420253696          60              True                False  \n",
              "903699825304231940          60              True                False  \n",
              "903364834418466816          60              True                False  \n",
              "904106669310955520          60              True                False  \n",
              "903011462230269956          60              True                False  \n",
              "902262854245634048          60              True                 True  \n",
              "\n",
              "[10 rows x 23 columns]"
            ],
            "text/html": [
              "\n",
              "  <div id=\"df-4b85ec65-6921-4bb4-be46-a8c6331dcff1\">\n",
              "    <div class=\"colab-df-container\">\n",
              "      <div>\n",
              "<style scoped>\n",
              "    .dataframe tbody tr th:only-of-type {\n",
              "        vertical-align: middle;\n",
              "    }\n",
              "\n",
              "    .dataframe tbody tr th {\n",
              "        vertical-align: top;\n",
              "    }\n",
              "\n",
              "    .dataframe thead th {\n",
              "        text-align: right;\n",
              "    }\n",
              "</style>\n",
              "<table border=\"1\" class=\"dataframe\">\n",
              "  <thead>\n",
              "    <tr style=\"text-align: right;\">\n",
              "      <th></th>\n",
              "      <th>user_id_str</th>\n",
              "      <th>user_screen_name</th>\n",
              "      <th>user_followers_count</th>\n",
              "      <th>created_at</th>\n",
              "      <th>retweet_count</th>\n",
              "      <th>retweeted_status</th>\n",
              "      <th>year</th>\n",
              "      <th>bioguide</th>\n",
              "      <th>birthday</th>\n",
              "      <th>gender</th>\n",
              "      <th>...</th>\n",
              "      <th>party</th>\n",
              "      <th>region</th>\n",
              "      <th>rt_user_id</th>\n",
              "      <th>rt_screen_name</th>\n",
              "      <th>rt_followers_count</th>\n",
              "      <th>rt_bio</th>\n",
              "      <th>age</th>\n",
              "      <th>age_bucket</th>\n",
              "      <th>party_is_Democrat</th>\n",
              "      <th>is_congress_retweet</th>\n",
              "    </tr>\n",
              "    <tr>\n",
              "      <th>tweet_id_str</th>\n",
              "      <th></th>\n",
              "      <th></th>\n",
              "      <th></th>\n",
              "      <th></th>\n",
              "      <th></th>\n",
              "      <th></th>\n",
              "      <th></th>\n",
              "      <th></th>\n",
              "      <th></th>\n",
              "      <th></th>\n",
              "      <th></th>\n",
              "      <th></th>\n",
              "      <th></th>\n",
              "      <th></th>\n",
              "      <th></th>\n",
              "      <th></th>\n",
              "      <th></th>\n",
              "      <th></th>\n",
              "      <th></th>\n",
              "      <th></th>\n",
              "      <th></th>\n",
              "    </tr>\n",
              "  </thead>\n",
              "  <tbody>\n",
              "    <tr>\n",
              "      <th>903425145301282816</th>\n",
              "      <td>8.170763e+17</td>\n",
              "      <td>repespaillat</td>\n",
              "      <td>10880.0</td>\n",
              "      <td>Fri Sep 01 01:11:54 +0000 2017</td>\n",
              "      <td>34.0</td>\n",
              "      <td>{\"contributors\":null,\"coordinates\":null,\"creat...</td>\n",
              "      <td>2017.0</td>\n",
              "      <td>E000297</td>\n",
              "      <td>9/27/54</td>\n",
              "      <td>M</td>\n",
              "      <td>...</td>\n",
              "      <td>Democrat</td>\n",
              "      <td>Northeast</td>\n",
              "      <td>3.353001e+07</td>\n",
              "      <td>HispanicCaucus</td>\n",
              "      <td>50354.0</td>\n",
              "      <td>The 31-Member Congressional Hispanic Caucus ad...</td>\n",
              "      <td>65.0</td>\n",
              "      <td>60</td>\n",
              "      <td>True</td>\n",
              "      <td>False</td>\n",
              "    </tr>\n",
              "    <tr>\n",
              "      <th>903425406774202368</th>\n",
              "      <td>8.170763e+17</td>\n",
              "      <td>repespaillat</td>\n",
              "      <td>10880.0</td>\n",
              "      <td>Fri Sep 01 01:12:56 +0000 2017</td>\n",
              "      <td>78.0</td>\n",
              "      <td>{\"contributors\":null,\"coordinates\":null,\"creat...</td>\n",
              "      <td>2017.0</td>\n",
              "      <td>E000297</td>\n",
              "      <td>9/27/54</td>\n",
              "      <td>M</td>\n",
              "      <td>...</td>\n",
              "      <td>Democrat</td>\n",
              "      <td>Northeast</td>\n",
              "      <td>1.466394e+09</td>\n",
              "      <td>LuzGrayNV</td>\n",
              "      <td>1343.0</td>\n",
              "      <td>Periodista |Associate Editor @NVindyespanol | ...</td>\n",
              "      <td>65.0</td>\n",
              "      <td>60</td>\n",
              "      <td>True</td>\n",
              "      <td>False</td>\n",
              "    </tr>\n",
              "    <tr>\n",
              "      <th>903657642513637376</th>\n",
              "      <td>8.170763e+17</td>\n",
              "      <td>repespaillat</td>\n",
              "      <td>10880.0</td>\n",
              "      <td>Fri Sep 01 16:35:45 +0000 2017</td>\n",
              "      <td>66.0</td>\n",
              "      <td>{\"contributors\":null,\"coordinates\":null,\"creat...</td>\n",
              "      <td>2017.0</td>\n",
              "      <td>E000297</td>\n",
              "      <td>9/27/54</td>\n",
              "      <td>M</td>\n",
              "      <td>...</td>\n",
              "      <td>Democrat</td>\n",
              "      <td>Northeast</td>\n",
              "      <td>8.105906e+17</td>\n",
              "      <td>IndivisibleTeam</td>\n",
              "      <td>244211.0</td>\n",
              "      <td>Former congressional staffers reveal best prac...</td>\n",
              "      <td>65.0</td>\n",
              "      <td>60</td>\n",
              "      <td>True</td>\n",
              "      <td>False</td>\n",
              "    </tr>\n",
              "    <tr>\n",
              "      <th>903368643463045120</th>\n",
              "      <td>8.185541e+17</td>\n",
              "      <td>repjackyrosen</td>\n",
              "      <td>8154.0</td>\n",
              "      <td>Thu Aug 31 21:27:23 +0000 2017</td>\n",
              "      <td>11.0</td>\n",
              "      <td>{\"contributors\":null,\"coordinates\":null,\"creat...</td>\n",
              "      <td>2017.0</td>\n",
              "      <td>R000608</td>\n",
              "      <td>8/2/57</td>\n",
              "      <td>F</td>\n",
              "      <td>...</td>\n",
              "      <td>Democrat</td>\n",
              "      <td>West</td>\n",
              "      <td>2.248187e+08</td>\n",
              "      <td>ThonyAvellaneda</td>\n",
              "      <td>6825.0</td>\n",
              "      <td>Journalist: El Tiempo - Spanish Language Publi...</td>\n",
              "      <td>62.0</td>\n",
              "      <td>60</td>\n",
              "      <td>True</td>\n",
              "      <td>False</td>\n",
              "    </tr>\n",
              "    <tr>\n",
              "      <th>902260688420253696</th>\n",
              "      <td>8.170763e+17</td>\n",
              "      <td>repespaillat</td>\n",
              "      <td>10880.0</td>\n",
              "      <td>Mon Aug 28 20:04:45 +0000 2017</td>\n",
              "      <td>1430.0</td>\n",
              "      <td>{\"contributors\":null,\"coordinates\":null,\"creat...</td>\n",
              "      <td>2017.0</td>\n",
              "      <td>E000297</td>\n",
              "      <td>9/27/54</td>\n",
              "      <td>M</td>\n",
              "      <td>...</td>\n",
              "      <td>Democrat</td>\n",
              "      <td>Northeast</td>\n",
              "      <td>4.498818e+07</td>\n",
              "      <td>NAACP</td>\n",
              "      <td>356358.0</td>\n",
              "      <td>Founded 1909, the NAACP is the nation's first ...</td>\n",
              "      <td>65.0</td>\n",
              "      <td>60</td>\n",
              "      <td>True</td>\n",
              "      <td>False</td>\n",
              "    </tr>\n",
              "    <tr>\n",
              "      <th>903699825304231940</th>\n",
              "      <td>8.170763e+17</td>\n",
              "      <td>repespaillat</td>\n",
              "      <td>10880.0</td>\n",
              "      <td>Fri Sep 01 19:23:22 +0000 2017</td>\n",
              "      <td>14.0</td>\n",
              "      <td>{\"contributors\":null,\"coordinates\":null,\"creat...</td>\n",
              "      <td>2017.0</td>\n",
              "      <td>E000297</td>\n",
              "      <td>9/27/54</td>\n",
              "      <td>M</td>\n",
              "      <td>...</td>\n",
              "      <td>Democrat</td>\n",
              "      <td>Northeast</td>\n",
              "      <td>8.170891e+17</td>\n",
              "      <td>ny_indivisible</td>\n",
              "      <td>4232.0</td>\n",
              "      <td>New Yorkers resisting, guided by @IndivisibleT...</td>\n",
              "      <td>65.0</td>\n",
              "      <td>60</td>\n",
              "      <td>True</td>\n",
              "      <td>False</td>\n",
              "    </tr>\n",
              "    <tr>\n",
              "      <th>903364834418466816</th>\n",
              "      <td>8.170763e+17</td>\n",
              "      <td>repespaillat</td>\n",
              "      <td>10880.0</td>\n",
              "      <td>Thu Aug 31 21:12:14 +0000 2017</td>\n",
              "      <td>3.0</td>\n",
              "      <td>{\"contributors\":null,\"coordinates\":null,\"creat...</td>\n",
              "      <td>2017.0</td>\n",
              "      <td>E000297</td>\n",
              "      <td>9/27/54</td>\n",
              "      <td>M</td>\n",
              "      <td>...</td>\n",
              "      <td>Democrat</td>\n",
              "      <td>Northeast</td>\n",
              "      <td>6.072707e+08</td>\n",
              "      <td>TheAmaraReport</td>\n",
              "      <td>1263.0</td>\n",
              "      <td>Journalist • Doing the news @NPR &amp; @MorningEdi...</td>\n",
              "      <td>65.0</td>\n",
              "      <td>60</td>\n",
              "      <td>True</td>\n",
              "      <td>False</td>\n",
              "    </tr>\n",
              "    <tr>\n",
              "      <th>904106669310955520</th>\n",
              "      <td>8.170763e+17</td>\n",
              "      <td>repespaillat</td>\n",
              "      <td>10880.0</td>\n",
              "      <td>Sat Sep 02 22:20:02 +0000 2017</td>\n",
              "      <td>4.0</td>\n",
              "      <td>{\"contributors\":null,\"coordinates\":null,\"creat...</td>\n",
              "      <td>2017.0</td>\n",
              "      <td>E000297</td>\n",
              "      <td>9/27/54</td>\n",
              "      <td>M</td>\n",
              "      <td>...</td>\n",
              "      <td>Democrat</td>\n",
              "      <td>Northeast</td>\n",
              "      <td>8.859187e+17</td>\n",
              "      <td>DianaAyalaNYC</td>\n",
              "      <td>1646.0</td>\n",
              "      <td>New York City Council Member for District 8, p...</td>\n",
              "      <td>65.0</td>\n",
              "      <td>60</td>\n",
              "      <td>True</td>\n",
              "      <td>False</td>\n",
              "    </tr>\n",
              "    <tr>\n",
              "      <th>903011462230269956</th>\n",
              "      <td>8.170763e+17</td>\n",
              "      <td>repespaillat</td>\n",
              "      <td>10880.0</td>\n",
              "      <td>Wed Aug 30 21:48:04 +0000 2017</td>\n",
              "      <td>36.0</td>\n",
              "      <td>{\"contributors\":null,\"coordinates\":null,\"creat...</td>\n",
              "      <td>2017.0</td>\n",
              "      <td>E000297</td>\n",
              "      <td>9/27/54</td>\n",
              "      <td>M</td>\n",
              "      <td>...</td>\n",
              "      <td>Democrat</td>\n",
              "      <td>Northeast</td>\n",
              "      <td>1.412860e+08</td>\n",
              "      <td>MaketheRoadNY</td>\n",
              "      <td>27841.0</td>\n",
              "      <td>Building power of Latinx &amp; working class commu...</td>\n",
              "      <td>65.0</td>\n",
              "      <td>60</td>\n",
              "      <td>True</td>\n",
              "      <td>False</td>\n",
              "    </tr>\n",
              "    <tr>\n",
              "      <th>902262854245634048</th>\n",
              "      <td>8.170763e+17</td>\n",
              "      <td>repespaillat</td>\n",
              "      <td>10880.0</td>\n",
              "      <td>Mon Aug 28 20:13:22 +0000 2017</td>\n",
              "      <td>38.0</td>\n",
              "      <td>{\"contributors\":null,\"coordinates\":null,\"creat...</td>\n",
              "      <td>2017.0</td>\n",
              "      <td>E000297</td>\n",
              "      <td>9/27/54</td>\n",
              "      <td>M</td>\n",
              "      <td>...</td>\n",
              "      <td>Democrat</td>\n",
              "      <td>Northeast</td>\n",
              "      <td>7.989730e+17</td>\n",
              "      <td>RepValDemings</td>\n",
              "      <td>9246.0</td>\n",
              "      <td>U.S. Representative Florida's 10th Congression...</td>\n",
              "      <td>65.0</td>\n",
              "      <td>60</td>\n",
              "      <td>True</td>\n",
              "      <td>True</td>\n",
              "    </tr>\n",
              "  </tbody>\n",
              "</table>\n",
              "<p>10 rows × 23 columns</p>\n",
              "</div>\n",
              "      <button class=\"colab-df-convert\" onclick=\"convertToInteractive('df-4b85ec65-6921-4bb4-be46-a8c6331dcff1')\"\n",
              "              title=\"Convert this dataframe to an interactive table.\"\n",
              "              style=\"display:none;\">\n",
              "        \n",
              "  <svg xmlns=\"http://www.w3.org/2000/svg\" height=\"24px\"viewBox=\"0 0 24 24\"\n",
              "       width=\"24px\">\n",
              "    <path d=\"M0 0h24v24H0V0z\" fill=\"none\"/>\n",
              "    <path d=\"M18.56 5.44l.94 2.06.94-2.06 2.06-.94-2.06-.94-.94-2.06-.94 2.06-2.06.94zm-11 1L8.5 8.5l.94-2.06 2.06-.94-2.06-.94L8.5 2.5l-.94 2.06-2.06.94zm10 10l.94 2.06.94-2.06 2.06-.94-2.06-.94-.94-2.06-.94 2.06-2.06.94z\"/><path d=\"M17.41 7.96l-1.37-1.37c-.4-.4-.92-.59-1.43-.59-.52 0-1.04.2-1.43.59L10.3 9.45l-7.72 7.72c-.78.78-.78 2.05 0 2.83L4 21.41c.39.39.9.59 1.41.59.51 0 1.02-.2 1.41-.59l7.78-7.78 2.81-2.81c.8-.78.8-2.07 0-2.86zM5.41 20L4 18.59l7.72-7.72 1.47 1.35L5.41 20z\"/>\n",
              "  </svg>\n",
              "      </button>\n",
              "      \n",
              "  <style>\n",
              "    .colab-df-container {\n",
              "      display:flex;\n",
              "      flex-wrap:wrap;\n",
              "      gap: 12px;\n",
              "    }\n",
              "\n",
              "    .colab-df-convert {\n",
              "      background-color: #E8F0FE;\n",
              "      border: none;\n",
              "      border-radius: 50%;\n",
              "      cursor: pointer;\n",
              "      display: none;\n",
              "      fill: #1967D2;\n",
              "      height: 32px;\n",
              "      padding: 0 0 0 0;\n",
              "      width: 32px;\n",
              "    }\n",
              "\n",
              "    .colab-df-convert:hover {\n",
              "      background-color: #E2EBFA;\n",
              "      box-shadow: 0px 1px 2px rgba(60, 64, 67, 0.3), 0px 1px 3px 1px rgba(60, 64, 67, 0.15);\n",
              "      fill: #174EA6;\n",
              "    }\n",
              "\n",
              "    [theme=dark] .colab-df-convert {\n",
              "      background-color: #3B4455;\n",
              "      fill: #D2E3FC;\n",
              "    }\n",
              "\n",
              "    [theme=dark] .colab-df-convert:hover {\n",
              "      background-color: #434B5C;\n",
              "      box-shadow: 0px 1px 3px 1px rgba(0, 0, 0, 0.15);\n",
              "      filter: drop-shadow(0px 1px 2px rgba(0, 0, 0, 0.3));\n",
              "      fill: #FFFFFF;\n",
              "    }\n",
              "  </style>\n",
              "\n",
              "      <script>\n",
              "        const buttonEl =\n",
              "          document.querySelector('#df-4b85ec65-6921-4bb4-be46-a8c6331dcff1 button.colab-df-convert');\n",
              "        buttonEl.style.display =\n",
              "          google.colab.kernel.accessAllowed ? 'block' : 'none';\n",
              "\n",
              "        async function convertToInteractive(key) {\n",
              "          const element = document.querySelector('#df-4b85ec65-6921-4bb4-be46-a8c6331dcff1');\n",
              "          const dataTable =\n",
              "            await google.colab.kernel.invokeFunction('convertToInteractive',\n",
              "                                                     [key], {});\n",
              "          if (!dataTable) return;\n",
              "\n",
              "          const docLinkHtml = 'Like what you see? Visit the ' +\n",
              "            '<a target=\"_blank\" href=https://colab.research.google.com/notebooks/data_table.ipynb>data table notebook</a>'\n",
              "            + ' to learn more about interactive tables.';\n",
              "          element.innerHTML = '';\n",
              "          dataTable['output_type'] = 'display_data';\n",
              "          await google.colab.output.renderOutput(dataTable, element);\n",
              "          const docLink = document.createElement('div');\n",
              "          docLink.innerHTML = docLinkHtml;\n",
              "          element.appendChild(docLink);\n",
              "        }\n",
              "      </script>\n",
              "    </div>\n",
              "  </div>\n",
              "  "
            ]
          },
          "metadata": {},
          "execution_count": 37
        }
      ],
      "source": [
        "tweets.columns\n",
        "\n",
        "tweets.head(10)"
      ]
    },
    {
      "cell_type": "markdown",
      "id": "fe436b96",
      "metadata": {
        "id": "fe436b96"
      },
      "source": [
        "## Question 1\n",
        "\n",
        "In the following section we are going to perform inference on this data set. To do so, we need to think about these data as a sample from a population. Before beginning our data analysis, we will define some important terms and describe a sampling process will think makes sense for this setting.\n",
        "\n",
        "### Part (a)\n",
        "\n",
        "In your own words, define a **population**. What are the common features of all populations? Does a population have to be a set of things we that physically exist in the world? \n"
      ]
    },
    {
      "cell_type": "markdown",
      "id": "4190ec78",
      "metadata": {
        "id": "4190ec78"
      },
      "source": [
        "In statistics, a population refers to any collection of specified group of human beings or of\n",
        "non-human entities such as objects, educational institutions, time units, geographical areas,\n",
        "prices of wheat or salaries drawn by individuals. Some statisticians call it universe.\n",
        "\n",
        "The common features of all populations are massive, homogeneity and variability.\n",
        "\n",
        "No exactly. A population can be a set of things without physical body."
      ]
    },
    {
      "cell_type": "markdown",
      "id": "2820151d",
      "metadata": {
        "id": "2820151d"
      },
      "source": [
        "### Part (b)\n",
        "\n",
        "In your own words, define a **sample**. Why do we have to analyze samples instead of populations? What is the connection between a population and a sample? "
      ]
    },
    {
      "cell_type": "markdown",
      "id": "2db9f878",
      "metadata": {
        "id": "2db9f878"
      },
      "source": [
        "A sample is a random selection of members of a population. \n",
        "\n",
        "In most cases, a population can be too large to collect accurate data – which is not practical. Samples offer a representation of the whole population if sampled accordingly. Samples allow researchers to collect data that can be analyzed to provide insights into the entire population.\n",
        "\n",
        "It is a smaller group drawn from the population that has the characteristics of the entire population. The observations and conclusions made against the sample data are attributed to the population as a whole."
      ]
    },
    {
      "cell_type": "markdown",
      "id": "be4cd2ac",
      "metadata": {
        "id": "be4cd2ac"
      },
      "source": [
        "### Part (c)\n",
        "\n",
        "What population would we like to study using the sample of retweets? In forming your answer, think about how time might play a role. Also consider whether you could describe a **data generating process** that creates retweets.\n",
        "\n",
        "There is no exact answer to these questions, but the important part is to make an effort that could convenince others."
      ]
    },
    {
      "cell_type": "markdown",
      "id": "c4e963e3",
      "metadata": {
        "id": "c4e963e3"
      },
      "source": [
        "The population that we would like to study is the set of all retweet behavior of all previous MoC in each session.\n",
        "\n",
        "Time just plays a sample dimension role."
      ]
    },
    {
      "cell_type": "markdown",
      "id": "e25d97bd",
      "metadata": {
        "id": "e25d97bd"
      },
      "source": [
        "## Question 2\n",
        "\n",
        "### Part (a)\n",
        "\n",
        "Congress is largely composed of two parties (Democrats and Republicans), with a few independents. Which party is responsible for most of the retweets?\n",
        "\n",
        "Compute the marginal probability of the party of the tweet and save the result to `party_marg`. Display this result."
      ]
    },
    {
      "cell_type": "code",
      "execution_count": 58,
      "id": "09170ba6",
      "metadata": {
        "colab": {
          "base_uri": "https://localhost:8080/",
          "height": 107
        },
        "id": "09170ba6",
        "outputId": "58dce066-96af-4e43-aac4-482591382bdd"
      },
      "outputs": [
        {
          "output_type": "stream",
          "name": "stdout",
          "text": [
            "Democrat       0.588176\n",
            "Republican     0.407493\n",
            "Independent    0.004330\n",
            "Name: party, dtype: float64\n"
          ]
        },
        {
          "output_type": "execute_result",
          "data": {
            "text/plain": [
              "'Democrat'"
            ],
            "application/vnd.google.colaboratory.intrinsic+json": {
              "type": "string"
            }
          },
          "metadata": {},
          "execution_count": 58
        }
      ],
      "source": [
        "party_marg = tweets[\"party\"].value_counts(normalize=True)\n",
        "print(party_marg)\n",
        "\n",
        "max_responsible_part = party_marg.idxmax()\n",
        "max_responsible_part"
      ]
    },
    {
      "cell_type": "markdown",
      "id": "f491743d",
      "metadata": {
        "id": "f491743d"
      },
      "source": [
        "### Part (b)"
      ]
    },
    {
      "cell_type": "markdown",
      "id": "4d031626",
      "metadata": {
        "id": "4d031626"
      },
      "source": [
        "One question we might ask is, \"How often do Congress members retweet each other?\"\n",
        "\n",
        "Create a new column called `\"is_congress_retweet\"` that will indicate if the retweet is coming from a MoC. First get the set of unique `\"user_id_str\"` values using the `.unique()` method. Then using that set of ids, use the `.isin(values)` method on the `\"rt_user_id\"` column to create the new boolean column `\"is_congress_retweet\"`.\n",
        "\n",
        "Find the marginal probability of retweeting a MoC and save the result to `\"congress_retweet_marg\"`. Display these results. Is it more common to retweet a member of Congress or from outside of Congress?"
      ]
    },
    {
      "cell_type": "code",
      "execution_count": 29,
      "id": "9455df43",
      "metadata": {
        "colab": {
          "base_uri": "https://localhost:8080/"
        },
        "id": "9455df43",
        "outputId": "b8b3fd98-b453-4530-cb70-768dbb694aac"
      },
      "outputs": [
        {
          "output_type": "stream",
          "name": "stdout",
          "text": [
            "0.19129784232997865\n",
            "it is more common to retweet from outside of Congress\n"
          ]
        }
      ],
      "source": [
        "tweets[\"is_congress_retweet\"] = tweets[\"rt_user_id\"].isin(tweets[\"user_id_str\"].unique())\n",
        "\n",
        "tweets[\"is_congress_retweet\"].value_counts(dropna = False)\n",
        "\n",
        "congress_retweet_marg = tweets[\"is_congress_retweet\"].mean()\n",
        "\n",
        "print(congress_retweet_marg)\n",
        "\n",
        "if congress_retweet_marg > 0.5:\n",
        "    print(\"it is more common to retweet a member of Congress\")\n",
        "elif congress_retweet_marg < 0.5:\n",
        "    print(\"it is more common to retweet from outside of Congress\")\n",
        "else:\n",
        "    print(\"same common\")\n",
        "# 0.19129784232997865\n",
        "# it is more common to retweet from outside of Congress"
      ]
    },
    {
      "cell_type": "markdown",
      "id": "5fc3cd19",
      "metadata": {
        "id": "5fc3cd19"
      },
      "source": [
        "### Part (c)\n",
        "\n",
        "Do the parties retweet each other at the same rates?\n",
        "\n",
        "* Calcuate the counts of retweets by each party (`\"party_cong_retweet_counts\"`).\n",
        "* Calculate and display the joint probability of party and whether the retweet comes from a MoC. Call this table \"`party_cong_retweet_joint`\".\n",
        "* Calculate the conditional probability of retweeting a MoC conditioning on the party. Feel free to use the marginal probabilities you already calculated in Part (a).\n",
        "\n",
        "Which party has the higher conditional probability of retweeting a MoC? Why did we need to calculate the conditional probability instead of just using the joint probabilities to answer the question \"Do the parties retweet each other at the same rates?\"\n"
      ]
    },
    {
      "cell_type": "code",
      "execution_count": 69,
      "id": "ba19a619",
      "metadata": {
        "colab": {
          "base_uri": "https://localhost:8080/",
          "height": 143
        },
        "id": "ba19a619",
        "outputId": "4c41f77b-9820-4380-e126-630b6f8adfb9"
      },
      "outputs": [
        {
          "output_type": "execute_result",
          "data": {
            "text/plain": [
              "is_congress_retweet     False      True\n",
              "Democrat             0.771414  0.228586\n",
              "Independent          0.817778  0.182222\n",
              "Republican           0.859288  0.140712"
            ],
            "text/html": [
              "\n",
              "  <div id=\"df-b1fece90-f033-4270-ae43-d8065fbb0517\">\n",
              "    <div class=\"colab-df-container\">\n",
              "      <div>\n",
              "<style scoped>\n",
              "    .dataframe tbody tr th:only-of-type {\n",
              "        vertical-align: middle;\n",
              "    }\n",
              "\n",
              "    .dataframe tbody tr th {\n",
              "        vertical-align: top;\n",
              "    }\n",
              "\n",
              "    .dataframe thead th {\n",
              "        text-align: right;\n",
              "    }\n",
              "</style>\n",
              "<table border=\"1\" class=\"dataframe\">\n",
              "  <thead>\n",
              "    <tr style=\"text-align: right;\">\n",
              "      <th>is_congress_retweet</th>\n",
              "      <th>False</th>\n",
              "      <th>True</th>\n",
              "    </tr>\n",
              "  </thead>\n",
              "  <tbody>\n",
              "    <tr>\n",
              "      <th>Democrat</th>\n",
              "      <td>0.771414</td>\n",
              "      <td>0.228586</td>\n",
              "    </tr>\n",
              "    <tr>\n",
              "      <th>Independent</th>\n",
              "      <td>0.817778</td>\n",
              "      <td>0.182222</td>\n",
              "    </tr>\n",
              "    <tr>\n",
              "      <th>Republican</th>\n",
              "      <td>0.859288</td>\n",
              "      <td>0.140712</td>\n",
              "    </tr>\n",
              "  </tbody>\n",
              "</table>\n",
              "</div>\n",
              "      <button class=\"colab-df-convert\" onclick=\"convertToInteractive('df-b1fece90-f033-4270-ae43-d8065fbb0517')\"\n",
              "              title=\"Convert this dataframe to an interactive table.\"\n",
              "              style=\"display:none;\">\n",
              "        \n",
              "  <svg xmlns=\"http://www.w3.org/2000/svg\" height=\"24px\"viewBox=\"0 0 24 24\"\n",
              "       width=\"24px\">\n",
              "    <path d=\"M0 0h24v24H0V0z\" fill=\"none\"/>\n",
              "    <path d=\"M18.56 5.44l.94 2.06.94-2.06 2.06-.94-2.06-.94-.94-2.06-.94 2.06-2.06.94zm-11 1L8.5 8.5l.94-2.06 2.06-.94-2.06-.94L8.5 2.5l-.94 2.06-2.06.94zm10 10l.94 2.06.94-2.06 2.06-.94-2.06-.94-.94-2.06-.94 2.06-2.06.94z\"/><path d=\"M17.41 7.96l-1.37-1.37c-.4-.4-.92-.59-1.43-.59-.52 0-1.04.2-1.43.59L10.3 9.45l-7.72 7.72c-.78.78-.78 2.05 0 2.83L4 21.41c.39.39.9.59 1.41.59.51 0 1.02-.2 1.41-.59l7.78-7.78 2.81-2.81c.8-.78.8-2.07 0-2.86zM5.41 20L4 18.59l7.72-7.72 1.47 1.35L5.41 20z\"/>\n",
              "  </svg>\n",
              "      </button>\n",
              "      \n",
              "  <style>\n",
              "    .colab-df-container {\n",
              "      display:flex;\n",
              "      flex-wrap:wrap;\n",
              "      gap: 12px;\n",
              "    }\n",
              "\n",
              "    .colab-df-convert {\n",
              "      background-color: #E8F0FE;\n",
              "      border: none;\n",
              "      border-radius: 50%;\n",
              "      cursor: pointer;\n",
              "      display: none;\n",
              "      fill: #1967D2;\n",
              "      height: 32px;\n",
              "      padding: 0 0 0 0;\n",
              "      width: 32px;\n",
              "    }\n",
              "\n",
              "    .colab-df-convert:hover {\n",
              "      background-color: #E2EBFA;\n",
              "      box-shadow: 0px 1px 2px rgba(60, 64, 67, 0.3), 0px 1px 3px 1px rgba(60, 64, 67, 0.15);\n",
              "      fill: #174EA6;\n",
              "    }\n",
              "\n",
              "    [theme=dark] .colab-df-convert {\n",
              "      background-color: #3B4455;\n",
              "      fill: #D2E3FC;\n",
              "    }\n",
              "\n",
              "    [theme=dark] .colab-df-convert:hover {\n",
              "      background-color: #434B5C;\n",
              "      box-shadow: 0px 1px 3px 1px rgba(0, 0, 0, 0.15);\n",
              "      filter: drop-shadow(0px 1px 2px rgba(0, 0, 0, 0.3));\n",
              "      fill: #FFFFFF;\n",
              "    }\n",
              "  </style>\n",
              "\n",
              "      <script>\n",
              "        const buttonEl =\n",
              "          document.querySelector('#df-b1fece90-f033-4270-ae43-d8065fbb0517 button.colab-df-convert');\n",
              "        buttonEl.style.display =\n",
              "          google.colab.kernel.accessAllowed ? 'block' : 'none';\n",
              "\n",
              "        async function convertToInteractive(key) {\n",
              "          const element = document.querySelector('#df-b1fece90-f033-4270-ae43-d8065fbb0517');\n",
              "          const dataTable =\n",
              "            await google.colab.kernel.invokeFunction('convertToInteractive',\n",
              "                                                     [key], {});\n",
              "          if (!dataTable) return;\n",
              "\n",
              "          const docLinkHtml = 'Like what you see? Visit the ' +\n",
              "            '<a target=\"_blank\" href=https://colab.research.google.com/notebooks/data_table.ipynb>data table notebook</a>'\n",
              "            + ' to learn more about interactive tables.';\n",
              "          element.innerHTML = '';\n",
              "          dataTable['output_type'] = 'display_data';\n",
              "          await google.colab.output.renderOutput(dataTable, element);\n",
              "          const docLink = document.createElement('div');\n",
              "          docLink.innerHTML = docLinkHtml;\n",
              "          element.appendChild(docLink);\n",
              "        }\n",
              "      </script>\n",
              "    </div>\n",
              "  </div>\n",
              "  "
            ]
          },
          "metadata": {},
          "execution_count": 69
        }
      ],
      "source": [
        "party_cong_retweet_counts = tweets[\"party\"].value_counts(dropna = False)\n",
        "party_cong_retweet_counts\n",
        "\n",
        "party_cong_retweet_joint = tweets.groupby([\"party\", \"is_congress_retweet\"]).size().unstack()\n",
        "party_cong_retweet_joint\n",
        "\n",
        "probs = party_cong_retweet_joint / party_cong_retweet_joint.sum().sum()\n",
        "probs\n",
        "\n",
        "# party_marg_v2 = probs.sum(1)\n",
        "\n",
        "party_cond = probs.div(party_marg, axis = 0)\n",
        "party_cond"
      ]
    },
    {
      "cell_type": "markdown",
      "source": [],
      "metadata": {
        "id": "Oh4UKfxVNgO2"
      },
      "id": "Oh4UKfxVNgO2"
    },
    {
      "cell_type": "markdown",
      "source": [
        "Answer: Democrat has the higher conditional probability of retweeting a MoC. Why did we need to calculate the conditional probability instead of just using the joint probabilities to answer the question \"Do the parties retweet each other at the same rates?\""
      ],
      "metadata": {
        "id": "6VM_JFbxNgb-"
      },
      "id": "6VM_JFbxNgb-"
    },
    {
      "cell_type": "markdown",
      "id": "fece2fb7",
      "metadata": {
        "id": "fece2fb7"
      },
      "source": [
        "### Part (d)"
      ]
    },
    {
      "cell_type": "markdown",
      "id": "b36f6ace",
      "metadata": {
        "id": "b36f6ace"
      },
      "source": [
        "If party and rewteeting a MoC are independent in the population you described in 1(c), then the joint distribuiton of these measurements should be close to the product of the marginal probabilities. \n",
        "\n",
        "Create the probabilities we would expect to see if party and MoC retweeting were independent (call this table `\"party_cong_retweet_indep\"`). Recall the function `np.outer` is useful for this purpose.\n",
        "\n",
        "Display this table and comment if it looks like the table of joint probabilities from 1(c)."
      ]
    },
    {
      "cell_type": "code",
      "execution_count": null,
      "id": "19dc2aa0",
      "metadata": {
        "id": "19dc2aa0"
      },
      "outputs": [],
      "source": []
    },
    {
      "cell_type": "markdown",
      "id": "0220df68",
      "metadata": {
        "id": "0220df68"
      },
      "source": [
        "## Question 3\n",
        "\n",
        "In this question will we extend the results of question 2 to perform a formal hypothesis test that party and member retweeting are independent.\n",
        "\n",
        "### Part (a)\n",
        "\n",
        "In your own words, describe a hypothesis test. Make sure to define the null hypothesis, alternative hypothesis, and critical value. Under what circumstances to you reject a null hypothesis? Under what circumstances to you fail to reject the null hypothesis?"
      ]
    },
    {
      "cell_type": "markdown",
      "id": "8b35e36b",
      "metadata": {
        "id": "8b35e36b"
      },
      "source": []
    },
    {
      "cell_type": "markdown",
      "id": "63d79426",
      "metadata": {
        "id": "63d79426"
      },
      "source": [
        "### Part (b)"
      ]
    },
    {
      "cell_type": "markdown",
      "id": "e50e0497",
      "metadata": {
        "id": "e50e0497"
      },
      "source": [
        "Calculate the Pearson residuals from for party and MoC retweeting by calculating the expected counts of under independence, the difference from the observed counts, and then dividing by the square root of the expected counts. "
      ]
    },
    {
      "cell_type": "code",
      "execution_count": null,
      "id": "a5853558",
      "metadata": {
        "id": "a5853558"
      },
      "outputs": [],
      "source": []
    },
    {
      "cell_type": "markdown",
      "id": "4d99439c",
      "metadata": {
        "id": "4d99439c"
      },
      "source": [
        "### Part (c)\n",
        "\n",
        "Are any of the values outside of the range (-3,3)? What would you conclude about values outside of this range?"
      ]
    },
    {
      "cell_type": "markdown",
      "id": "2a4adc9a",
      "metadata": {
        "id": "2a4adc9a"
      },
      "source": []
    },
    {
      "cell_type": "markdown",
      "id": "c7567f4f",
      "metadata": {
        "id": "c7567f4f"
      },
      "source": [
        "### Part (d)\n",
        "\n",
        "We can combine all of these individual tests for each cell into a composite test by squaring and summing the values.\n",
        "\n",
        "At a 95% confidence level, we would reject the hypothesis that party and congressional retweeting are independent if the sum of squared deviations exceeds 5.99. (remember to use `.sum().sum()` to get the sum for the entire table)\n",
        "\n",
        "Do we reject the hypothesis of independence?"
      ]
    },
    {
      "cell_type": "code",
      "execution_count": null,
      "id": "b9cf3a62",
      "metadata": {
        "id": "b9cf3a62"
      },
      "outputs": [],
      "source": []
    },
    {
      "cell_type": "markdown",
      "id": "8cedf269",
      "metadata": {
        "id": "8cedf269"
      },
      "source": [
        "## Question 4"
      ]
    },
    {
      "cell_type": "markdown",
      "id": "541d1bba",
      "metadata": {
        "id": "541d1bba"
      },
      "source": [
        "In this question we will aggregate up to the level of individual MoCs to investigate questions of how MoCs behave with respect to retweeting behavior."
      ]
    },
    {
      "cell_type": "markdown",
      "id": "0e9ddb80",
      "metadata": {
        "id": "0e9ddb80"
      },
      "source": [
        "### Part (a)\n",
        "\n",
        "Aggregate (`groupby` and `agg`) the retweeting data using the `user_id_str` column. Use the following functions for the respective columns:\n",
        "\n",
        "* `first`: `gender`, `chamber`, `party`, `region`, `age_bucket`, `age`\n",
        "* `max`: `user_followers_count`\n",
        "* `mean`: `rt_followers_count`\n",
        "\n",
        "Save these results as `moc_retweets`.\n",
        "\n",
        "Compute (and display) the conditional mean of `user_followers_count` given `age_bucket`. Which age group has the highest average number of followers?"
      ]
    },
    {
      "cell_type": "code",
      "execution_count": null,
      "id": "932ecda6",
      "metadata": {
        "id": "932ecda6"
      },
      "outputs": [],
      "source": []
    },
    {
      "cell_type": "markdown",
      "id": "6a662111",
      "metadata": {
        "id": "6a662111"
      },
      "source": [
        "### Part (b)"
      ]
    },
    {
      "cell_type": "markdown",
      "id": "27c250aa",
      "metadata": {
        "id": "27c250aa"
      },
      "source": [
        "Now aggregate up the number of retweets per MoC from the `tweets` table using the `.size()` method after grouping by `user_id_str`. \n",
        "\n",
        "Add this information to the `moc_retweets` table as a new column `\"retweets\"`.\n",
        "\n",
        "Create a box plot of the number of retweets (y-axis) against the party of the MoC (x-axis) (use the `showfliers = False` option).\n",
        "\n",
        "<!-- Which party's member tend to have higher amount of retweeting activity -->"
      ]
    },
    {
      "cell_type": "code",
      "execution_count": null,
      "id": "0e91eb65",
      "metadata": {
        "id": "0e91eb65"
      },
      "outputs": [],
      "source": []
    },
    {
      "cell_type": "markdown",
      "id": "dcacbe3c",
      "metadata": {
        "id": "dcacbe3c"
      },
      "source": [
        "### Part (c)\n",
        "\n",
        "Perform a difference of means test of comparing the number of retweets by Republicans and Democrats (ignore independents). Would you reject the null hypothesis that these two groups have the same average number of retweets?"
      ]
    },
    {
      "cell_type": "code",
      "execution_count": null,
      "id": "70ae7520",
      "metadata": {
        "id": "70ae7520"
      },
      "outputs": [],
      "source": []
    },
    {
      "cell_type": "markdown",
      "id": "fc47dc9f",
      "metadata": {
        "id": "fc47dc9f"
      },
      "source": [
        "## Question 5\n",
        "\n",
        "In this section, we ask, \"Do popular MoCs (in the sense of having many followers) tend to retweet popular tweets or do they amplify unknown sources?\""
      ]
    },
    {
      "cell_type": "markdown",
      "id": "8bd590a2",
      "metadata": {
        "id": "8bd590a2"
      },
      "source": [
        "### Part (a)\n",
        "\n",
        "Using a KDE plot, plot the marginal distributions of the maximum number of followers a MoC had (`\"user_followers_counts\"`) and the average number of followers of the retweeted user (`\"rt_followers_count\"`) from the `moc_retweets` table.\n",
        "\n",
        "Comment on these distributions. Do you think that a transformation would be beneficial?"
      ]
    },
    {
      "cell_type": "code",
      "execution_count": null,
      "id": "46a5ebf8",
      "metadata": {
        "id": "46a5ebf8"
      },
      "outputs": [],
      "source": []
    },
    {
      "cell_type": "markdown",
      "id": "5cf303ab",
      "metadata": {
        "id": "5cf303ab"
      },
      "source": [
        "### Part (b)\n",
        "\n",
        "Plot a scatter plot of the transformation (if you selected one) of `user_followers_count` on the x-axis and  the transformation of `\"rt_followers_count\"` (if you selected one) on the y-axis from the `moc_retweets` table. What kind of trend do you observe?"
      ]
    },
    {
      "cell_type": "code",
      "execution_count": null,
      "id": "4ed51ed9",
      "metadata": {
        "id": "4ed51ed9"
      },
      "outputs": [],
      "source": []
    },
    {
      "cell_type": "markdown",
      "id": "e9df1685",
      "metadata": {
        "id": "e9df1685"
      },
      "source": [
        "### Part (c)\n",
        "\n",
        "Compute the correlation between the variables plotted in the previous plot. Peform a hypothesis test of the this value for the hypothesis that the population correlation is zero at the significance level $\\alpha = 0.05$."
      ]
    },
    {
      "cell_type": "code",
      "execution_count": null,
      "id": "a8b2235f",
      "metadata": {
        "id": "a8b2235f"
      },
      "outputs": [],
      "source": []
    },
    {
      "cell_type": "markdown",
      "id": "8e6c4f84",
      "metadata": {
        "id": "8e6c4f84"
      },
      "source": [
        "### Part (d)\n",
        "\n",
        "We might be interested if accounting for age influences our understanding of the relationship of MoC followers and average retweet followers. \n",
        "\n",
        "Compute a linear regression of the (transformed) number of MoC followers with (transformed) RT followers and age. Perform a hypothesis test for the RT followers coefficient. Interpret this result and comment on what we can conclude from these results."
      ]
    },
    {
      "cell_type": "code",
      "execution_count": null,
      "id": "73c69713",
      "metadata": {
        "id": "73c69713"
      },
      "outputs": [],
      "source": []
    }
  ],
  "metadata": {
    "kernelspec": {
      "display_name": "base",
      "language": "python",
      "name": "python3"
    },
    "language_info": {
      "codemirror_mode": {
        "name": "ipython",
        "version": 3
      },
      "file_extension": ".py",
      "mimetype": "text/x-python",
      "name": "python",
      "nbconvert_exporter": "python",
      "pygments_lexer": "ipython3",
      "version": "3.7.4"
    },
    "vscode": {
      "interpreter": {
        "hash": "40b976311684e3bdf9a0aa73193e67f2c7e4549596fdee36e668d81b6a71c76a"
      }
    },
    "colab": {
      "provenance": [],
      "include_colab_link": true
    }
  },
  "nbformat": 4,
  "nbformat_minor": 5
}