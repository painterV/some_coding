{
  "nbformat": 4,
  "nbformat_minor": 0,
  "metadata": {
    "colab": {
      "provenance": [],
      "authorship_tag": "ABX9TyNXWRGlICceC+Eyvli4JreS",
      "include_colab_link": true
    },
    "kernelspec": {
      "name": "python3",
      "display_name": "Python 3"
    },
    "language_info": {
      "name": "python"
    }
  },
  "cells": [
    {
      "cell_type": "markdown",
      "metadata": {
        "id": "view-in-github",
        "colab_type": "text"
      },
      "source": [
        "<a href=\"https://colab.research.google.com/github/painterV/some_coding/blob/main/bipartitie_graph.ipynb\" target=\"_parent\"><img src=\"https://colab.research.google.com/assets/colab-badge.svg\" alt=\"Open In Colab\"/></a>"
      ]
    },
    {
      "cell_type": "code",
      "execution_count": null,
      "metadata": {
        "id": "JS8nDGORHhqb"
      },
      "outputs": [],
      "source": [
        "#首先导入网络图的python库 networkx，重命名为nx\n",
        "import networkx as nx\n",
        "\n",
        "#新建一个网络图\n",
        "G = nx.Graph()"
      ]
    },
    {
      "cell_type": "code",
      "source": [
        "#向图中添加一个节点\n",
        "G.add_node(1)"
      ],
      "metadata": {
        "id": "Lnk7Xz4cHzcy"
      },
      "execution_count": null,
      "outputs": []
    },
    {
      "cell_type": "code",
      "source": [
        "G.add_nodes_from([2, 3])"
      ],
      "metadata": {
        "id": "27gLAM1lIAf9"
      },
      "execution_count": null,
      "outputs": []
    },
    {
      "cell_type": "code",
      "source": [
        "print(G)"
      ],
      "metadata": {
        "colab": {
          "base_uri": "https://localhost:8080/"
        },
        "id": "sMeLradzISiY",
        "outputId": "f148976d-42b6-419e-e48b-53a6c9bf068f"
      },
      "execution_count": null,
      "outputs": [
        {
          "output_type": "stream",
          "name": "stdout",
          "text": [
            "Graph with 3 nodes and 0 edges\n"
          ]
        }
      ]
    },
    {
      "cell_type": "code",
      "source": [
        "G.add_edge(2,1)"
      ],
      "metadata": {
        "id": "mdtzYZSQIVF3"
      },
      "execution_count": null,
      "outputs": []
    },
    {
      "cell_type": "code",
      "source": [
        "print(G)"
      ],
      "metadata": {
        "colab": {
          "base_uri": "https://localhost:8080/"
        },
        "id": "15AtJ-yXId7v",
        "outputId": "01fe556b-098f-4805-accc-3f32daad3d8f"
      },
      "execution_count": null,
      "outputs": [
        {
          "output_type": "stream",
          "name": "stdout",
          "text": [
            "Graph with 3 nodes and 1 edges\n"
          ]
        }
      ]
    },
    {
      "cell_type": "code",
      "source": [
        "#导入networkx包重命名为nx\n",
        "import networkx as nx\n",
        "#从networkx.algorithms里导入bipartite\n",
        "from networkx.algorithms import bipartite\n",
        "\n",
        "# 定义 Physicians 类型的结点列表\n",
        "Physicians = ['A', 'B', 'C', 'D', 'E', 'F']\n",
        "# 定义 patients 类型的结点列表\n",
        "patients = [1,2,3]\n",
        "\n",
        "# 新建一个空的图\n",
        "B = nx.Graph()\n",
        "# 添加 Physicians 类型的结点到图中，注意要设置图的属性值 bipartite=0\n",
        "B.add_nodes_from(Physicians, bipartite=0)\n",
        "# 添加 patients 类型的结点到图中，注意要设置图的属性值 bipartite=1\n",
        "B.add_nodes_from(patients, bipartite=1)\n",
        "# 添加边\n",
        "B.add_edges_from([('A', 1), ('A', 2), ('B', 2), ('C', 1), ('C', 2), ('D', 2), ('D', 3), ('E', 2), ('E', 3), ('F', 3)])\n",
        "\n",
        "#for循环为每一条边初始化权重为1\n",
        "for v, w in B.edges: \n",
        "    B.edges[v, w][\"weight\"] = 1\n"
      ],
      "metadata": {
        "colab": {
          "base_uri": "https://localhost:8080/"
        },
        "id": "AJjI8s68I_qr",
        "outputId": "35662676-05c0-4260-ebc4-f20eb3bad1e7"
      },
      "execution_count": 14,
      "outputs": [
        {
          "output_type": "stream",
          "name": "stdout",
          "text": [
            "{'A': {1: {'weight': 1}, 2: {'weight': 1}}, 'B': {2: {'weight': 1}}, 'C': {1: {'weight': 1}, 2: {'weight': 1}}, 'D': {2: {'weight': 1}, 3: {'weight': 1}}, 'E': {2: {'weight': 1}, 3: {'weight': 1}}, 'F': {3: {'weight': 1}}, 1: {'A': {'weight': 1}, 'C': {'weight': 1}}, 2: {'A': {'weight': 1}, 'B': {'weight': 1}, 'C': {'weight': 1}, 'D': {'weight': 1}, 'E': {'weight': 1}}, 3: {'D': {'weight': 1}, 'E': {'weight': 1}, 'F': {'weight': 1}}}\n"
          ]
        }
      ]
    },
    {
      "cell_type": "code",
      "source": [
        "#导入画图的库pyplot\n",
        "import matplotlib.pyplot as plt\n",
        "top = nx.bipartite.sets(B)[0]\n",
        "bottom = nx.bipartite.sets(B)[1]\n",
        "print(top)\n",
        "print(bottom)\n",
        "\n",
        "pos = nx.bipartite_layout(B, top)\n",
        "nx.draw(B, pos=pos, with_labels=True, node_color=['green','green','green','green', 'green', 'green','blue','blue','blue'], node_shape='o')\n",
        "plt.show()"
      ],
      "metadata": {
        "colab": {
          "base_uri": "https://localhost:8080/",
          "height": 355
        },
        "id": "6qoZe05FS15q",
        "outputId": "6ebaefcc-d443-4910-84cc-37017f89cb59"
      },
      "execution_count": 47,
      "outputs": [
        {
          "output_type": "stream",
          "name": "stdout",
          "text": [
            "{'E', 'D', 'B', 'C', 'F', 'A'}\n",
            "{1, 2, 3}\n"
          ]
        },
        {
          "output_type": "display_data",
          "data": {
            "text/plain": [
              "<Figure size 432x288 with 1 Axes>"
            ],
            "image/png": "[encoded data removed]"
          },
          "metadata": {}
        }
      ]
    },
    {
      "cell_type": "code",
      "source": [
        "#获取邻接矩阵\n",
        "bottom_nodes, top_nodes = bipartite.sets(B)\n",
        "print(\"下方结点列表为：\")\n",
        "print(bottom_nodes)\n",
        "print(\"上方结点列表为：\")\n",
        "print(top_nodes)\n",
        "\n",
        "G = bipartite.weighted_projected_graph(B, bottom_nodes)\n",
        "\n",
        "print(\"Physicians单图投射:\")\n",
        "print(G)\n",
        "A = nx.to_numpy_array(G)\n",
        "\n",
        "print(\"Physicians单图投射的邻接矩阵为：\")\n",
        "print(A)\n",
        "\n",
        "\n",
        "\n",
        "# nx.draw(G,with_labels=True)\n",
        "# plt.show()\n",
        "# elarge = [(u, v) for (u, v, d) in G.edges(data=True) if d[\"weight\"] > 0.5]\n",
        "# esmall = [(u, v) for (u, v, d) in G.edges(data=True) if d[\"weight\"] <= 0.5]\n",
        "\n",
        "pos = nx.spring_layout(G)  # positions for all nodes - seed for reproducibility\n",
        "\n",
        "# nodes\n",
        "nx.draw_networkx_nodes(G, pos)\n",
        "\n",
        "# edges\n",
        "nx.draw_networkx_edges(G, pos)\n",
        "nx.draw_networkx_edges(\n",
        "    G, pos, edgelist=esmall, edge_color=\"b\")\n",
        "\n",
        "# node labels\n",
        "nx.draw_networkx_labels(G, pos)\n",
        "# edge weight labels\n",
        "edge_labels = nx.get_edge_attributes(G, \"weight\")\n",
        "nx.draw_networkx_edge_labels(G, pos, edge_labels)\n",
        "\n",
        "print(\"Physicians单图投射可视化：\")\n",
        "plt.axis(\"off\")\n",
        "plt.show()"
      ],
      "metadata": {
        "colab": {
          "base_uri": "https://localhost:8080/",
          "height": 498
        },
        "id": "7bU7KuRjVwDn",
        "outputId": "de661a31-9748-4ea6-a74a-93c441bd3de1"
      },
      "execution_count": 54,
      "outputs": [
        {
          "output_type": "stream",
          "name": "stdout",
          "text": [
            "下方结点列表为：\n",
            "{'E', 'D', 'B', 'C', 'F', 'A'}\n",
            "上方结点列表为：\n",
            "{1, 2, 3}\n",
            "Physicians单图投射:\n",
            "Graph with 6 nodes and 12 edges\n",
            "Physicians单图投射的邻接矩阵为：\n",
            "[[0. 2. 1. 1. 1. 1.]\n",
            " [2. 0. 1. 1. 1. 1.]\n",
            " [1. 1. 0. 1. 0. 1.]\n",
            " [1. 1. 1. 0. 0. 2.]\n",
            " [1. 1. 0. 0. 0. 0.]\n",
            " [1. 1. 1. 2. 0. 0.]]\n",
            "Physicians单图投射可视化：\n"
          ]
        },
        {
          "output_type": "display_data",
          "data": {
            "text/plain": [
              "<Figure size 432x288 with 1 Axes>"
            ],
            "image/png": "[encoded data removed]"
          },
          "metadata": {}
        }
      ]
    },
    {
      "cell_type": "code",
      "source": [
        "#pr值计算\n",
        "\n",
        "pr_dic = nx.pagerank(G)\n",
        "\n",
        "#对各结点根据pr值由大到小排序\n",
        "s = sorted(pr_dic.items(), key=lambda x: x[1], reverse=True)\n",
        "\n",
        "#输出pr值top 5的结点\n",
        "print([item[0] for item in s[:5]])"
      ],
      "metadata": {
        "colab": {
          "base_uri": "https://localhost:8080/"
        },
        "id": "xfddh8p1blOk",
        "outputId": "1e5df2ef-ac29-471f-bff1-33ce8e8b59bb"
      },
      "execution_count": 53,
      "outputs": [
        {
          "output_type": "stream",
          "name": "stdout",
          "text": [
            "['E', 'D', 'C', 'A', 'B']\n"
          ]
        }
      ]
    },
    {
      "cell_type": "code",
      "source": [
        "##对patients类型的结点做上述同样的操作\n",
        "\n",
        "def projection_and_topK_pr_nodes(B, nodes, k):\n",
        "\n",
        "    #######Step1: 二部图投射到单类型结点\n",
        "    G = bipartite.weighted_projected_graph(B, nodes)\n",
        "    print(\"单图投射:\")\n",
        "    print(G)\n",
        "    A = nx.to_numpy_array(G)\n",
        "    print(\"单图投射的邻接矩阵为：\")\n",
        "    print(A)\n",
        "\n",
        "    #######Step2: 投射图的可视化\n",
        "    pos = nx.spring_layout(G)  # positions for all nodes - seed for reproducibility\n",
        "    # nodes，先可视化点\n",
        "    nx.draw_networkx_nodes(G, pos)\n",
        "    # edges，可视化边\n",
        "    nx.draw_networkx_edges(G, pos)\n",
        "    # node labels，可视化标签\n",
        "    nx.draw_networkx_labels(G, pos)\n",
        "    # edge weight labels，可视化边的权重标签\n",
        "    edge_labels = nx.get_edge_attributes(G, \"weight\")\n",
        "    nx.draw_networkx_edge_labels(G, pos, edge_labels)\n",
        "\n",
        "    print(\"单图投射可视化：\")\n",
        "    plt.axis(\"off\")\n",
        "    plt.show()\n",
        "\n",
        "    #######Step3: 计算PR值，并打印top k的结点\n",
        "    #计算pr值\n",
        "    pr_dic = nx.pagerank(G)\n",
        "    #对各结点根据pr值由大到小排序\n",
        "    s = sorted(pr_dic.items(), key=lambda x: x[1], reverse=True)\n",
        "    #输出pr值top 5的结点\n",
        "    print(\"pr top \", k , \"nodes\", [item[0] for item in s[:k]])\n",
        "\n"
      ],
      "metadata": {
        "id": "ujxY6hc5cc5F"
      },
      "execution_count": 63,
      "outputs": []
    },
    {
      "cell_type": "code",
      "source": [
        "print(\"#######patients结点\")\n",
        "projection_and_topK_pr_nodes(B, top_nodes, 1)\n",
        "\n",
        "print(\"#######physicians结点\")\n",
        "projection_and_topK_pr_nodes(B, bottom_nodes, 5)"
      ],
      "metadata": {
        "colab": {
          "base_uri": "https://localhost:8080/",
          "height": 854
        },
        "id": "eoqoq-xkdn0C",
        "outputId": "2ab3d1d2-2235-434f-e57f-974670430816"
      },
      "execution_count": 64,
      "outputs": [
        {
          "output_type": "stream",
          "name": "stdout",
          "text": [
            "#######patients结点\n",
            "单图投射:\n",
            "Graph with 3 nodes and 2 edges\n",
            "单图投射的邻接矩阵为：\n",
            "[[0. 2. 0.]\n",
            " [2. 0. 2.]\n",
            " [0. 2. 0.]]\n",
            "单图投射可视化：\n"
          ]
        },
        {
          "output_type": "display_data",
          "data": {
            "text/plain": [
              "<Figure size 432x288 with 1 Axes>"
            ],
            "image/png": "[encoded data removed]"
          },
          "metadata": {}
        },
        {
          "output_type": "stream",
          "name": "stdout",
          "text": [
            "pr top  1 nodes [2]\n",
            "#######physicians结点\n",
            "单图投射:\n",
            "Graph with 6 nodes and 12 edges\n",
            "单图投射的邻接矩阵为：\n",
            "[[0. 2. 1. 1. 1. 1.]\n",
            " [2. 0. 1. 1. 1. 1.]\n",
            " [1. 1. 0. 1. 0. 1.]\n",
            " [1. 1. 1. 0. 0. 2.]\n",
            " [1. 1. 0. 0. 0. 0.]\n",
            " [1. 1. 1. 2. 0. 0.]]\n",
            "单图投射可视化：\n"
          ]
        },
        {
          "output_type": "display_data",
          "data": {
            "text/plain": [
              "<Figure size 432x288 with 1 Axes>"
            ],
            "image/png": "[encoded data removed]"
          },
          "metadata": {}
        },
        {
          "output_type": "stream",
          "name": "stdout",
          "text": [
            "pr top  5 nodes ['E', 'D', 'C', 'A', 'B']\n"
          ]
        }
      ]
    }
  ]
}