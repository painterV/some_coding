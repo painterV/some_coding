{
  "cells": [
    {
      "cell_type": "markdown",
      "metadata": {
        "id": "view-in-github",
        "colab_type": "text"
      },
      "source": [
        "<a href=\"https://colab.research.google.com/github/painterV/some_coding/blob/main/lab08_ohie_probability_continued.ipynb\" target=\"_parent\"><img src=\"https://colab.research.google.com/assets/colab-badge.svg\" alt=\"Open In Colab\"/></a>"
      ]
    },
    {
      "cell_type": "markdown",
      "metadata": {
        "id": "zvqb3rLFKAIE"
      },
      "source": [
        "# OHIE"
      ]
    },
    {
      "cell_type": "markdown",
      "metadata": {
        "id": "XCvCABTtKAIH"
      },
      "source": [
        "The Oregon Health Insurance Experiment (OHIE) was a program run in\n",
        "Oregon, USA in 2008 in which certain residents of that state were\n",
        "offered the opportunity to enroll in a subsidized health insurance\n",
        "program.  To allocate this opportunity fairly, interested people\n",
        "were invited to participate in a lottery.  The people who won the\n",
        "lottery (\"treated\") were then given the opportunity to apply to the insurance\n",
        "program.  A subset of these people actually applied to the program,\n",
        "and finally a subset of these applicants who were confirmed to be\n",
        "eligible were granted insurance."
      ]
    },
    {
      "cell_type": "markdown",
      "metadata": {
        "id": "rRPK5yUTKAII"
      },
      "source": [
        "Since the opportunity to apply for insurance was allocated randomly with all households having equal probability of being selected,\n",
        "this program is essentially a randomized experiment (although the\n",
        "randomization was employed for fairness, not to facilitate\n",
        "research).  In particular, there was great interest in the outcomes\n",
        "over the subsequent several years of the people who were awarded\n",
        "insurance, compared to those who participated in the lottery but\n",
        "were not selected.  Since this selection was random, in principal\n",
        "both the treatment measurment should not be associated with any other measurement. For example, treated households should be similar in age or income to the non-treated households."
      ]
    },
    {
      "cell_type": "markdown",
      "metadata": {
        "id": "d-MkHJyVKAII"
      },
      "source": [
        "In this notebook, we only consider the \"baseline\" information,\n",
        "namely, characteristics of the individuals who applied to the\n",
        "lottery.  We also know who \"won\" the lottery, who among those given\n",
        "the opportunity to apply for insurance actually did so, and who\n",
        "among those who applied for insurance were deemed to be eligible and\n",
        "granted insurance."
      ]
    },
    {
      "cell_type": "markdown",
      "metadata": {
        "id": "uVvnTsFPKAIK"
      },
      "source": [
        "A primary focus of this notebook is to use the OHIE data to\n",
        "illustrate concepts from probability, including conditional\n",
        "probabilities and conditional independence."
      ]
    },
    {
      "cell_type": "code",
      "execution_count": 1,
      "metadata": {
        "id": "LOMgSBlWKAIL"
      },
      "outputs": [],
      "source": [
        "import os\n",
        "import pandas as pd\n",
        "import numpy as np"
      ]
    },
    {
      "cell_type": "markdown",
      "metadata": {
        "id": "7z7BlukqKAIM"
      },
      "source": [
        "Load the OHIE data from a file:"
      ]
    },
    {
      "cell_type": "code",
      "execution_count": 3,
      "metadata": {
        "colab": {
          "base_uri": "https://localhost:8080/"
        },
        "id": "i__BvJgiKAIN",
        "outputId": "841c9f6b-fe8a-4f5d-f86b-e283a4397d15"
      },
      "outputs": [
        {
          "output_type": "execute_result",
          "data": {
            "text/plain": [
              "Index(['person_id', 'household_id', 'treatment', 'draw_treat', 'draw_lottery',\n",
              "       'applied_app', 'approved_app', 'dt_notify_lottery', 'dt_retro_coverage',\n",
              "       'dt_app_decision', 'postn_death', 'numhh_list', 'birthyear_list',\n",
              "       'have_phone_list', 'english_list', 'female_list', 'first_day_list',\n",
              "       'last_day_list', 'pobox_list', 'self_list', 'week_list',\n",
              "       'zip_msa_list'],\n",
              "      dtype='object')"
            ]
          },
          "metadata": {},
          "execution_count": 3
        }
      ],
      "source": [
        "section = \"100\"\n",
        "#base = \"/scratch/stats206s%sf22_class_root/stats206s%sf22_class/materials/data\" % (section, section)\n",
        "base = \"./\"\n",
        "df = pd.read_csv(os.path.join(base, \"oregonhie.csv.gz\"))\n",
        "df.columns"
      ]
    },
    {
      "cell_type": "markdown",
      "metadata": {
        "id": "X1iMNAKbKAIO"
      },
      "source": [
        "## Setup"
      ]
    },
    {
      "cell_type": "markdown",
      "metadata": {
        "id": "gquuOKM-KAIO"
      },
      "source": [
        "We start this lab by recreating a few steps from the previous lab."
      ]
    },
    {
      "cell_type": "code",
      "execution_count": 4,
      "metadata": {
        "id": "JVSnpCnLKAIO"
      },
      "outputs": [],
      "source": [
        "df[\"female\"] = df[\"female_list\"] == \"1: Female\"\n",
        "df[\"has_phone\"] = df[\"have_phone_list\"] == \"Gave Phone Number\"\n",
        "df[\"treatment\"] = df[\"treatment\"] == \"Selected\"\n",
        "df[\"applied_app\"] = df[\"applied_app\"] == \"Submitted an Application to OHP\"\n",
        "df[\"approved_app\"] = df[\"approved_app\"] == \"Yes\"\n",
        "df[\"zip_msa\"] = df[\"zip_msa_list\"] == \"Zip code of residence in a MSA\"\n",
        "\n",
        "hh = df.groupby('household_id').agg({'treatment': 'first',\n",
        "                                     'applied_app': 'max',\n",
        "                                     'approved_app': 'max',\n",
        "                                     'zip_msa': 'first',\n",
        "                                     'birthyear_list': 'median',\n",
        "                                     'female': 'mean',\n",
        "                                     'has_phone': 'mean'\n",
        "                                    })"
      ]
    },
    {
      "cell_type": "markdown",
      "metadata": {
        "id": "svOFIyBjKAIP"
      },
      "source": [
        "We also computed some probabilities for the different categories."
      ]
    },
    {
      "cell_type": "code",
      "execution_count": 5,
      "metadata": {
        "colab": {
          "base_uri": "https://localhost:8080/"
        },
        "id": "lbkMkw5TKAIQ",
        "outputId": "9c31f9b1-bc53-4c3d-ae2f-7f32448493ca"
      },
      "outputs": [
        {
          "output_type": "execute_result",
          "data": {
            "text/plain": [
              "treatment  applied_app  approved_app\n",
              "False      False        False           41473\n",
              "True       False        False            9494\n",
              "           True         False            7672\n",
              "                        True             7746\n",
              "dtype: int64"
            ]
          },
          "metadata": {},
          "execution_count": 5
        }
      ],
      "source": [
        "status = hh.groupby([\"treatment\", \"applied_app\", \"approved_app\"]).size()\n",
        "status"
      ]
    },
    {
      "cell_type": "markdown",
      "metadata": {
        "id": "BC3ltxnjKAIQ"
      },
      "source": [
        "And converted to probabilities:"
      ]
    },
    {
      "cell_type": "code",
      "execution_count": 6,
      "metadata": {
        "colab": {
          "base_uri": "https://localhost:8080/"
        },
        "id": "-F8V796FKAIQ",
        "outputId": "54a33845-a6c6-4d42-d3d3-194b93743626"
      },
      "outputs": [
        {
          "output_type": "execute_result",
          "data": {
            "text/plain": [
              "treatment  applied_app  approved_app\n",
              "False      False        False           0.624735\n",
              "True       False        False           0.143014\n",
              "           True         False           0.115568\n",
              "                        True            0.116683\n",
              "dtype: float64"
            ]
          },
          "metadata": {},
          "execution_count": 6
        }
      ],
      "source": [
        "status_prop = status / status.sum()\n",
        "status_prop"
      ]
    },
    {
      "cell_type": "markdown",
      "metadata": {
        "id": "bfv6kCsJKAIQ"
      },
      "source": [
        "We will start using an age group variable that we construct below.\n",
        "First we obtain the age of each subject in the first year of the\n",
        "program, then ask Pandas to group the subjects into three groups of\n",
        "equal size based on age."
      ]
    },
    {
      "cell_type": "code",
      "execution_count": 7,
      "metadata": {
        "id": "sApyMf_MKAIR"
      },
      "outputs": [],
      "source": [
        "hh[\"age\"] = 2008 - hh[\"birthyear_list\"]\n",
        "hh[\"agegrp\"] = pd.qcut(hh[\"age\"], 3)"
      ]
    },
    {
      "cell_type": "markdown",
      "metadata": {
        "id": "5llIcmFjKAIR"
      },
      "source": [
        "Here is the contingency table for age group and treatment status."
      ]
    },
    {
      "cell_type": "code",
      "execution_count": 8,
      "metadata": {
        "colab": {
          "base_uri": "https://localhost:8080/",
          "height": 175
        },
        "id": "SuD08_gQKAIR",
        "outputId": "0a3fdc27-2c41-47b5-8e6b-f5e831929bab"
      },
      "outputs": [
        {
          "output_type": "execute_result",
          "data": {
            "text/plain": [
              "treatment       False  True\n",
              "agegrp                     \n",
              "(19.999, 32.5]  13825  8378\n",
              "(32.5, 47.0]    14207  8647\n",
              "(47.0, 63.0]    13441  7887"
            ],
            "text/html": [
              "\n",
              "  <div id=\"df-17268775-c81d-43fe-beac-dfb967d47a18\">\n",
              "    <div class=\"colab-df-container\">\n",
              "      <div>\n",
              "<style scoped>\n",
              "    .dataframe tbody tr th:only-of-type {\n",
              "        vertical-align: middle;\n",
              "    }\n",
              "\n",
              "    .dataframe tbody tr th {\n",
              "        vertical-align: top;\n",
              "    }\n",
              "\n",
              "    .dataframe thead th {\n",
              "        text-align: right;\n",
              "    }\n",
              "</style>\n",
              "<table border=\"1\" class=\"dataframe\">\n",
              "  <thead>\n",
              "    <tr style=\"text-align: right;\">\n",
              "      <th>treatment</th>\n",
              "      <th>False</th>\n",
              "      <th>True</th>\n",
              "    </tr>\n",
              "    <tr>\n",
              "      <th>agegrp</th>\n",
              "      <th></th>\n",
              "      <th></th>\n",
              "    </tr>\n",
              "  </thead>\n",
              "  <tbody>\n",
              "    <tr>\n",
              "      <th>(19.999, 32.5]</th>\n",
              "      <td>13825</td>\n",
              "      <td>8378</td>\n",
              "    </tr>\n",
              "    <tr>\n",
              "      <th>(32.5, 47.0]</th>\n",
              "      <td>14207</td>\n",
              "      <td>8647</td>\n",
              "    </tr>\n",
              "    <tr>\n",
              "      <th>(47.0, 63.0]</th>\n",
              "      <td>13441</td>\n",
              "      <td>7887</td>\n",
              "    </tr>\n",
              "  </tbody>\n",
              "</table>\n",
              "</div>\n",
              "      <button class=\"colab-df-convert\" onclick=\"convertToInteractive('df-17268775-c81d-43fe-beac-dfb967d47a18')\"\n",
              "              title=\"Convert this dataframe to an interactive table.\"\n",
              "              style=\"display:none;\">\n",
              "        \n",
              "  <svg xmlns=\"http://www.w3.org/2000/svg\" height=\"24px\"viewBox=\"0 0 24 24\"\n",
              "       width=\"24px\">\n",
              "    <path d=\"M0 0h24v24H0V0z\" fill=\"none\"/>\n",
              "    <path d=\"M18.56 5.44l.94 2.06.94-2.06 2.06-.94-2.06-.94-.94-2.06-.94 2.06-2.06.94zm-11 1L8.5 8.5l.94-2.06 2.06-.94-2.06-.94L8.5 2.5l-.94 2.06-2.06.94zm10 10l.94 2.06.94-2.06 2.06-.94-2.06-.94-.94-2.06-.94 2.06-2.06.94z\"/><path d=\"M17.41 7.96l-1.37-1.37c-.4-.4-.92-.59-1.43-.59-.52 0-1.04.2-1.43.59L10.3 9.45l-7.72 7.72c-.78.78-.78 2.05 0 2.83L4 21.41c.39.39.9.59 1.41.59.51 0 1.02-.2 1.41-.59l7.78-7.78 2.81-2.81c.8-.78.8-2.07 0-2.86zM5.41 20L4 18.59l7.72-7.72 1.47 1.35L5.41 20z\"/>\n",
              "  </svg>\n",
              "      </button>\n",
              "      \n",
              "  <style>\n",
              "    .colab-df-container {\n",
              "      display:flex;\n",
              "      flex-wrap:wrap;\n",
              "      gap: 12px;\n",
              "    }\n",
              "\n",
              "    .colab-df-convert {\n",
              "      background-color: #E8F0FE;\n",
              "      border: none;\n",
              "      border-radius: 50%;\n",
              "      cursor: pointer;\n",
              "      display: none;\n",
              "      fill: #1967D2;\n",
              "      height: 32px;\n",
              "      padding: 0 0 0 0;\n",
              "      width: 32px;\n",
              "    }\n",
              "\n",
              "    .colab-df-convert:hover {\n",
              "      background-color: #E2EBFA;\n",
              "      box-shadow: 0px 1px 2px rgba(60, 64, 67, 0.3), 0px 1px 3px 1px rgba(60, 64, 67, 0.15);\n",
              "      fill: #174EA6;\n",
              "    }\n",
              "\n",
              "    [theme=dark] .colab-df-convert {\n",
              "      background-color: #3B4455;\n",
              "      fill: #D2E3FC;\n",
              "    }\n",
              "\n",
              "    [theme=dark] .colab-df-convert:hover {\n",
              "      background-color: #434B5C;\n",
              "      box-shadow: 0px 1px 3px 1px rgba(0, 0, 0, 0.15);\n",
              "      filter: drop-shadow(0px 1px 2px rgba(0, 0, 0, 0.3));\n",
              "      fill: #FFFFFF;\n",
              "    }\n",
              "  </style>\n",
              "\n",
              "      <script>\n",
              "        const buttonEl =\n",
              "          document.querySelector('#df-17268775-c81d-43fe-beac-dfb967d47a18 button.colab-df-convert');\n",
              "        buttonEl.style.display =\n",
              "          google.colab.kernel.accessAllowed ? 'block' : 'none';\n",
              "\n",
              "        async function convertToInteractive(key) {\n",
              "          const element = document.querySelector('#df-17268775-c81d-43fe-beac-dfb967d47a18');\n",
              "          const dataTable =\n",
              "            await google.colab.kernel.invokeFunction('convertToInteractive',\n",
              "                                                     [key], {});\n",
              "          if (!dataTable) return;\n",
              "\n",
              "          const docLinkHtml = 'Like what you see? Visit the ' +\n",
              "            '<a target=\"_blank\" href=https://colab.research.google.com/notebooks/data_table.ipynb>data table notebook</a>'\n",
              "            + ' to learn more about interactive tables.';\n",
              "          element.innerHTML = '';\n",
              "          dataTable['output_type'] = 'display_data';\n",
              "          await google.colab.output.renderOutput(dataTable, element);\n",
              "          const docLink = document.createElement('div');\n",
              "          docLink.innerHTML = docLinkHtml;\n",
              "          element.appendChild(docLink);\n",
              "        }\n",
              "      </script>\n",
              "    </div>\n",
              "  </div>\n",
              "  "
            ]
          },
          "metadata": {},
          "execution_count": 8
        }
      ],
      "source": [
        "counts = hh.groupby([\"agegrp\", \"treatment\"]).size().unstack()\n",
        "counts"
      ]
    },
    {
      "cell_type": "code",
      "execution_count": 9,
      "metadata": {
        "colab": {
          "base_uri": "https://localhost:8080/",
          "height": 175
        },
        "id": "RWJJbhW4KAIR",
        "outputId": "a04b34a4-6fc3-4b35-a9b8-8549a6578249"
      },
      "outputs": [
        {
          "output_type": "execute_result",
          "data": {
            "text/plain": [
              "treatment          False      True\n",
              "agegrp                            \n",
              "(19.999, 32.5]  0.208255  0.126203\n",
              "(32.5, 47.0]    0.214009  0.130255\n",
              "(47.0, 63.0]    0.202470  0.118807"
            ],
            "text/html": [
              "\n",
              "  <div id=\"df-9b302fbb-b162-4812-86b3-c711629cc50b\">\n",
              "    <div class=\"colab-df-container\">\n",
              "      <div>\n",
              "<style scoped>\n",
              "    .dataframe tbody tr th:only-of-type {\n",
              "        vertical-align: middle;\n",
              "    }\n",
              "\n",
              "    .dataframe tbody tr th {\n",
              "        vertical-align: top;\n",
              "    }\n",
              "\n",
              "    .dataframe thead th {\n",
              "        text-align: right;\n",
              "    }\n",
              "</style>\n",
              "<table border=\"1\" class=\"dataframe\">\n",
              "  <thead>\n",
              "    <tr style=\"text-align: right;\">\n",
              "      <th>treatment</th>\n",
              "      <th>False</th>\n",
              "      <th>True</th>\n",
              "    </tr>\n",
              "    <tr>\n",
              "      <th>agegrp</th>\n",
              "      <th></th>\n",
              "      <th></th>\n",
              "    </tr>\n",
              "  </thead>\n",
              "  <tbody>\n",
              "    <tr>\n",
              "      <th>(19.999, 32.5]</th>\n",
              "      <td>0.208255</td>\n",
              "      <td>0.126203</td>\n",
              "    </tr>\n",
              "    <tr>\n",
              "      <th>(32.5, 47.0]</th>\n",
              "      <td>0.214009</td>\n",
              "      <td>0.130255</td>\n",
              "    </tr>\n",
              "    <tr>\n",
              "      <th>(47.0, 63.0]</th>\n",
              "      <td>0.202470</td>\n",
              "      <td>0.118807</td>\n",
              "    </tr>\n",
              "  </tbody>\n",
              "</table>\n",
              "</div>\n",
              "      <button class=\"colab-df-convert\" onclick=\"convertToInteractive('df-9b302fbb-b162-4812-86b3-c711629cc50b')\"\n",
              "              title=\"Convert this dataframe to an interactive table.\"\n",
              "              style=\"display:none;\">\n",
              "        \n",
              "  <svg xmlns=\"http://www.w3.org/2000/svg\" height=\"24px\"viewBox=\"0 0 24 24\"\n",
              "       width=\"24px\">\n",
              "    <path d=\"M0 0h24v24H0V0z\" fill=\"none\"/>\n",
              "    <path d=\"M18.56 5.44l.94 2.06.94-2.06 2.06-.94-2.06-.94-.94-2.06-.94 2.06-2.06.94zm-11 1L8.5 8.5l.94-2.06 2.06-.94-2.06-.94L8.5 2.5l-.94 2.06-2.06.94zm10 10l.94 2.06.94-2.06 2.06-.94-2.06-.94-.94-2.06-.94 2.06-2.06.94z\"/><path d=\"M17.41 7.96l-1.37-1.37c-.4-.4-.92-.59-1.43-.59-.52 0-1.04.2-1.43.59L10.3 9.45l-7.72 7.72c-.78.78-.78 2.05 0 2.83L4 21.41c.39.39.9.59 1.41.59.51 0 1.02-.2 1.41-.59l7.78-7.78 2.81-2.81c.8-.78.8-2.07 0-2.86zM5.41 20L4 18.59l7.72-7.72 1.47 1.35L5.41 20z\"/>\n",
              "  </svg>\n",
              "      </button>\n",
              "      \n",
              "  <style>\n",
              "    .colab-df-container {\n",
              "      display:flex;\n",
              "      flex-wrap:wrap;\n",
              "      gap: 12px;\n",
              "    }\n",
              "\n",
              "    .colab-df-convert {\n",
              "      background-color: #E8F0FE;\n",
              "      border: none;\n",
              "      border-radius: 50%;\n",
              "      cursor: pointer;\n",
              "      display: none;\n",
              "      fill: #1967D2;\n",
              "      height: 32px;\n",
              "      padding: 0 0 0 0;\n",
              "      width: 32px;\n",
              "    }\n",
              "\n",
              "    .colab-df-convert:hover {\n",
              "      background-color: #E2EBFA;\n",
              "      box-shadow: 0px 1px 2px rgba(60, 64, 67, 0.3), 0px 1px 3px 1px rgba(60, 64, 67, 0.15);\n",
              "      fill: #174EA6;\n",
              "    }\n",
              "\n",
              "    [theme=dark] .colab-df-convert {\n",
              "      background-color: #3B4455;\n",
              "      fill: #D2E3FC;\n",
              "    }\n",
              "\n",
              "    [theme=dark] .colab-df-convert:hover {\n",
              "      background-color: #434B5C;\n",
              "      box-shadow: 0px 1px 3px 1px rgba(0, 0, 0, 0.15);\n",
              "      filter: drop-shadow(0px 1px 2px rgba(0, 0, 0, 0.3));\n",
              "      fill: #FFFFFF;\n",
              "    }\n",
              "  </style>\n",
              "\n",
              "      <script>\n",
              "        const buttonEl =\n",
              "          document.querySelector('#df-9b302fbb-b162-4812-86b3-c711629cc50b button.colab-df-convert');\n",
              "        buttonEl.style.display =\n",
              "          google.colab.kernel.accessAllowed ? 'block' : 'none';\n",
              "\n",
              "        async function convertToInteractive(key) {\n",
              "          const element = document.querySelector('#df-9b302fbb-b162-4812-86b3-c711629cc50b');\n",
              "          const dataTable =\n",
              "            await google.colab.kernel.invokeFunction('convertToInteractive',\n",
              "                                                     [key], {});\n",
              "          if (!dataTable) return;\n",
              "\n",
              "          const docLinkHtml = 'Like what you see? Visit the ' +\n",
              "            '<a target=\"_blank\" href=https://colab.research.google.com/notebooks/data_table.ipynb>data table notebook</a>'\n",
              "            + ' to learn more about interactive tables.';\n",
              "          element.innerHTML = '';\n",
              "          dataTable['output_type'] = 'display_data';\n",
              "          await google.colab.output.renderOutput(dataTable, element);\n",
              "          const docLink = document.createElement('div');\n",
              "          docLink.innerHTML = docLinkHtml;\n",
              "          element.appendChild(docLink);\n",
              "        }\n",
              "      </script>\n",
              "    </div>\n",
              "  </div>\n",
              "  "
            ]
          },
          "metadata": {},
          "execution_count": 9
        }
      ],
      "source": [
        "probs = counts / counts.sum().sum()\n",
        "probs"
      ]
    },
    {
      "cell_type": "markdown",
      "metadata": {
        "id": "x0laQCSmKAIS"
      },
      "source": [
        "Now on to the new material."
      ]
    },
    {
      "cell_type": "markdown",
      "metadata": {
        "id": "RKhxD2yyKAIS"
      },
      "source": [
        "# Conditional probabilities of treatment assignment"
      ]
    },
    {
      "cell_type": "markdown",
      "metadata": {
        "id": "o7Rvz4MsKAIS"
      },
      "source": [
        "Recall that a conditional probability is a joint probability divided\n",
        "by a marginal probability.  In general $P(A \\mid B) = P(A,B) / P(B)$, where\n",
        "A and B are two 'events'. In particular, we're iterested in the conditional probabilities of winning the lotter for the different age groups:\n",
        "\n",
        "$$P(L \\mid G = g) = P(L, G = g) / P(G = g)$$\n",
        "\n",
        "for the three age goup categories $g$.\n",
        "\n",
        "The only other possible outcome of the lottery is not winning, and\n",
        "the probability of this happening is 1 minus the probability of\n",
        "winning the lottery.  The conditional distribution of 'win lottery'\n",
        "given 'age group' is the collection consisting of all probabilities\n",
        "of either winning or not winning the lottery, for all of the age\n",
        "groups.  That is, 6 separate ways to apply the above formula, since\n",
        "we can set 'win lottery' to either false or true, and we can set\n",
        "'age group' to any of the three age groups."
      ]
    },
    {
      "cell_type": "markdown",
      "metadata": {
        "id": "0RCEHshMKAIS"
      },
      "source": [
        "To compute, the conditional probabilities by age group, we first\n",
        "calculate the marginal probabilities by age group by summing over the rows (use `axis = 1` in the `sum` functions).\n",
        "\n",
        "Call your variable `age_marg` and show the marginal probabilities for the three age categories."
      ]
    },
    {
      "cell_type": "code",
      "execution_count": 10,
      "metadata": {
        "colab": {
          "base_uri": "https://localhost:8080/"
        },
        "id": "HDUYG63IKAIS",
        "outputId": "d04811b8-e6fb-4c42-d434-4e089afd1c3e"
      },
      "outputs": [
        {
          "output_type": "execute_result",
          "data": {
            "text/plain": [
              "agegrp\n",
              "(19.999, 32.5]    0.334458\n",
              "(32.5, 47.0]      0.344265\n",
              "(47.0, 63.0]      0.321277\n",
              "dtype: float64"
            ]
          },
          "metadata": {},
          "execution_count": 10
        }
      ],
      "source": [
        "age_marg = probs.sum(1)\n",
        "age_marg"
      ]
    },
    {
      "cell_type": "markdown",
      "metadata": {
        "id": "h7dp6SZtKAIS"
      },
      "source": [
        "<details>\n",
        "\n",
        "```\n",
        "age_marg = probs.sum(1)\n",
        "age_marg\n",
        "```\n",
        "\n",
        "</details>"
      ]
    },
    {
      "cell_type": "markdown",
      "metadata": {
        "id": "pdYCjnaqKAIS"
      },
      "source": [
        "In this case, these probabilities are approximately equal, since we\n",
        "constructed the age groups using 'qcut' to have this property.\n",
        "However, age is only measured to the nearest years and there are lot\n",
        "of people with the same age.  So it is not possible to perfectly\n",
        "divide the sample into thirds based on age.  "
      ]
    },
    {
      "cell_type": "markdown",
      "metadata": {
        "id": "AIEwe1ANKAIT"
      },
      "source": [
        "Next we construct the conditional probabilities, by dividing the\n",
        "joint probabilities by the marginal probabilities. We cannot simply\n",
        "use 'dp / mpa' since this would be dividing a dataframe by a series,\n",
        "and Pandas doesn't know how to align structures with different\n",
        "shapes.  \n",
        "\n",
        "The 'div' method divides a dataframe by a series, and\n",
        "contains an additional argument so that 'x.div(y, 0)' means that\n",
        "every column of 'x' is divided by 'y', and 'x.div(y, 1)' means that\n",
        "every row of 'x' is divided by 'y'.  Note that in the first case,\n",
        "the length of 'y' must be equal to the number of rows of 'x', and in\n",
        "the second case the length of 'y' must be equal to the number of\n",
        "columns of 'x'.\n",
        "\n",
        "Divide the joint probabilities along the columns using the `age_marg` series. Call your variable `age_cond`."
      ]
    },
    {
      "cell_type": "code",
      "execution_count": 11,
      "metadata": {
        "colab": {
          "base_uri": "https://localhost:8080/",
          "height": 175
        },
        "id": "W1nvggKWKAIT",
        "outputId": "f9a9e2f8-6329-4500-a670-638abc46185d"
      },
      "outputs": [
        {
          "output_type": "execute_result",
          "data": {
            "text/plain": [
              "treatment          False      True\n",
              "agegrp                            \n",
              "(19.999, 32.5]  0.622664  0.377336\n",
              "(32.5, 47.0]    0.621642  0.378358\n",
              "(47.0, 63.0]    0.630204  0.369796"
            ],
            "text/html": [
              "\n",
              "  <div id=\"df-750c1e06-a93a-45ec-92c3-cb935253b034\">\n",
              "    <div class=\"colab-df-container\">\n",
              "      <div>\n",
              "<style scoped>\n",
              "    .dataframe tbody tr th:only-of-type {\n",
              "        vertical-align: middle;\n",
              "    }\n",
              "\n",
              "    .dataframe tbody tr th {\n",
              "        vertical-align: top;\n",
              "    }\n",
              "\n",
              "    .dataframe thead th {\n",
              "        text-align: right;\n",
              "    }\n",
              "</style>\n",
              "<table border=\"1\" class=\"dataframe\">\n",
              "  <thead>\n",
              "    <tr style=\"text-align: right;\">\n",
              "      <th>treatment</th>\n",
              "      <th>False</th>\n",
              "      <th>True</th>\n",
              "    </tr>\n",
              "    <tr>\n",
              "      <th>agegrp</th>\n",
              "      <th></th>\n",
              "      <th></th>\n",
              "    </tr>\n",
              "  </thead>\n",
              "  <tbody>\n",
              "    <tr>\n",
              "      <th>(19.999, 32.5]</th>\n",
              "      <td>0.622664</td>\n",
              "      <td>0.377336</td>\n",
              "    </tr>\n",
              "    <tr>\n",
              "      <th>(32.5, 47.0]</th>\n",
              "      <td>0.621642</td>\n",
              "      <td>0.378358</td>\n",
              "    </tr>\n",
              "    <tr>\n",
              "      <th>(47.0, 63.0]</th>\n",
              "      <td>0.630204</td>\n",
              "      <td>0.369796</td>\n",
              "    </tr>\n",
              "  </tbody>\n",
              "</table>\n",
              "</div>\n",
              "      <button class=\"colab-df-convert\" onclick=\"convertToInteractive('df-750c1e06-a93a-45ec-92c3-cb935253b034')\"\n",
              "              title=\"Convert this dataframe to an interactive table.\"\n",
              "              style=\"display:none;\">\n",
              "        \n",
              "  <svg xmlns=\"http://www.w3.org/2000/svg\" height=\"24px\"viewBox=\"0 0 24 24\"\n",
              "       width=\"24px\">\n",
              "    <path d=\"M0 0h24v24H0V0z\" fill=\"none\"/>\n",
              "    <path d=\"M18.56 5.44l.94 2.06.94-2.06 2.06-.94-2.06-.94-.94-2.06-.94 2.06-2.06.94zm-11 1L8.5 8.5l.94-2.06 2.06-.94-2.06-.94L8.5 2.5l-.94 2.06-2.06.94zm10 10l.94 2.06.94-2.06 2.06-.94-2.06-.94-.94-2.06-.94 2.06-2.06.94z\"/><path d=\"M17.41 7.96l-1.37-1.37c-.4-.4-.92-.59-1.43-.59-.52 0-1.04.2-1.43.59L10.3 9.45l-7.72 7.72c-.78.78-.78 2.05 0 2.83L4 21.41c.39.39.9.59 1.41.59.51 0 1.02-.2 1.41-.59l7.78-7.78 2.81-2.81c.8-.78.8-2.07 0-2.86zM5.41 20L4 18.59l7.72-7.72 1.47 1.35L5.41 20z\"/>\n",
              "  </svg>\n",
              "      </button>\n",
              "      \n",
              "  <style>\n",
              "    .colab-df-container {\n",
              "      display:flex;\n",
              "      flex-wrap:wrap;\n",
              "      gap: 12px;\n",
              "    }\n",
              "\n",
              "    .colab-df-convert {\n",
              "      background-color: #E8F0FE;\n",
              "      border: none;\n",
              "      border-radius: 50%;\n",
              "      cursor: pointer;\n",
              "      display: none;\n",
              "      fill: #1967D2;\n",
              "      height: 32px;\n",
              "      padding: 0 0 0 0;\n",
              "      width: 32px;\n",
              "    }\n",
              "\n",
              "    .colab-df-convert:hover {\n",
              "      background-color: #E2EBFA;\n",
              "      box-shadow: 0px 1px 2px rgba(60, 64, 67, 0.3), 0px 1px 3px 1px rgba(60, 64, 67, 0.15);\n",
              "      fill: #174EA6;\n",
              "    }\n",
              "\n",
              "    [theme=dark] .colab-df-convert {\n",
              "      background-color: #3B4455;\n",
              "      fill: #D2E3FC;\n",
              "    }\n",
              "\n",
              "    [theme=dark] .colab-df-convert:hover {\n",
              "      background-color: #434B5C;\n",
              "      box-shadow: 0px 1px 3px 1px rgba(0, 0, 0, 0.15);\n",
              "      filter: drop-shadow(0px 1px 2px rgba(0, 0, 0, 0.3));\n",
              "      fill: #FFFFFF;\n",
              "    }\n",
              "  </style>\n",
              "\n",
              "      <script>\n",
              "        const buttonEl =\n",
              "          document.querySelector('#df-750c1e06-a93a-45ec-92c3-cb935253b034 button.colab-df-convert');\n",
              "        buttonEl.style.display =\n",
              "          google.colab.kernel.accessAllowed ? 'block' : 'none';\n",
              "\n",
              "        async function convertToInteractive(key) {\n",
              "          const element = document.querySelector('#df-750c1e06-a93a-45ec-92c3-cb935253b034');\n",
              "          const dataTable =\n",
              "            await google.colab.kernel.invokeFunction('convertToInteractive',\n",
              "                                                     [key], {});\n",
              "          if (!dataTable) return;\n",
              "\n",
              "          const docLinkHtml = 'Like what you see? Visit the ' +\n",
              "            '<a target=\"_blank\" href=https://colab.research.google.com/notebooks/data_table.ipynb>data table notebook</a>'\n",
              "            + ' to learn more about interactive tables.';\n",
              "          element.innerHTML = '';\n",
              "          dataTable['output_type'] = 'display_data';\n",
              "          await google.colab.output.renderOutput(dataTable, element);\n",
              "          const docLink = document.createElement('div');\n",
              "          docLink.innerHTML = docLinkHtml;\n",
              "          element.appendChild(docLink);\n",
              "        }\n",
              "      </script>\n",
              "    </div>\n",
              "  </div>\n",
              "  "
            ]
          },
          "metadata": {},
          "execution_count": 11
        }
      ],
      "source": [
        "age_cond = probs.div(age_marg, axis = 0)\n",
        "age_cond"
      ]
    },
    {
      "cell_type": "markdown",
      "metadata": {
        "id": "ZEVghrxGKAIT"
      },
      "source": [
        "<details>\n",
        "    \n",
        "```\n",
        "age_cond = probs.div(age_marg, axis = 0)\n",
        "age_cond\n",
        "```\n",
        "    \n",
        "</details>"
      ]
    },
    {
      "cell_type": "markdown",
      "metadata": {
        "id": "tbG_3vddKAIT"
      },
      "source": [
        "To confirm that we have valid conditional probabilities, check that\n",
        "the elements sum to 1 along the rows."
      ]
    },
    {
      "cell_type": "code",
      "execution_count": 13,
      "metadata": {
        "colab": {
          "base_uri": "https://localhost:8080/"
        },
        "id": "PbpjDrLgKAIT",
        "outputId": "973b0d77-1f4d-4c79-8641-15fa8076770a"
      },
      "outputs": [
        {
          "output_type": "execute_result",
          "data": {
            "text/plain": [
              "agegrp\n",
              "(19.999, 32.5]    1.0\n",
              "(32.5, 47.0]      1.0\n",
              "(47.0, 63.0]      1.0\n",
              "dtype: float64"
            ]
          },
          "metadata": {},
          "execution_count": 13
        }
      ],
      "source": [
        "age_cond.sum(1)"
      ]
    },
    {
      "cell_type": "markdown",
      "metadata": {
        "id": "qnIOqc1MKAIT"
      },
      "source": [
        "<details>\n",
        "\n",
        "```\n",
        "age_cond.sum(1)\n",
        "```\n",
        "\n",
        "</details>"
      ]
    },
    {
      "cell_type": "markdown",
      "metadata": {
        "id": "tojziQVAKAIT"
      },
      "source": [
        "What do we learn from these conditional distributions?"
      ]
    },
    {
      "cell_type": "markdown",
      "metadata": {
        "id": "wPkmUe2qKAIT"
      },
      "source": [
        "*Write your answer here.*"
      ]
    },
    {
      "cell_type": "markdown",
      "metadata": {
        "id": "MUidWZkMKAIU"
      },
      "source": [
        "<details>\n",
        "    \n",
        "Within\n",
        "each age band, the probability of being selected is almost exactly\n",
        "0.4. Therefore, the conditional probability of does not change for the different age categories, suggesting that age and treatment assignment are independent.\n",
        "    \n",
        "</details>"
      ]
    },
    {
      "cell_type": "markdown",
      "metadata": {
        "id": "CyA4MEztKAIU"
      },
      "source": [
        "Construct the conditional probabilities of winning the library given age group:"
      ]
    },
    {
      "cell_type": "code",
      "execution_count": 14,
      "metadata": {
        "colab": {
          "base_uri": "https://localhost:8080/",
          "height": 175
        },
        "id": "_5QLq6r9KAIU",
        "outputId": "72abd1aa-7b6f-4fb4-aef1-ca73ee4452e3"
      },
      "outputs": [
        {
          "output_type": "execute_result",
          "data": {
            "text/plain": [
              "treatment          False      True\n",
              "agegrp                            \n",
              "(19.999, 32.5]  0.333349  0.336304\n",
              "(32.5, 47.0]    0.342560  0.347102\n",
              "(47.0, 63.0]    0.324090  0.316594"
            ],
            "text/html": [
              "\n",
              "  <div id=\"df-149aea67-a9ef-46de-84b2-dfc26777f0ab\">\n",
              "    <div class=\"colab-df-container\">\n",
              "      <div>\n",
              "<style scoped>\n",
              "    .dataframe tbody tr th:only-of-type {\n",
              "        vertical-align: middle;\n",
              "    }\n",
              "\n",
              "    .dataframe tbody tr th {\n",
              "        vertical-align: top;\n",
              "    }\n",
              "\n",
              "    .dataframe thead th {\n",
              "        text-align: right;\n",
              "    }\n",
              "</style>\n",
              "<table border=\"1\" class=\"dataframe\">\n",
              "  <thead>\n",
              "    <tr style=\"text-align: right;\">\n",
              "      <th>treatment</th>\n",
              "      <th>False</th>\n",
              "      <th>True</th>\n",
              "    </tr>\n",
              "    <tr>\n",
              "      <th>agegrp</th>\n",
              "      <th></th>\n",
              "      <th></th>\n",
              "    </tr>\n",
              "  </thead>\n",
              "  <tbody>\n",
              "    <tr>\n",
              "      <th>(19.999, 32.5]</th>\n",
              "      <td>0.333349</td>\n",
              "      <td>0.336304</td>\n",
              "    </tr>\n",
              "    <tr>\n",
              "      <th>(32.5, 47.0]</th>\n",
              "      <td>0.342560</td>\n",
              "      <td>0.347102</td>\n",
              "    </tr>\n",
              "    <tr>\n",
              "      <th>(47.0, 63.0]</th>\n",
              "      <td>0.324090</td>\n",
              "      <td>0.316594</td>\n",
              "    </tr>\n",
              "  </tbody>\n",
              "</table>\n",
              "</div>\n",
              "      <button class=\"colab-df-convert\" onclick=\"convertToInteractive('df-149aea67-a9ef-46de-84b2-dfc26777f0ab')\"\n",
              "              title=\"Convert this dataframe to an interactive table.\"\n",
              "              style=\"display:none;\">\n",
              "        \n",
              "  <svg xmlns=\"http://www.w3.org/2000/svg\" height=\"24px\"viewBox=\"0 0 24 24\"\n",
              "       width=\"24px\">\n",
              "    <path d=\"M0 0h24v24H0V0z\" fill=\"none\"/>\n",
              "    <path d=\"M18.56 5.44l.94 2.06.94-2.06 2.06-.94-2.06-.94-.94-2.06-.94 2.06-2.06.94zm-11 1L8.5 8.5l.94-2.06 2.06-.94-2.06-.94L8.5 2.5l-.94 2.06-2.06.94zm10 10l.94 2.06.94-2.06 2.06-.94-2.06-.94-.94-2.06-.94 2.06-2.06.94z\"/><path d=\"M17.41 7.96l-1.37-1.37c-.4-.4-.92-.59-1.43-.59-.52 0-1.04.2-1.43.59L10.3 9.45l-7.72 7.72c-.78.78-.78 2.05 0 2.83L4 21.41c.39.39.9.59 1.41.59.51 0 1.02-.2 1.41-.59l7.78-7.78 2.81-2.81c.8-.78.8-2.07 0-2.86zM5.41 20L4 18.59l7.72-7.72 1.47 1.35L5.41 20z\"/>\n",
              "  </svg>\n",
              "      </button>\n",
              "      \n",
              "  <style>\n",
              "    .colab-df-container {\n",
              "      display:flex;\n",
              "      flex-wrap:wrap;\n",
              "      gap: 12px;\n",
              "    }\n",
              "\n",
              "    .colab-df-convert {\n",
              "      background-color: #E8F0FE;\n",
              "      border: none;\n",
              "      border-radius: 50%;\n",
              "      cursor: pointer;\n",
              "      display: none;\n",
              "      fill: #1967D2;\n",
              "      height: 32px;\n",
              "      padding: 0 0 0 0;\n",
              "      width: 32px;\n",
              "    }\n",
              "\n",
              "    .colab-df-convert:hover {\n",
              "      background-color: #E2EBFA;\n",
              "      box-shadow: 0px 1px 2px rgba(60, 64, 67, 0.3), 0px 1px 3px 1px rgba(60, 64, 67, 0.15);\n",
              "      fill: #174EA6;\n",
              "    }\n",
              "\n",
              "    [theme=dark] .colab-df-convert {\n",
              "      background-color: #3B4455;\n",
              "      fill: #D2E3FC;\n",
              "    }\n",
              "\n",
              "    [theme=dark] .colab-df-convert:hover {\n",
              "      background-color: #434B5C;\n",
              "      box-shadow: 0px 1px 3px 1px rgba(0, 0, 0, 0.15);\n",
              "      filter: drop-shadow(0px 1px 2px rgba(0, 0, 0, 0.3));\n",
              "      fill: #FFFFFF;\n",
              "    }\n",
              "  </style>\n",
              "\n",
              "      <script>\n",
              "        const buttonEl =\n",
              "          document.querySelector('#df-149aea67-a9ef-46de-84b2-dfc26777f0ab button.colab-df-convert');\n",
              "        buttonEl.style.display =\n",
              "          google.colab.kernel.accessAllowed ? 'block' : 'none';\n",
              "\n",
              "        async function convertToInteractive(key) {\n",
              "          const element = document.querySelector('#df-149aea67-a9ef-46de-84b2-dfc26777f0ab');\n",
              "          const dataTable =\n",
              "            await google.colab.kernel.invokeFunction('convertToInteractive',\n",
              "                                                     [key], {});\n",
              "          if (!dataTable) return;\n",
              "\n",
              "          const docLinkHtml = 'Like what you see? Visit the ' +\n",
              "            '<a target=\"_blank\" href=https://colab.research.google.com/notebooks/data_table.ipynb>data table notebook</a>'\n",
              "            + ' to learn more about interactive tables.';\n",
              "          element.innerHTML = '';\n",
              "          dataTable['output_type'] = 'display_data';\n",
              "          await google.colab.output.renderOutput(dataTable, element);\n",
              "          const docLink = document.createElement('div');\n",
              "          docLink.innerHTML = docLinkHtml;\n",
              "          element.appendChild(docLink);\n",
              "        }\n",
              "      </script>\n",
              "    </div>\n",
              "  </div>\n",
              "  "
            ]
          },
          "metadata": {},
          "execution_count": 14
        }
      ],
      "source": [
        "treatment_cond = probs.div(probs.sum(0), 1)\n",
        "treatment_cond"
      ]
    },
    {
      "cell_type": "markdown",
      "metadata": {
        "id": "Pu-pvFEhKAIU"
      },
      "source": [
        "<details>\n",
        "\n",
        "```\n",
        "treatment_cond = probs.div(probs.sum(0), 1)\n",
        "treatment_cond\n",
        "```\n",
        "\n",
        "</details>"
      ]
    },
    {
      "cell_type": "markdown",
      "metadata": {
        "id": "InsC8wCmKAIU"
      },
      "source": [
        "The fact that the conditional probabilities given treatment\n",
        "assignment are roughly constant (at 1/3 per age band) is a\n",
        "consequence of the random treatment assignment, and of the fact that\n",
        "we defined the age bands to include equal fractions of the sample."
      ]
    },
    {
      "cell_type": "markdown",
      "metadata": {
        "id": "rigJA7K4KAIU"
      },
      "source": [
        "## Conditional probabilities of applying for insurance"
      ]
    },
    {
      "cell_type": "markdown",
      "metadata": {
        "id": "D6URVZZCKAIV"
      },
      "source": [
        "Now let's consider a non-randomized variable -- whether a person who\n",
        "is randomly selected to be given the opportunity to apply for\n",
        "insurance actually submits the application."
      ]
    },
    {
      "cell_type": "markdown",
      "metadata": {
        "id": "aS62gLI3KAIV"
      },
      "source": [
        "Create a table `hh_selected` that holds  the people who were selected (i.e. who won the\n",
        "lottery) since those who are not selected cannot apply for insurance\n",
        "under this program."
      ]
    },
    {
      "cell_type": "code",
      "execution_count": 15,
      "metadata": {
        "id": "Pp-xHUqhKAIV"
      },
      "outputs": [],
      "source": [
        "hh_selected = hh.loc[hh[\"treatment\"]]"
      ]
    },
    {
      "cell_type": "markdown",
      "metadata": {
        "id": "r2c_fDf1KAIV"
      },
      "source": [
        "<details>\n",
        "\n",
        "```\n",
        "hh_selected = hh.loc[hh[\"treatment\"]]\n",
        "```\n",
        "\n",
        "</details>"
      ]
    },
    {
      "cell_type": "markdown",
      "metadata": {
        "id": "rfrWr5M0KAIV"
      },
      "source": [
        "Next, calculate counts and proportions for each combination of age\n",
        "and 'applied_app', which tells us whether each household submitted the\n",
        "application to obtain insurance."
      ]
    },
    {
      "cell_type": "code",
      "execution_count": 16,
      "metadata": {
        "colab": {
          "base_uri": "https://localhost:8080/",
          "height": 175
        },
        "id": "05y4m11iKAIV",
        "outputId": "073baab1-f25f-4e4c-adf5-96bd23c3e14e"
      },
      "outputs": [
        {
          "output_type": "execute_result",
          "data": {
            "text/plain": [
              "applied_app        False      True\n",
              "agegrp                            \n",
              "(19.999, 32.5]  0.155548  0.180756\n",
              "(32.5, 47.0]    0.126365  0.220737\n",
              "(47.0, 63.0]    0.099189  0.217405"
            ],
            "text/html": [
              "\n",
              "  <div id=\"df-117f615f-ad80-405a-aaf8-546ad00d8e8c\">\n",
              "    <div class=\"colab-df-container\">\n",
              "      <div>\n",
              "<style scoped>\n",
              "    .dataframe tbody tr th:only-of-type {\n",
              "        vertical-align: middle;\n",
              "    }\n",
              "\n",
              "    .dataframe tbody tr th {\n",
              "        vertical-align: top;\n",
              "    }\n",
              "\n",
              "    .dataframe thead th {\n",
              "        text-align: right;\n",
              "    }\n",
              "</style>\n",
              "<table border=\"1\" class=\"dataframe\">\n",
              "  <thead>\n",
              "    <tr style=\"text-align: right;\">\n",
              "      <th>applied_app</th>\n",
              "      <th>False</th>\n",
              "      <th>True</th>\n",
              "    </tr>\n",
              "    <tr>\n",
              "      <th>agegrp</th>\n",
              "      <th></th>\n",
              "      <th></th>\n",
              "    </tr>\n",
              "  </thead>\n",
              "  <tbody>\n",
              "    <tr>\n",
              "      <th>(19.999, 32.5]</th>\n",
              "      <td>0.155548</td>\n",
              "      <td>0.180756</td>\n",
              "    </tr>\n",
              "    <tr>\n",
              "      <th>(32.5, 47.0]</th>\n",
              "      <td>0.126365</td>\n",
              "      <td>0.220737</td>\n",
              "    </tr>\n",
              "    <tr>\n",
              "      <th>(47.0, 63.0]</th>\n",
              "      <td>0.099189</td>\n",
              "      <td>0.217405</td>\n",
              "    </tr>\n",
              "  </tbody>\n",
              "</table>\n",
              "</div>\n",
              "      <button class=\"colab-df-convert\" onclick=\"convertToInteractive('df-117f615f-ad80-405a-aaf8-546ad00d8e8c')\"\n",
              "              title=\"Convert this dataframe to an interactive table.\"\n",
              "              style=\"display:none;\">\n",
              "        \n",
              "  <svg xmlns=\"http://www.w3.org/2000/svg\" height=\"24px\"viewBox=\"0 0 24 24\"\n",
              "       width=\"24px\">\n",
              "    <path d=\"M0 0h24v24H0V0z\" fill=\"none\"/>\n",
              "    <path d=\"M18.56 5.44l.94 2.06.94-2.06 2.06-.94-2.06-.94-.94-2.06-.94 2.06-2.06.94zm-11 1L8.5 8.5l.94-2.06 2.06-.94-2.06-.94L8.5 2.5l-.94 2.06-2.06.94zm10 10l.94 2.06.94-2.06 2.06-.94-2.06-.94-.94-2.06-.94 2.06-2.06.94z\"/><path d=\"M17.41 7.96l-1.37-1.37c-.4-.4-.92-.59-1.43-.59-.52 0-1.04.2-1.43.59L10.3 9.45l-7.72 7.72c-.78.78-.78 2.05 0 2.83L4 21.41c.39.39.9.59 1.41.59.51 0 1.02-.2 1.41-.59l7.78-7.78 2.81-2.81c.8-.78.8-2.07 0-2.86zM5.41 20L4 18.59l7.72-7.72 1.47 1.35L5.41 20z\"/>\n",
              "  </svg>\n",
              "      </button>\n",
              "      \n",
              "  <style>\n",
              "    .colab-df-container {\n",
              "      display:flex;\n",
              "      flex-wrap:wrap;\n",
              "      gap: 12px;\n",
              "    }\n",
              "\n",
              "    .colab-df-convert {\n",
              "      background-color: #E8F0FE;\n",
              "      border: none;\n",
              "      border-radius: 50%;\n",
              "      cursor: pointer;\n",
              "      display: none;\n",
              "      fill: #1967D2;\n",
              "      height: 32px;\n",
              "      padding: 0 0 0 0;\n",
              "      width: 32px;\n",
              "    }\n",
              "\n",
              "    .colab-df-convert:hover {\n",
              "      background-color: #E2EBFA;\n",
              "      box-shadow: 0px 1px 2px rgba(60, 64, 67, 0.3), 0px 1px 3px 1px rgba(60, 64, 67, 0.15);\n",
              "      fill: #174EA6;\n",
              "    }\n",
              "\n",
              "    [theme=dark] .colab-df-convert {\n",
              "      background-color: #3B4455;\n",
              "      fill: #D2E3FC;\n",
              "    }\n",
              "\n",
              "    [theme=dark] .colab-df-convert:hover {\n",
              "      background-color: #434B5C;\n",
              "      box-shadow: 0px 1px 3px 1px rgba(0, 0, 0, 0.15);\n",
              "      filter: drop-shadow(0px 1px 2px rgba(0, 0, 0, 0.3));\n",
              "      fill: #FFFFFF;\n",
              "    }\n",
              "  </style>\n",
              "\n",
              "      <script>\n",
              "        const buttonEl =\n",
              "          document.querySelector('#df-117f615f-ad80-405a-aaf8-546ad00d8e8c button.colab-df-convert');\n",
              "        buttonEl.style.display =\n",
              "          google.colab.kernel.accessAllowed ? 'block' : 'none';\n",
              "\n",
              "        async function convertToInteractive(key) {\n",
              "          const element = document.querySelector('#df-117f615f-ad80-405a-aaf8-546ad00d8e8c');\n",
              "          const dataTable =\n",
              "            await google.colab.kernel.invokeFunction('convertToInteractive',\n",
              "                                                     [key], {});\n",
              "          if (!dataTable) return;\n",
              "\n",
              "          const docLinkHtml = 'Like what you see? Visit the ' +\n",
              "            '<a target=\"_blank\" href=https://colab.research.google.com/notebooks/data_table.ipynb>data table notebook</a>'\n",
              "            + ' to learn more about interactive tables.';\n",
              "          element.innerHTML = '';\n",
              "          dataTable['output_type'] = 'display_data';\n",
              "          await google.colab.output.renderOutput(dataTable, element);\n",
              "          const docLink = document.createElement('div');\n",
              "          docLink.innerHTML = docLinkHtml;\n",
              "          element.appendChild(docLink);\n",
              "        }\n",
              "      </script>\n",
              "    </div>\n",
              "  </div>\n",
              "  "
            ]
          },
          "metadata": {},
          "execution_count": 16
        }
      ],
      "source": [
        "counts = hh_selected.groupby([\"agegrp\", \"applied_app\"]).size().unstack()\n",
        "probs = counts / counts.sum().sum()\n",
        "probs"
      ]
    },
    {
      "cell_type": "markdown",
      "metadata": {
        "id": "XxYB55WxKAIV"
      },
      "source": [
        "<details>\n",
        "\n",
        "```\n",
        "counts = hh_selected.groupby([\"agegrp\", \"applied_app\"]).size().unstack()\n",
        "probs = counts / counts.sum().sum()\n",
        "probs\n",
        "```\n",
        "\n",
        "</details>"
      ]
    },
    {
      "cell_type": "markdown",
      "metadata": {
        "id": "tY7nilC2KAIV"
      },
      "source": [
        "Find the marginal probabilities with for the age groups (`age_marg`) and applied for treatment status (`app_marg`)."
      ]
    },
    {
      "cell_type": "code",
      "execution_count": 17,
      "metadata": {
        "id": "3vC3BBe9KAIW"
      },
      "outputs": [],
      "source": [
        "age_marg = probs.sum(1)\n",
        "app_marg = probs.sum(0)"
      ]
    },
    {
      "cell_type": "markdown",
      "metadata": {
        "id": "0IGrki6XKAIW"
      },
      "source": [
        "<details>\n",
        "    \n",
        "```\n",
        "age_marg = probs.sum(1)\n",
        "app_marg = probs.sum(0)\n",
        "```\n",
        "    \n",
        "</details>"
      ]
    },
    {
      "cell_type": "markdown",
      "metadata": {
        "id": "UqSFZLFqKAIW"
      },
      "source": [
        "Create the conditional probabilities for both measurments."
      ]
    },
    {
      "cell_type": "code",
      "execution_count": 18,
      "metadata": {
        "id": "aSY8b8U_KAIW"
      },
      "outputs": [],
      "source": [
        "age_cond = probs.div(age_marg, axis = 0)\n",
        "app_cond = probs.div(app_marg, axis = 1)"
      ]
    },
    {
      "cell_type": "markdown",
      "metadata": {
        "id": "KzpAtH6AKAIW"
      },
      "source": [
        "<details>\n",
        "\n",
        "```\n",
        "age_cond = probs.div(age_marg, axis = 0)\n",
        "app_cond = probs.div(app_marg, axis = 1)\n",
        "```\n",
        "\n",
        "</details>"
      ]
    },
    {
      "cell_type": "markdown",
      "metadata": {
        "id": "FemVYNUIKAIW"
      },
      "source": [
        "How are these values different from what we saw before?"
      ]
    },
    {
      "cell_type": "markdown",
      "metadata": {
        "id": "-f-mivRuKAIW"
      },
      "source": [
        "*Write your answer here.*"
      ]
    },
    {
      "cell_type": "markdown",
      "metadata": {
        "id": "VVERbfF1KAIW"
      },
      "source": [
        "<details>\n",
        "\n",
        "```\n",
        "age_marg\n",
        "```\n",
        "\n",
        "If we print out the table we notice that as the groups get older, the conditinal probability of completing the app increases.\n",
        "</details>"
      ]
    },
    {
      "cell_type": "markdown",
      "metadata": {
        "id": "A8NY98vRKAIW"
      },
      "source": [
        "# Independence"
      ]
    },
    {
      "cell_type": "markdown",
      "metadata": {
        "id": "A1lZMbAhKAIX"
      },
      "source": [
        "Two events A and B are statistically independent if P(A, B) =\n",
        "P(A)*P(B).  To illustrate this concept using the OHIE data, we\n",
        "consider whether the event of applying for insurance is independent\n",
        "of age, considering only people who were given the opportunity to\n",
        "apply (i.e. who won the lottery)."
      ]
    },
    {
      "cell_type": "markdown",
      "metadata": {
        "id": "r89jD7CrKAIX"
      },
      "source": [
        "If two random variables are independent, then the joint\n",
        "probabilities can be constructed as the product of the marginal\n",
        "probabilities. \n",
        "\n",
        "Use the `np.outer` function and the marginal probabilities from the previous section to compute the probabilies that we would observe if these two measurments were independent. Call the result `ind`."
      ]
    },
    {
      "cell_type": "code",
      "execution_count": 19,
      "metadata": {
        "colab": {
          "base_uri": "https://localhost:8080/"
        },
        "id": "nCZ7kbGQKAIX",
        "outputId": "9d50197f-600c-400b-80c6-44fa0b1cb878"
      },
      "outputs": [
        {
          "output_type": "execute_result",
          "data": {
            "text/plain": [
              "array([[0.12816587, 0.20813792],\n",
              "       [0.13228101, 0.21482079],\n",
              "       [0.1206546 , 0.19593981]])"
            ]
          },
          "metadata": {},
          "execution_count": 19
        }
      ],
      "source": [
        "ind = np.outer(age_marg, app_marg)\n",
        "ind"
      ]
    },
    {
      "cell_type": "markdown",
      "metadata": {
        "id": "NqYCi_a8KAIX"
      },
      "source": [
        "<details>\n",
        "\n",
        "```\n",
        "ind = np.outer(age_marg, app_marg)\n",
        "ind\n",
        "```\n",
        "\n",
        "</details>"
      ]
    },
    {
      "cell_type": "markdown",
      "metadata": {
        "id": "E3pukBi1KAIX"
      },
      "source": [
        "These joint probabilities represent the closest exactly independent\n",
        "distribution to the observed distribution of our data.\n",
        "\n",
        "Next we can compare these exactly independent joint probabilities to\n",
        "the observed joint probabilities. Compute the difference between the observed probabilities and `ind`."
      ]
    },
    {
      "cell_type": "code",
      "execution_count": 20,
      "metadata": {
        "colab": {
          "base_uri": "https://localhost:8080/",
          "height": 175
        },
        "id": "xlBy72K-KAIX",
        "outputId": "d1a2d300-dd36-4c13-ee7b-75638ef142a9"
      },
      "outputs": [
        {
          "output_type": "execute_result",
          "data": {
            "text/plain": [
              "applied_app        False      True\n",
              "agegrp                            \n",
              "(19.999, 32.5]  0.027382 -0.027382\n",
              "(32.5, 47.0]   -0.005916  0.005916\n",
              "(47.0, 63.0]   -0.021465  0.021465"
            ],
            "text/html": [
              "\n",
              "  <div id=\"df-99005a77-f890-4a85-8b58-d270086b2869\">\n",
              "    <div class=\"colab-df-container\">\n",
              "      <div>\n",
              "<style scoped>\n",
              "    .dataframe tbody tr th:only-of-type {\n",
              "        vertical-align: middle;\n",
              "    }\n",
              "\n",
              "    .dataframe tbody tr th {\n",
              "        vertical-align: top;\n",
              "    }\n",
              "\n",
              "    .dataframe thead th {\n",
              "        text-align: right;\n",
              "    }\n",
              "</style>\n",
              "<table border=\"1\" class=\"dataframe\">\n",
              "  <thead>\n",
              "    <tr style=\"text-align: right;\">\n",
              "      <th>applied_app</th>\n",
              "      <th>False</th>\n",
              "      <th>True</th>\n",
              "    </tr>\n",
              "    <tr>\n",
              "      <th>agegrp</th>\n",
              "      <th></th>\n",
              "      <th></th>\n",
              "    </tr>\n",
              "  </thead>\n",
              "  <tbody>\n",
              "    <tr>\n",
              "      <th>(19.999, 32.5]</th>\n",
              "      <td>0.027382</td>\n",
              "      <td>-0.027382</td>\n",
              "    </tr>\n",
              "    <tr>\n",
              "      <th>(32.5, 47.0]</th>\n",
              "      <td>-0.005916</td>\n",
              "      <td>0.005916</td>\n",
              "    </tr>\n",
              "    <tr>\n",
              "      <th>(47.0, 63.0]</th>\n",
              "      <td>-0.021465</td>\n",
              "      <td>0.021465</td>\n",
              "    </tr>\n",
              "  </tbody>\n",
              "</table>\n",
              "</div>\n",
              "      <button class=\"colab-df-convert\" onclick=\"convertToInteractive('df-99005a77-f890-4a85-8b58-d270086b2869')\"\n",
              "              title=\"Convert this dataframe to an interactive table.\"\n",
              "              style=\"display:none;\">\n",
              "        \n",
              "  <svg xmlns=\"http://www.w3.org/2000/svg\" height=\"24px\"viewBox=\"0 0 24 24\"\n",
              "       width=\"24px\">\n",
              "    <path d=\"M0 0h24v24H0V0z\" fill=\"none\"/>\n",
              "    <path d=\"M18.56 5.44l.94 2.06.94-2.06 2.06-.94-2.06-.94-.94-2.06-.94 2.06-2.06.94zm-11 1L8.5 8.5l.94-2.06 2.06-.94-2.06-.94L8.5 2.5l-.94 2.06-2.06.94zm10 10l.94 2.06.94-2.06 2.06-.94-2.06-.94-.94-2.06-.94 2.06-2.06.94z\"/><path d=\"M17.41 7.96l-1.37-1.37c-.4-.4-.92-.59-1.43-.59-.52 0-1.04.2-1.43.59L10.3 9.45l-7.72 7.72c-.78.78-.78 2.05 0 2.83L4 21.41c.39.39.9.59 1.41.59.51 0 1.02-.2 1.41-.59l7.78-7.78 2.81-2.81c.8-.78.8-2.07 0-2.86zM5.41 20L4 18.59l7.72-7.72 1.47 1.35L5.41 20z\"/>\n",
              "  </svg>\n",
              "      </button>\n",
              "      \n",
              "  <style>\n",
              "    .colab-df-container {\n",
              "      display:flex;\n",
              "      flex-wrap:wrap;\n",
              "      gap: 12px;\n",
              "    }\n",
              "\n",
              "    .colab-df-convert {\n",
              "      background-color: #E8F0FE;\n",
              "      border: none;\n",
              "      border-radius: 50%;\n",
              "      cursor: pointer;\n",
              "      display: none;\n",
              "      fill: #1967D2;\n",
              "      height: 32px;\n",
              "      padding: 0 0 0 0;\n",
              "      width: 32px;\n",
              "    }\n",
              "\n",
              "    .colab-df-convert:hover {\n",
              "      background-color: #E2EBFA;\n",
              "      box-shadow: 0px 1px 2px rgba(60, 64, 67, 0.3), 0px 1px 3px 1px rgba(60, 64, 67, 0.15);\n",
              "      fill: #174EA6;\n",
              "    }\n",
              "\n",
              "    [theme=dark] .colab-df-convert {\n",
              "      background-color: #3B4455;\n",
              "      fill: #D2E3FC;\n",
              "    }\n",
              "\n",
              "    [theme=dark] .colab-df-convert:hover {\n",
              "      background-color: #434B5C;\n",
              "      box-shadow: 0px 1px 3px 1px rgba(0, 0, 0, 0.15);\n",
              "      filter: drop-shadow(0px 1px 2px rgba(0, 0, 0, 0.3));\n",
              "      fill: #FFFFFF;\n",
              "    }\n",
              "  </style>\n",
              "\n",
              "      <script>\n",
              "        const buttonEl =\n",
              "          document.querySelector('#df-99005a77-f890-4a85-8b58-d270086b2869 button.colab-df-convert');\n",
              "        buttonEl.style.display =\n",
              "          google.colab.kernel.accessAllowed ? 'block' : 'none';\n",
              "\n",
              "        async function convertToInteractive(key) {\n",
              "          const element = document.querySelector('#df-99005a77-f890-4a85-8b58-d270086b2869');\n",
              "          const dataTable =\n",
              "            await google.colab.kernel.invokeFunction('convertToInteractive',\n",
              "                                                     [key], {});\n",
              "          if (!dataTable) return;\n",
              "\n",
              "          const docLinkHtml = 'Like what you see? Visit the ' +\n",
              "            '<a target=\"_blank\" href=https://colab.research.google.com/notebooks/data_table.ipynb>data table notebook</a>'\n",
              "            + ' to learn more about interactive tables.';\n",
              "          element.innerHTML = '';\n",
              "          dataTable['output_type'] = 'display_data';\n",
              "          await google.colab.output.renderOutput(dataTable, element);\n",
              "          const docLink = document.createElement('div');\n",
              "          docLink.innerHTML = docLinkHtml;\n",
              "          element.appendChild(docLink);\n",
              "        }\n",
              "      </script>\n",
              "    </div>\n",
              "  </div>\n",
              "  "
            ]
          },
          "metadata": {},
          "execution_count": 20
        }
      ],
      "source": [
        "resid = probs - ind\n",
        "resid"
      ]
    },
    {
      "cell_type": "markdown",
      "metadata": {
        "id": "EAYH7DqIKAIX"
      },
      "source": [
        "<details>\n",
        "\n",
        "```\n",
        "resid = probs - ind\n",
        "resid\n",
        "```\n",
        "\n",
        "</details>"
      ]
    },
    {
      "cell_type": "markdown",
      "metadata": {
        "id": "yHkVcRPRKAIX"
      },
      "source": [
        "We notice that the differences are not exactly zero, but would this lead to a very different sample if we were talking about counts? \n",
        "\n",
        "Using the `counts` from ealiers, compute the total number of observations `n`.\n",
        "\n",
        "Scale up the `probs` and the `ind` tables be on the scale of counts."
      ]
    },
    {
      "cell_type": "code",
      "execution_count": 21,
      "metadata": {
        "id": "u8MTqiwwKAIX"
      },
      "outputs": [],
      "source": [
        "n = counts.sum().sum()\n",
        "diff_counts = resid * n\n",
        "expected_ind = n * ind"
      ]
    },
    {
      "cell_type": "markdown",
      "metadata": {
        "id": "J8hDj-FDKAIY"
      },
      "source": [
        "<details>\n",
        "    \n",
        "```\n",
        "n = counts.sum().sum()\n",
        "diff_counts = resid * n\n",
        "expected_ind = n * ind\n",
        "```\n",
        "\n",
        "</details>"
      ]
    },
    {
      "cell_type": "markdown",
      "metadata": {
        "id": "r1rTa1JdKAIY"
      },
      "source": [
        "Now divide the the difference by the square root of the expected counts (`np.sqrt`)."
      ]
    },
    {
      "cell_type": "code",
      "execution_count": 22,
      "metadata": {
        "colab": {
          "base_uri": "https://localhost:8080/",
          "height": 175
        },
        "id": "zPkSSxfRKAIY",
        "outputId": "78e6f70e-5d76-4d64-ca21-60e93bfdc048"
      },
      "outputs": [
        {
          "output_type": "execute_result",
          "data": {
            "text/plain": [
              "applied_app         False      True\n",
              "agegrp                             \n",
              "(19.999, 32.5]  12.071961 -9.473019\n",
              "(32.5, 47.0]    -2.567430  2.014695\n",
              "(47.0, 63.0]    -9.753768  7.653904"
            ],
            "text/html": [
              "\n",
              "  <div id=\"df-e3c092f2-5c78-4943-be96-c8f99dc54123\">\n",
              "    <div class=\"colab-df-container\">\n",
              "      <div>\n",
              "<style scoped>\n",
              "    .dataframe tbody tr th:only-of-type {\n",
              "        vertical-align: middle;\n",
              "    }\n",
              "\n",
              "    .dataframe tbody tr th {\n",
              "        vertical-align: top;\n",
              "    }\n",
              "\n",
              "    .dataframe thead th {\n",
              "        text-align: right;\n",
              "    }\n",
              "</style>\n",
              "<table border=\"1\" class=\"dataframe\">\n",
              "  <thead>\n",
              "    <tr style=\"text-align: right;\">\n",
              "      <th>applied_app</th>\n",
              "      <th>False</th>\n",
              "      <th>True</th>\n",
              "    </tr>\n",
              "    <tr>\n",
              "      <th>agegrp</th>\n",
              "      <th></th>\n",
              "      <th></th>\n",
              "    </tr>\n",
              "  </thead>\n",
              "  <tbody>\n",
              "    <tr>\n",
              "      <th>(19.999, 32.5]</th>\n",
              "      <td>12.071961</td>\n",
              "      <td>-9.473019</td>\n",
              "    </tr>\n",
              "    <tr>\n",
              "      <th>(32.5, 47.0]</th>\n",
              "      <td>-2.567430</td>\n",
              "      <td>2.014695</td>\n",
              "    </tr>\n",
              "    <tr>\n",
              "      <th>(47.0, 63.0]</th>\n",
              "      <td>-9.753768</td>\n",
              "      <td>7.653904</td>\n",
              "    </tr>\n",
              "  </tbody>\n",
              "</table>\n",
              "</div>\n",
              "      <button class=\"colab-df-convert\" onclick=\"convertToInteractive('df-e3c092f2-5c78-4943-be96-c8f99dc54123')\"\n",
              "              title=\"Convert this dataframe to an interactive table.\"\n",
              "              style=\"display:none;\">\n",
              "        \n",
              "  <svg xmlns=\"http://www.w3.org/2000/svg\" height=\"24px\"viewBox=\"0 0 24 24\"\n",
              "       width=\"24px\">\n",
              "    <path d=\"M0 0h24v24H0V0z\" fill=\"none\"/>\n",
              "    <path d=\"M18.56 5.44l.94 2.06.94-2.06 2.06-.94-2.06-.94-.94-2.06-.94 2.06-2.06.94zm-11 1L8.5 8.5l.94-2.06 2.06-.94-2.06-.94L8.5 2.5l-.94 2.06-2.06.94zm10 10l.94 2.06.94-2.06 2.06-.94-2.06-.94-.94-2.06-.94 2.06-2.06.94z\"/><path d=\"M17.41 7.96l-1.37-1.37c-.4-.4-.92-.59-1.43-.59-.52 0-1.04.2-1.43.59L10.3 9.45l-7.72 7.72c-.78.78-.78 2.05 0 2.83L4 21.41c.39.39.9.59 1.41.59.51 0 1.02-.2 1.41-.59l7.78-7.78 2.81-2.81c.8-.78.8-2.07 0-2.86zM5.41 20L4 18.59l7.72-7.72 1.47 1.35L5.41 20z\"/>\n",
              "  </svg>\n",
              "      </button>\n",
              "      \n",
              "  <style>\n",
              "    .colab-df-container {\n",
              "      display:flex;\n",
              "      flex-wrap:wrap;\n",
              "      gap: 12px;\n",
              "    }\n",
              "\n",
              "    .colab-df-convert {\n",
              "      background-color: #E8F0FE;\n",
              "      border: none;\n",
              "      border-radius: 50%;\n",
              "      cursor: pointer;\n",
              "      display: none;\n",
              "      fill: #1967D2;\n",
              "      height: 32px;\n",
              "      padding: 0 0 0 0;\n",
              "      width: 32px;\n",
              "    }\n",
              "\n",
              "    .colab-df-convert:hover {\n",
              "      background-color: #E2EBFA;\n",
              "      box-shadow: 0px 1px 2px rgba(60, 64, 67, 0.3), 0px 1px 3px 1px rgba(60, 64, 67, 0.15);\n",
              "      fill: #174EA6;\n",
              "    }\n",
              "\n",
              "    [theme=dark] .colab-df-convert {\n",
              "      background-color: #3B4455;\n",
              "      fill: #D2E3FC;\n",
              "    }\n",
              "\n",
              "    [theme=dark] .colab-df-convert:hover {\n",
              "      background-color: #434B5C;\n",
              "      box-shadow: 0px 1px 3px 1px rgba(0, 0, 0, 0.15);\n",
              "      filter: drop-shadow(0px 1px 2px rgba(0, 0, 0, 0.3));\n",
              "      fill: #FFFFFF;\n",
              "    }\n",
              "  </style>\n",
              "\n",
              "      <script>\n",
              "        const buttonEl =\n",
              "          document.querySelector('#df-e3c092f2-5c78-4943-be96-c8f99dc54123 button.colab-df-convert');\n",
              "        buttonEl.style.display =\n",
              "          google.colab.kernel.accessAllowed ? 'block' : 'none';\n",
              "\n",
              "        async function convertToInteractive(key) {\n",
              "          const element = document.querySelector('#df-e3c092f2-5c78-4943-be96-c8f99dc54123');\n",
              "          const dataTable =\n",
              "            await google.colab.kernel.invokeFunction('convertToInteractive',\n",
              "                                                     [key], {});\n",
              "          if (!dataTable) return;\n",
              "\n",
              "          const docLinkHtml = 'Like what you see? Visit the ' +\n",
              "            '<a target=\"_blank\" href=https://colab.research.google.com/notebooks/data_table.ipynb>data table notebook</a>'\n",
              "            + ' to learn more about interactive tables.';\n",
              "          element.innerHTML = '';\n",
              "          dataTable['output_type'] = 'display_data';\n",
              "          await google.colab.output.renderOutput(dataTable, element);\n",
              "          const docLink = document.createElement('div');\n",
              "          docLink.innerHTML = docLinkHtml;\n",
              "          element.appendChild(docLink);\n",
              "        }\n",
              "      </script>\n",
              "    </div>\n",
              "  </div>\n",
              "  "
            ]
          },
          "metadata": {},
          "execution_count": 22
        }
      ],
      "source": [
        "(n * resid) / np.sqrt(n * ind)"
      ]
    },
    {
      "cell_type": "markdown",
      "metadata": {
        "id": "JHCIsLaOKAIY"
      },
      "source": [
        "<details>\n",
        "\n",
        "```\n",
        "(n * resid) / np.sqrt(n * ind)\n",
        "```\n",
        "\n",
        "</details>"
      ]
    },
    {
      "cell_type": "markdown",
      "metadata": {
        "id": "PDilKXF6KAIY"
      },
      "source": [
        "Recall that the choice to submit an application *was not randomly assigned*, and we are seeing a tendencing for yonger people not to follow through after being selected in the lottery."
      ]
    }
  ],
  "metadata": {
    "jupytext": {
      "cell_metadata_filter": "-all",
      "main_language": "python",
      "notebook_metadata_filter": "-all"
    },
    "kernelspec": {
      "display_name": "Python 3 (ipykernel)",
      "language": "python",
      "name": "python3"
    },
    "language_info": {
      "codemirror_mode": {
        "name": "ipython",
        "version": 3
      },
      "file_extension": ".py",
      "mimetype": "text/x-python",
      "name": "python",
      "nbconvert_exporter": "python",
      "pygments_lexer": "ipython3",
      "version": "3.9.7"
    },
    "colab": {
      "provenance": [],
      "include_colab_link": true
    }
  },
  "nbformat": 4,
  "nbformat_minor": 0
}